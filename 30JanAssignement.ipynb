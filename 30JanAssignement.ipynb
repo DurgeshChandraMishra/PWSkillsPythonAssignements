{
 "cells": [
  {
   "cell_type": "markdown",
   "id": "f8e06902-2078-4ef5-a51f-3b12acb8a196",
   "metadata": {},
   "source": [
    "## Ans 1 . Program to print grade "
   ]
  },
  {
   "cell_type": "code",
   "execution_count": 1,
   "id": "dbf77006-705c-4ec0-9d86-f2a51d908708",
   "metadata": {},
   "outputs": [
    {
     "name": "stdin",
     "output_type": "stream",
     "text": [
      "Please input percentage 85\n"
     ]
    },
    {
     "name": "stdout",
     "output_type": "stream",
     "text": [
      "Grade is  B\n"
     ]
    }
   ],
   "source": [
    "per = float(input(\"Please input percentage\"))\n",
    "grade = ''\n",
    "if per > 90 :\n",
    "    grade = 'A'\n",
    "elif per > 80 :\n",
    "    grade = 'B'\n",
    "elif per > 60 :\n",
    "    grade = 'C'\n",
    "else :\n",
    "    grade = 'D'\n",
    "print(\"Grade is \",grade)"
   ]
  },
  {
   "cell_type": "markdown",
   "id": "9bc7a99d-3657-4b32-bf7c-06fddf308709",
   "metadata": {},
   "source": [
    "## Ans 2 . Program to get road tax based on price"
   ]
  },
  {
   "cell_type": "code",
   "execution_count": 2,
   "id": "a75b8c2e-c4d9-490e-9ff0-a0acab4fead0",
   "metadata": {},
   "outputs": [
    {
     "name": "stdin",
     "output_type": "stream",
     "text": [
      "Please enter bike price 10000500\n"
     ]
    },
    {
     "name": "stdout",
     "output_type": "stream",
     "text": [
      "You have to pay Rs.1500075.0 as tax\n"
     ]
    }
   ],
   "source": [
    "bikePrice = float(input(\"Please enter bike price\"))\n",
    "tax = 0\n",
    "if bikePrice > 100000 :\n",
    "    tax = 15\n",
    "elif bikePrice > 50000 :\n",
    "    tax = 10\n",
    "else :\n",
    "    tax = 5\n",
    "print(\"You have to pay Rs.{} as tax\".format(bikePrice*tax/100))"
   ]
  },
  {
   "cell_type": "markdown",
   "id": "27995eef-796c-4089-972c-d5f1dad9bf10",
   "metadata": {},
   "source": [
    "## Ans 3. Program to print monument based on city"
   ]
  },
  {
   "cell_type": "code",
   "execution_count": 3,
   "id": "6e20d475-0b76-4148-afc5-8dda230ac487",
   "metadata": {},
   "outputs": [
    {
     "name": "stdin",
     "output_type": "stream",
     "text": [
      "Please enter city :  agra\n"
     ]
    },
    {
     "name": "stdout",
     "output_type": "stream",
     "text": [
      "Famous Monument in Agra is Taj Mahal\n"
     ]
    }
   ],
   "source": [
    "city = str(input(\"Please enter city : \"))\n",
    "city = city.capitalize()\n",
    "if city == 'Delhi' :\n",
    "    print(f\"Famous Monument in {city} is Red Fort\")\n",
    "elif city == 'Agra' :\n",
    "    print(f\"Famous Monument in {city} is Taj Mahal\")\n",
    "elif city == 'Jaipur' :\n",
    "    print(f\"Famous Monument in {city} is Jal Mahal\")\n"
   ]
  },
  {
   "cell_type": "markdown",
   "id": "e1411cf6-79fe-4b2f-8a08-170e7dbe6209",
   "metadata": {},
   "source": [
    "## Ans 4 . Program to find number of time a given number can be divided befor reaching to less than or equal to 10"
   ]
  },
  {
   "cell_type": "code",
   "execution_count": 8,
   "id": "6b0c7473-9e95-4f78-b71e-58c1b2926fe5",
   "metadata": {},
   "outputs": [
    {
     "name": "stdin",
     "output_type": "stream",
     "text": [
      "Please enter any integer number : 120\n"
     ]
    },
    {
     "name": "stdout",
     "output_type": "stream",
     "text": [
      " Number can be divided by 3, 3 number of times\n"
     ]
    }
   ],
   "source": [
    "number = int(input(\"Please enter any integer number :\"))\n",
    "cnt = 0\n",
    "while(number >10) :\n",
    "    number /= 3\n",
    "    cnt +=1\n",
    "print(f\" Number can be divided by 3, {cnt} number of times\")"
   ]
  },
  {
   "cell_type": "markdown",
   "id": "51c39a55-863e-4bcf-88fc-cfec9dc4b611",
   "metadata": {},
   "source": [
    "## 5. Why and when to use while loop in Python ? Give a detailed description with example."
   ]
  },
  {
   "cell_type": "markdown",
   "id": "c841cc3b-7ee7-4c5a-af04-30b871fe5afc",
   "metadata": {},
   "source": [
    "We should use while loop when we have to execute a set of statements repeatedly upto a certain condition .\n",
    "While loop executes statements in its block as long as a condition is true \n",
    "while condition :\n",
    "    statement1\n",
    "    statement2\n",
    "    .\n",
    "    .\n",
    "\n",
    "First it checks condition if it is true then enters the block of while and executes statements one by one\n",
    "When all statement are executed then it checks condition if it is true then again process the same and keep on repeating the execution of statements of while loop block till conditon becomes false.\n",
    "We must take care of condition otherwise it will become infinite.\n",
    "\n",
    "Example of while loop check whether a number is prime or not\n"
   ]
  },
  {
   "cell_type": "code",
   "execution_count": 7,
   "id": "d64ad3fa-6e78-4995-8933-ab4742e8ff0e",
   "metadata": {},
   "outputs": [
    {
     "name": "stdin",
     "output_type": "stream",
     "text": [
      "Enter any number 127\n"
     ]
    },
    {
     "name": "stdout",
     "output_type": "stream",
     "text": [
      "127 is prime\n"
     ]
    }
   ],
   "source": [
    "num = int(input(\"Enter any number\"))\n",
    "i = num // 2\n",
    "isPrime = True\n",
    "while i > 1 :\n",
    "    if num % i == 0 :\n",
    "        isPrime = False\n",
    "        break\n",
    "    else :\n",
    "        i -=1\n",
    "if isPrime == False :\n",
    "    print(\"{} is not prime\".format(num))\n",
    "else :\n",
    "    print(\"{} is prime\".format(num))"
   ]
  },
  {
   "cell_type": "markdown",
   "id": "7bff3609-dd77-427a-abe3-f26860a5df88",
   "metadata": {},
   "source": [
    "## 6. Use nested while loop to print 3 different pattern"
   ]
  },
  {
   "cell_type": "code",
   "execution_count": 13,
   "id": "02137ed6-f0aa-4849-9636-75d0521f3ff4",
   "metadata": {},
   "outputs": [
    {
     "name": "stdout",
     "output_type": "stream",
     "text": [
      "*****\n",
      "****\n",
      "***\n",
      "**\n",
      "*\n"
     ]
    }
   ],
   "source": [
    "i = 5\n",
    "while i >= 1:\n",
    "    j=i\n",
    "    while j >= 1 :\n",
    "        print('*', end = '')\n",
    "        j -= 1\n",
    "    i -=1\n",
    "    print(\"\\r\")\n",
    "    \n",
    "    "
   ]
  },
  {
   "cell_type": "code",
   "execution_count": 5,
   "id": "17fdfeca-b710-4467-9a39-9e5c16f8e56d",
   "metadata": {},
   "outputs": [
    {
     "name": "stdout",
     "output_type": "stream",
     "text": [
      "*\n",
      "**\n",
      "***\n",
      "****\n",
      "*****\n"
     ]
    }
   ],
   "source": [
    "i = 1\n",
    "while i <= 5:\n",
    "    j=1\n",
    "    while j <= i :\n",
    "        print('*', end = '')\n",
    "        j += 1\n",
    "    i +=1\n",
    "    print(\"\\r\")"
   ]
  },
  {
   "cell_type": "code",
   "execution_count": 2,
   "id": "9f1555e9-5fa6-4888-b8b0-fb19bc252519",
   "metadata": {},
   "outputs": [
    {
     "name": "stdout",
     "output_type": "stream",
     "text": [
      "     *\n",
      "    **\n",
      "   ***\n",
      "  ****\n",
      " *****\n"
     ]
    }
   ],
   "source": [
    "i = 1\n",
    "while i <= 5:\n",
    "    j=1 \n",
    "    print(' '.ljust(6-i),end = '',sep='')\n",
    "    while j <= i :\n",
    "        print('*', end = '',sep='')\n",
    "        j += 1\n",
    "    i +=1\n",
    "    print(\"\\r\")"
   ]
  },
  {
   "cell_type": "markdown",
   "id": "4f4ddaca-f12f-41ab-9b04-1ce2af9cc4b0",
   "metadata": {},
   "source": [
    "## 7. Reverse while loop to print 10 to 1"
   ]
  },
  {
   "cell_type": "code",
   "execution_count": 4,
   "id": "6cf7e324-2978-4bae-a6ae-734096b7c30d",
   "metadata": {},
   "outputs": [
    {
     "name": "stdout",
     "output_type": "stream",
     "text": [
      "10\n",
      "9\n",
      "8\n",
      "7\n",
      "6\n",
      "5\n",
      "4\n",
      "3\n",
      "2\n",
      "1\n"
     ]
    }
   ],
   "source": [
    "i = 10\n",
    "while i > 0 :\n",
    "    print(i)\n",
    "    i -= 1"
   ]
  },
  {
   "cell_type": "markdown",
   "id": "bdcf4c94-02eb-4926-83f8-ff5ab22618eb",
   "metadata": {},
   "source": [
    "## Question no 8 is same as question no 7"
   ]
  },
  {
   "cell_type": "code",
   "execution_count": null,
   "id": "5006e87f-0ec8-4ff8-b64f-6bb8311f2ca1",
   "metadata": {},
   "outputs": [],
   "source": []
  }
 ],
 "metadata": {
  "kernelspec": {
   "display_name": "Python 3 (ipykernel)",
   "language": "python",
   "name": "python3"
  },
  "language_info": {
   "codemirror_mode": {
    "name": "ipython",
    "version": 3
   },
   "file_extension": ".py",
   "mimetype": "text/x-python",
   "name": "python",
   "nbconvert_exporter": "python",
   "pygments_lexer": "ipython3",
   "version": "3.10.8"
  }
 },
 "nbformat": 4,
 "nbformat_minor": 5
}
