{
 "cells": [
  {
   "cell_type": "markdown",
   "id": "042306ab-2445-45ec-b964-c72b8751a67f",
   "metadata": {},
   "source": [
    "# Assignement for 10th Feb "
   ]
  },
  {
   "cell_type": "markdown",
   "id": "7555705b-fd6a-41ab-b395-76a18e2bacc6",
   "metadata": {},
   "source": [
    "## Q1. Which function is used to open a file? What are the different modes of opening a file? Explain each mode of file opening."
   ]
  },
  {
   "cell_type": "markdown",
   "id": "b4cdb0bf-178e-4661-bb85-ebc9843bd1be",
   "metadata": {},
   "source": [
    "Function open() is used to open a file.\n",
    "Different modes of opening a file are as follows\n"
   ]
  },
  {
   "cell_type": "markdown",
   "id": "8bbf6987-6515-47e9-b007-79f70fa5c022",
   "metadata": {},
   "source": [
    "\n",
    "1) 'r'       open for reading (default)\n",
    "2) 'w'       open for writing, truncating the file first\n",
    "3) 'x'       create a new file and open it for writing\n",
    "4) 'a'       open for writing, appending to the end of the file if it exists\n",
    "5) 'b'       binary mode\n",
    "6) 't'       text mode (default)\n",
    "7) '+'       open a disk file for updating (reading and writing)\n",
    "8) 'U'       universal newline mode (deprecated)"
   ]
  },
  {
   "cell_type": "markdown",
   "id": "9d10835b-a759-487c-bcca-d45e258236ff",
   "metadata": {},
   "source": [
    "## Q2. Why close() function is used? Why is it important to close a file?"
   ]
  },
  {
   "cell_type": "markdown",
   "id": "4883214f-a5cf-4335-a7f1-8390a0bfcf15",
   "metadata": {},
   "source": [
    "close() function is used to close the open file.If we not close an open file then changes will not be reflected.Also if a file is open in write mode then no other program can open it till it is closed.\n"
   ]
  },
  {
   "cell_type": "markdown",
   "id": "3488c11e-917b-460c-b224-e2fe4ae839a2",
   "metadata": {},
   "source": [
    "## Q3. Write a python program to create a text file. Write ‘I want to become a Data Scientist’ in that file. Then close the file. Open this file and read the content of the file."
   ]
  },
  {
   "cell_type": "code",
   "execution_count": 2,
   "id": "2582dd2c-1b4b-4390-b672-688c8e051ece",
   "metadata": {},
   "outputs": [],
   "source": [
    "fp = open(\"myfile.txt\",\"w\")\n",
    "fp.write(\"I want to become a Data Scientist\")\n",
    "fp.close()"
   ]
  },
  {
   "cell_type": "code",
   "execution_count": 4,
   "id": "dd400304-5c33-43e6-8d14-e933080e2e73",
   "metadata": {},
   "outputs": [
    {
     "name": "stdout",
     "output_type": "stream",
     "text": [
      "I want to become a Data Scientist\n"
     ]
    }
   ],
   "source": [
    "fp = open(\"myfile.txt\",\"r\")\n",
    "data = fp.read()\n",
    "print(data)\n",
    "fp.close()"
   ]
  },
  {
   "cell_type": "markdown",
   "id": "c2f8d728-4c43-46d2-a360-42768a63d15a",
   "metadata": {},
   "source": [
    "## Q4. Explain the following with python code: read(), readline() and readlines()."
   ]
  },
  {
   "cell_type": "code",
   "execution_count": 6,
   "id": "ae7e791e-4e97-46ba-b6af-5d898ef91d50",
   "metadata": {},
   "outputs": [],
   "source": [
    "with open(\"test.txt\",\"w\") as fp:\n",
    "    data = \"Data Science Masters course is highly curated and uniquely designed according to the latest industry standards. \\nThis program instills students the skills essential to kno\\nwledge discovery efforts to identify standard, nov\\nel, and truly differentiated solutions and decision-making, including \\nskills in managing, querying, analyzing, visualizing, and extracting meaning from extremely large \\ndata sets. This trending program provides students with the statistical, mathematical and computational s\\nkills needed to meet the large-scale data science challenges of today's professional world. You will learn all\\n the stack required to work in data science industry including cloud infrastructure and real-time industry project\\ns. This course will be taught in Hindi language.\"\n",
    "    fp.write(data)\n",
    "    "
   ]
  },
  {
   "cell_type": "markdown",
   "id": "776ea6e4-77b8-444a-8a49-5a4f64a4d222",
   "metadata": {},
   "source": [
    "read() function reads all file data until EOF or It can be used to read n number of characters from file."
   ]
  },
  {
   "cell_type": "code",
   "execution_count": 7,
   "id": "2c5507d2-7123-4f1c-b404-3debbb088e5e",
   "metadata": {},
   "outputs": [
    {
     "data": {
      "text/plain": [
       "\"Data Science Masters course is highly curated and uniquely designed according to the latest industry standards. \\nThis program instills students the skills essential to kno\\nwledge discovery efforts to identify standard, nov\\nel, and truly differentiated solutions and decision-making, including \\nskills in managing, querying, analyzing, visualizing, and extracting meaning from extremely large \\ndata sets. This trending program provides students with the statistical, mathematical and computational s\\nkills needed to meet the large-scale data science challenges of today's professional world. You will learn all\\n the stack required to work in data science industry including cloud infrastructure and real-time industry project\\ns. This course will be taught in Hindi language.\""
      ]
     },
     "execution_count": 7,
     "metadata": {},
     "output_type": "execute_result"
    }
   ],
   "source": [
    "fp = open(\"test.txt\",\"r\")\n",
    "fileData = fp.read()\n",
    "fileData"
   ]
  },
  {
   "cell_type": "code",
   "execution_count": 8,
   "id": "a521fa67-5f9a-4193-ac05-39e99bd11c80",
   "metadata": {},
   "outputs": [
    {
     "name": "stdout",
     "output_type": "stream",
     "text": [
      "Data Science Masters course is highly curated and uniquely designed according to the latest industry\n"
     ]
    }
   ],
   "source": [
    "fp.seek(0)\n",
    "print(fp.read(100))"
   ]
  },
  {
   "cell_type": "markdown",
   "id": "5158c79e-7120-449c-8990-13cf5ea28fcb",
   "metadata": {},
   "source": [
    "Function readline() returns one line at a time where as readlines() returns a list of lines in the file\n"
   ]
  },
  {
   "cell_type": "code",
   "execution_count": 9,
   "id": "f51c1260-3330-4718-ac9e-0bbcb700c25e",
   "metadata": {},
   "outputs": [
    {
     "data": {
      "text/plain": [
       "0"
      ]
     },
     "execution_count": 9,
     "metadata": {},
     "output_type": "execute_result"
    }
   ],
   "source": [
    "fp.seek(0)"
   ]
  },
  {
   "cell_type": "code",
   "execution_count": 10,
   "id": "7fca6830-32b8-44bb-ba68-ab73ba57dc2b",
   "metadata": {},
   "outputs": [
    {
     "data": {
      "text/plain": [
       "'Data Science Masters course is highly curated and uniquely designed according to the latest industry standards. \\n'"
      ]
     },
     "execution_count": 10,
     "metadata": {},
     "output_type": "execute_result"
    }
   ],
   "source": [
    "fp.readline()"
   ]
  },
  {
   "cell_type": "code",
   "execution_count": 11,
   "id": "6c6488fa-b13d-4a2e-a963-e5aacebc03ca",
   "metadata": {},
   "outputs": [
    {
     "data": {
      "text/plain": [
       "'This program instills students the skills essential to kno\\n'"
      ]
     },
     "execution_count": 11,
     "metadata": {},
     "output_type": "execute_result"
    }
   ],
   "source": [
    "fp.readline()"
   ]
  },
  {
   "cell_type": "code",
   "execution_count": 12,
   "id": "d71b034b-0b8e-4610-ac59-2ce9c3330532",
   "metadata": {},
   "outputs": [
    {
     "data": {
      "text/plain": [
       "['wledge discovery efforts to identify standard, nov\\n',\n",
       " 'el, and truly differentiated solutions and decision-making, including \\n',\n",
       " 'skills in managing, querying, analyzing, visualizing, and extracting meaning from extremely large \\n',\n",
       " 'data sets. This trending program provides students with the statistical, mathematical and computational s\\n',\n",
       " \"kills needed to meet the large-scale data science challenges of today's professional world. You will learn all\\n\",\n",
       " ' the stack required to work in data science industry including cloud infrastructure and real-time industry project\\n',\n",
       " 's. This course will be taught in Hindi language.']"
      ]
     },
     "execution_count": 12,
     "metadata": {},
     "output_type": "execute_result"
    }
   ],
   "source": [
    "fp.readlines()"
   ]
  },
  {
   "cell_type": "markdown",
   "id": "5edadd4f-02d0-42d7-bc34-403158019d13",
   "metadata": {},
   "source": [
    "## Q5. Explain why with statement is used with open(). What is the advantage of using with statement and open() together?"
   ]
  },
  {
   "cell_type": "markdown",
   "id": "8542ad74-2490-473a-91ec-4ccbb80ee814",
   "metadata": {},
   "source": [
    "The combination of with and open() closes the file for us and we get to write less code.\n",
    "No need to worry about closing the file.\n"
   ]
  },
  {
   "cell_type": "markdown",
   "id": "ca13a2a6-4ed1-4232-a481-696eada7572e",
   "metadata": {},
   "source": [
    "## Q6. Explain the write() and writelines() functions. Give a suitable example."
   ]
  },
  {
   "cell_type": "markdown",
   "id": "8c4199bd-7e18-45b9-93be-d9871095f9dc",
   "metadata": {},
   "source": [
    "write() function writes all the data provided to the function as it is.\n",
    "where as writelines() function take a list as an argument and put each element of the list in the file in new line"
   ]
  },
  {
   "cell_type": "code",
   "execution_count": 24,
   "id": "a7129770-aa56-41ee-8698-349de07613d5",
   "metadata": {},
   "outputs": [],
   "source": [
    "data = \"Data Science Masters course is highly curated and uniquely designed according to the latest industry standards. \\nThis program instills students the skills essential to kno\\nwledge discovery efforts to identify standard, nov\\nel, and truly differentiated solutions and decision-making, including \\nskills in managing, querying, analyzing, visualizing, and extracting meaning from extremely large \\ndata sets. This trending program provides students with the statistical, mathematical and computational s\\nkills needed to meet the large-scale data science challenges of today's professional world. You will learn all\\n the stack required to work in data science industry including cloud infrastructure and real-time industry project\\ns. This course will be taught in Hindi language.\"\n",
    "with open(\"writetest1.txt\",\"w\") as fp:\n",
    "    fp.write(data)\n",
    "    "
   ]
  },
  {
   "cell_type": "code",
   "execution_count": 25,
   "id": "2c6cabf2-7291-4b97-a1d7-28ea3366f657",
   "metadata": {},
   "outputs": [],
   "source": [
    "ls = ['knowledge discovery efforts to identify standard, nov',\n",
    " 'el, and truly differentiated solutions and decision-making, including',\n",
    " 'skills in managing, querying, analyzing, visualizing, and extracting meaning from extremely large',\n",
    " 'data sets. This trending program provides students with the statistical, mathematical and computational s',\n",
    " \"kills needed to meet the large-scale data science challenges of today's professional world. You will learn all\",\n",
    " ' the stack required to work in data science industry including cloud infrastructure and real-time industry project',\n",
    " 's. This course will be taught in Hindi language.']"
   ]
  },
  {
   "cell_type": "code",
   "execution_count": 26,
   "id": "98d367f5-b06d-4ad0-99c8-879a7890a108",
   "metadata": {},
   "outputs": [],
   "source": [
    "with open(\"writeLinesTest.txt\",\"w\") as fp:\n",
    "    fp.writelines(ls)"
   ]
  },
  {
   "cell_type": "code",
   "execution_count": 28,
   "id": "77b7ceaa-6d2c-46d3-bc2c-bd060a27b47d",
   "metadata": {},
   "outputs": [
    {
     "name": "stdout",
     "output_type": "stream",
     "text": [
      "knowledge discovery efforts to identify standard, novel, and truly differentiated solutions and decision-making, includingskills in managing, querying, analyzing, visualizing, and extracting meaning from extremely largedata sets. This trending program provides students with the statistical, mathematical and computational skills needed to meet the large-scale data science challenges of today's professional world. You will learn all the stack required to work in data science industry including cloud infrastructure and real-time industry projects. This course will be taught in Hindi language.\n"
     ]
    }
   ],
   "source": [
    "with open(\"writeLinesTest.txt\",\"r\") as fp:\n",
    "    print(fp.read())"
   ]
  },
  {
   "cell_type": "code",
   "execution_count": null,
   "id": "b596ad8d-f5c1-4bd6-9129-0caee319b1e4",
   "metadata": {},
   "outputs": [],
   "source": []
  }
 ],
 "metadata": {
  "kernelspec": {
   "display_name": "Python 3 (ipykernel)",
   "language": "python",
   "name": "python3"
  },
  "language_info": {
   "codemirror_mode": {
    "name": "ipython",
    "version": 3
   },
   "file_extension": ".py",
   "mimetype": "text/x-python",
   "name": "python",
   "nbconvert_exporter": "python",
   "pygments_lexer": "ipython3",
   "version": "3.10.8"
  }
 },
 "nbformat": 4,
 "nbformat_minor": 5
}
