{
 "cells": [
  {
   "cell_type": "markdown",
   "id": "d1540b4e-2354-40ac-b821-5bb76f289c11",
   "metadata": {},
   "source": [
    "# Feb 12 Exception Handling 1"
   ]
  },
  {
   "cell_type": "markdown",
   "id": "c3729b56-f7ca-4219-a9b2-c292046011f8",
   "metadata": {},
   "source": [
    "## Q1. What is an Exception in python? Write the difference between Exceptions and Syntex errors"
   ]
  },
  {
   "cell_type": "markdown",
   "id": "c9c29d71-daba-4937-b2e1-23e639385e1c",
   "metadata": {},
   "source": [
    "### Exceptions are the events which occurs during execution of a program and represent an unfavarable conditions which should not be there. It points to the actions where it happens."
   ]
  },
  {
   "cell_type": "markdown",
   "id": "cc198986-a75a-49c6-bcf1-278fe8d0833c",
   "metadata": {},
   "source": [
    "### For example divide by zero exception\n",
    "### We divide two variables and during development we do not know if when denometer may be zero.\n",
    "### But when this happens Python raises and exception "
   ]
  },
  {
   "cell_type": "markdown",
   "id": "52063059-9535-470f-8dc6-a9d4b36a487b",
   "metadata": {},
   "source": [
    "### Difference between sysntex error and exceptions is that syntex errors are errors occurs during development it is regarding how should we write the code like wrong identifier name spelling mistakes while using keywords. without currecting syntex error program can not run.\n",
    "### But exceptions occurs run time on some specific conditions like opening a file in read mode . File may or may not be exists.\n",
    "### If file does not exist then there will be file not found exception .But if it exists then no exceptions will be raised"
   ]
  },
  {
   "cell_type": "markdown",
   "id": "4654a402-e0eb-4c31-9dc7-67310d363176",
   "metadata": {},
   "source": [
    "## Syntex error"
   ]
  },
  {
   "cell_type": "code",
   "execution_count": 2,
   "id": "01d06438-4002-4f3a-9974-216614cafdab",
   "metadata": {},
   "outputs": [
    {
     "ename": "SyntaxError",
     "evalue": "invalid syntax (1949288808.py, line 1)",
     "output_type": "error",
     "traceback": [
      "\u001b[0;36m  Cell \u001b[0;32mIn[2], line 1\u001b[0;36m\u001b[0m\n\u001b[0;31m    na$me = \"durgesh\"\u001b[0m\n\u001b[0m      ^\u001b[0m\n\u001b[0;31mSyntaxError\u001b[0m\u001b[0;31m:\u001b[0m invalid syntax\n"
     ]
    }
   ],
   "source": [
    "na$me = \"durgesh\""
   ]
  },
  {
   "cell_type": "markdown",
   "id": "96137704-36cd-4663-8059-017ef966d211",
   "metadata": {},
   "source": [
    "## Exception"
   ]
  },
  {
   "cell_type": "code",
   "execution_count": 3,
   "id": "6fd220b8-2ae5-4c06-8d68-6b159233b992",
   "metadata": {},
   "outputs": [
    {
     "ename": "FileNotFoundError",
     "evalue": "[Errno 2] No such file or directory: 'test4.txt'",
     "output_type": "error",
     "traceback": [
      "\u001b[0;31m---------------------------------------------------------------------------\u001b[0m",
      "\u001b[0;31mFileNotFoundError\u001b[0m                         Traceback (most recent call last)",
      "Cell \u001b[0;32mIn[3], line 1\u001b[0m\n\u001b[0;32m----> 1\u001b[0m fp \u001b[38;5;241m=\u001b[39m \u001b[38;5;28;43mopen\u001b[39;49m\u001b[43m(\u001b[49m\u001b[38;5;124;43m\"\u001b[39;49m\u001b[38;5;124;43mtest4.txt\u001b[39;49m\u001b[38;5;124;43m\"\u001b[39;49m\u001b[43m,\u001b[49m\u001b[38;5;124;43m\"\u001b[39;49m\u001b[38;5;124;43mr\u001b[39;49m\u001b[38;5;124;43m\"\u001b[39;49m\u001b[43m)\u001b[49m\n",
      "File \u001b[0;32m/opt/conda/lib/python3.10/site-packages/IPython/core/interactiveshell.py:282\u001b[0m, in \u001b[0;36m_modified_open\u001b[0;34m(file, *args, **kwargs)\u001b[0m\n\u001b[1;32m    275\u001b[0m \u001b[38;5;28;01mif\u001b[39;00m file \u001b[38;5;129;01min\u001b[39;00m {\u001b[38;5;241m0\u001b[39m, \u001b[38;5;241m1\u001b[39m, \u001b[38;5;241m2\u001b[39m}:\n\u001b[1;32m    276\u001b[0m     \u001b[38;5;28;01mraise\u001b[39;00m \u001b[38;5;167;01mValueError\u001b[39;00m(\n\u001b[1;32m    277\u001b[0m         \u001b[38;5;124mf\u001b[39m\u001b[38;5;124m\"\u001b[39m\u001b[38;5;124mIPython won\u001b[39m\u001b[38;5;124m'\u001b[39m\u001b[38;5;124mt let you open fd=\u001b[39m\u001b[38;5;132;01m{\u001b[39;00mfile\u001b[38;5;132;01m}\u001b[39;00m\u001b[38;5;124m by default \u001b[39m\u001b[38;5;124m\"\u001b[39m\n\u001b[1;32m    278\u001b[0m         \u001b[38;5;124m\"\u001b[39m\u001b[38;5;124mas it is likely to crash IPython. If you know what you are doing, \u001b[39m\u001b[38;5;124m\"\u001b[39m\n\u001b[1;32m    279\u001b[0m         \u001b[38;5;124m\"\u001b[39m\u001b[38;5;124myou can use builtins\u001b[39m\u001b[38;5;124m'\u001b[39m\u001b[38;5;124m open.\u001b[39m\u001b[38;5;124m\"\u001b[39m\n\u001b[1;32m    280\u001b[0m     )\n\u001b[0;32m--> 282\u001b[0m \u001b[38;5;28;01mreturn\u001b[39;00m \u001b[43mio_open\u001b[49m\u001b[43m(\u001b[49m\u001b[43mfile\u001b[49m\u001b[43m,\u001b[49m\u001b[43m \u001b[49m\u001b[38;5;241;43m*\u001b[39;49m\u001b[43margs\u001b[49m\u001b[43m,\u001b[49m\u001b[43m \u001b[49m\u001b[38;5;241;43m*\u001b[39;49m\u001b[38;5;241;43m*\u001b[39;49m\u001b[43mkwargs\u001b[49m\u001b[43m)\u001b[49m\n",
      "\u001b[0;31mFileNotFoundError\u001b[0m: [Errno 2] No such file or directory: 'test4.txt'"
     ]
    }
   ],
   "source": [
    "fp = open(\"test4.txt\",\"r\")"
   ]
  },
  {
   "cell_type": "markdown",
   "id": "60a7a2cf-1eb5-4295-b2df-abe60a25ff90",
   "metadata": {},
   "source": [
    "## Q2. What happens when an exception is not handled? Explain with an example"
   ]
  },
  {
   "cell_type": "markdown",
   "id": "671fafa8-b1e5-474b-be36-b43858629347",
   "metadata": {},
   "source": [
    "### If we do not handle exceptions then it will stop the execution of the programe and will display unwanted results to console.This will result in unwanted outcome of the programm and our code may malfunction"
   ]
  },
  {
   "cell_type": "markdown",
   "id": "eb888ae7-21df-4394-816f-e99484c69744",
   "metadata": {},
   "source": [
    "For example"
   ]
  },
  {
   "cell_type": "code",
   "execution_count": 6,
   "id": "eab7327f-9c21-4e47-baaf-cba7334a0ec0",
   "metadata": {},
   "outputs": [
    {
     "ename": "NameError",
     "evalue": "name 'name' is not defined",
     "output_type": "error",
     "traceback": [
      "\u001b[0;31m---------------------------------------------------------------------------\u001b[0m",
      "\u001b[0;31mNameError\u001b[0m                                 Traceback (most recent call last)",
      "Cell \u001b[0;32mIn[6], line 3\u001b[0m\n\u001b[1;32m      1\u001b[0m fp \u001b[38;5;241m=\u001b[39m \u001b[38;5;28mopen\u001b[39m(\u001b[38;5;124m\"\u001b[39m\u001b[38;5;124mmyfile.txt\u001b[39m\u001b[38;5;124m\"\u001b[39m,\u001b[38;5;124m\"\u001b[39m\u001b[38;5;124mw\u001b[39m\u001b[38;5;124m\"\u001b[39m)\n\u001b[1;32m      2\u001b[0m fp\u001b[38;5;241m.\u001b[39mwrite(\u001b[38;5;124m\"\u001b[39m\u001b[38;5;124mThis is my file\u001b[39m\u001b[38;5;124m\"\u001b[39m)\n\u001b[0;32m----> 3\u001b[0m \u001b[38;5;28mprint\u001b[39m(\u001b[43mname\u001b[49m)\n\u001b[1;32m      4\u001b[0m fp\u001b[38;5;241m.\u001b[39mclose()\n",
      "\u001b[0;31mNameError\u001b[0m: name 'name' is not defined"
     ]
    }
   ],
   "source": [
    "fp = open(\"myfile.txt\",\"w\")\n",
    "fp.write(\"This is my file\")\n",
    "print(name)\n",
    "fp.close()"
   ]
  },
  {
   "cell_type": "markdown",
   "id": "e19bc8fd-555f-49ad-ba9b-2ba258e330b6",
   "metadata": {},
   "source": [
    "### Here we have open a file in write mode and has written something but due to NameError exception program stops and we are not able to close the file"
   ]
  },
  {
   "cell_type": "markdown",
   "id": "fd432508-f939-46cc-bf01-6a9ad5cf8528",
   "metadata": {},
   "source": [
    "## Q3. Which Python statements are used to catch and handle the exceptions explain with an exapmle."
   ]
  },
  {
   "cell_type": "markdown",
   "id": "91092285-a5c9-40e1-a948-3641ca2d2d0e",
   "metadata": {},
   "source": [
    "### try and except statements are used to catch and handle exceptions."
   ]
  },
  {
   "cell_type": "code",
   "execution_count": 10,
   "id": "44b62ba9-f419-43dc-a111-bb86e627ff09",
   "metadata": {},
   "outputs": [],
   "source": [
    "def divide():\n",
    "    n1 = int(input(\"Enter first number\"))\n",
    "    n2 = int(input(\"Enter second number\"))\n",
    "    result = 0\n",
    "    try :\n",
    "        result = n1 /n2\n",
    "    except Exception as e:\n",
    "        print(\"some error while processing result.\",e)\n",
    "    \n",
    "    return result"
   ]
  },
  {
   "cell_type": "code",
   "execution_count": 12,
   "id": "411d1555-ad4c-4883-91b6-a19e7ce9bf3d",
   "metadata": {},
   "outputs": [
    {
     "name": "stdin",
     "output_type": "stream",
     "text": [
      "Enter first number 10\n",
      "Enter second number 0\n"
     ]
    },
    {
     "name": "stdout",
     "output_type": "stream",
     "text": [
      "some error while processing result. division by zero\n"
     ]
    },
    {
     "data": {
      "text/plain": [
       "0"
      ]
     },
     "execution_count": 12,
     "metadata": {},
     "output_type": "execute_result"
    }
   ],
   "source": [
    "divide()"
   ]
  },
  {
   "cell_type": "markdown",
   "id": "af543528-59cd-4a9f-b630-6fb86c73c29a",
   "metadata": {},
   "source": [
    "## Q4. Explain with an example:\n",
    "1) try and else\n",
    "2) finally\n",
    "3) raise"
   ]
  },
  {
   "cell_type": "markdown",
   "id": "6ef4eba2-c901-45b8-b899-2670ed874268",
   "metadata": {},
   "source": [
    "### 1) try and else"
   ]
  },
  {
   "cell_type": "markdown",
   "id": "16dc0a4c-c502-4642-a57c-9f33d592cfac",
   "metadata": {},
   "source": [
    "### try and else are used to handle exception if try block is executed without raising any exception then else block will be executed by Python. And if there are some exception then except block will be executed but not else block. for example\n"
   ]
  },
  {
   "cell_type": "code",
   "execution_count": 14,
   "id": "6366760f-f997-4216-b2ab-5335e7a5bfe2",
   "metadata": {},
   "outputs": [],
   "source": [
    "def div(n1,n2):\n",
    "    result = 0\n",
    "    try :\n",
    "        result = n1/n2\n",
    "    except Exception as e:\n",
    "        print(\"exception \",e)\n",
    "        \n",
    "    else :\n",
    "        print(\"No exception\",result)\n",
    "\n",
    "        "
   ]
  },
  {
   "cell_type": "code",
   "execution_count": 15,
   "id": "f532bdd4-1c14-4672-8562-31c1e0fe2bce",
   "metadata": {},
   "outputs": [
    {
     "name": "stdout",
     "output_type": "stream",
     "text": [
      "No exception 2.5\n"
     ]
    }
   ],
   "source": [
    "div(10,4)"
   ]
  },
  {
   "cell_type": "code",
   "execution_count": 16,
   "id": "d12ae32d-9a5f-4598-92ef-aba1762ce40c",
   "metadata": {},
   "outputs": [
    {
     "name": "stdout",
     "output_type": "stream",
     "text": [
      "No exception -20.0\n"
     ]
    }
   ],
   "source": [
    "div(20,-1)"
   ]
  },
  {
   "cell_type": "code",
   "execution_count": 17,
   "id": "91301a87-a41d-4ff2-8a4b-699dc3c85c37",
   "metadata": {},
   "outputs": [
    {
     "name": "stdout",
     "output_type": "stream",
     "text": [
      "exception  division by zero\n"
     ]
    }
   ],
   "source": [
    "div(23,0)"
   ]
  },
  {
   "cell_type": "markdown",
   "id": "be2e9aaf-c0d5-45fe-8b59-2852ca833ba5",
   "metadata": {},
   "source": [
    "### finally"
   ]
  },
  {
   "cell_type": "markdown",
   "id": "898dfd55-0d79-45c6-a672-eeeaa02b490e",
   "metadata": {},
   "source": [
    "### finally block will always be executed whether an exception is raised or not for example"
   ]
  },
  {
   "cell_type": "code",
   "execution_count": 19,
   "id": "c989da85-2fbd-4fe3-b343-3ef1ea7de5bd",
   "metadata": {},
   "outputs": [
    {
     "name": "stdout",
     "output_type": "stream",
     "text": [
      "Exception occured  name 'name' is not defined\n",
      "Finally will always be executed\n"
     ]
    }
   ],
   "source": [
    "try :\n",
    "    fp = open(\"myfile.txt\",\"w\")\n",
    "    fp.write(\"This is my file\")\n",
    "    print(name)\n",
    "except Exception as e :\n",
    "    print(\"Exception occured \",e) \n",
    "finally :\n",
    "    print(\"Finally will always be executed\")\n",
    "    fp.close()"
   ]
  },
  {
   "cell_type": "markdown",
   "id": "d37eaad2-e836-4a4e-913b-2ae5c6cb92d0",
   "metadata": {},
   "source": [
    "### 3) raise"
   ]
  },
  {
   "cell_type": "markdown",
   "id": "6eef120d-929e-4fb5-9715-ecbf3850517b",
   "metadata": {},
   "source": [
    "### raise statement is used to raise any exception from our code. a user can raise exception from code itself. When we raise an exception try block will stop execution and jump tp except block. for example\n"
   ]
  },
  {
   "cell_type": "code",
   "execution_count": 20,
   "id": "2bc43b57-5f93-462d-b2b9-f1bd1552a64e",
   "metadata": {},
   "outputs": [
    {
     "name": "stdout",
     "output_type": "stream",
     "text": [
      " number 2 should not be zero\n"
     ]
    }
   ],
   "source": [
    "try :\n",
    "    n1 = 100\n",
    "    n2 = 0\n",
    "    if(n2 == 0):\n",
    "        raise Exception(\" number 2 should not be zero\")\n",
    "    n3 = n1/n2\n",
    "except Exception as e:\n",
    "    print(e)\n",
    "    "
   ]
  },
  {
   "cell_type": "markdown",
   "id": "3d3aca58-d4f3-4ba2-ba8e-d661f185631a",
   "metadata": {},
   "source": [
    "## Q5. What are Custom Exceptions in python? Why do we need Custom Exceptions? Explain with an example"
   ]
  },
  {
   "cell_type": "markdown",
   "id": "91c59130-483d-463c-8fae-c04641c69216",
   "metadata": {},
   "source": [
    "### Custom Exceptions are user defined exceptions. We can create our own exception in Python as per our requirement.\n",
    "### We need custom exception when want to handle exception other than system generated exceptions like checking the value entered by a user is valid or not.\n",
    "### We create custom exceptions usually when system is not able to detect . Suppose we want to check whether a user has entered name only in alphabet and user name alpha numeric.\n",
    "### Now in this case system defined exception can not detect but we can create custom exceptions  to handle and raise such exceptions"
   ]
  },
  {
   "cell_type": "code",
   "execution_count": 31,
   "id": "c57d12ba-4e39-42b1-a161-feef2d23b2b7",
   "metadata": {},
   "outputs": [],
   "source": [
    "class customException(Exception):\n",
    "    def __init__(self,msg):\n",
    "        self.msg = msg\n",
    "        \n",
    "\n",
    "def test():\n",
    "    try :\n",
    "        name = input(\"Please enter name\")\n",
    "        age  = int(input(\"Enter age\"))\n",
    "   \n",
    "        if not name.isalpha() :\n",
    "            raise customException(\"Only alphabet is allowed in the name\")\n",
    "        if age <= 18 :\n",
    "            raise customException(\"Age must be greater or equal to 18\")\n",
    "    except customException as ce :\n",
    "        print(\"Catching custom exception. \",ce)\n",
    "    except Exception as e :\n",
    "        print(\"Catching other exceptions\",e)\n",
    "        \n",
    "    "
   ]
  },
  {
   "cell_type": "code",
   "execution_count": 22,
   "id": "e46dc4f7-9720-4c6b-be23-7649dfbe34ae",
   "metadata": {},
   "outputs": [
    {
     "name": "stdin",
     "output_type": "stream",
     "text": [
      "Please enter name Durgesh1\n",
      "Enter age 10\n"
     ]
    },
    {
     "name": "stdout",
     "output_type": "stream",
     "text": [
      "Catching custom exception.  Only alphabet is allowed in the name\n"
     ]
    }
   ],
   "source": [
    "test()\n"
   ]
  },
  {
   "cell_type": "code",
   "execution_count": 23,
   "id": "62e109c5-29f3-4fac-adad-03fafebb36d1",
   "metadata": {},
   "outputs": [
    {
     "name": "stdin",
     "output_type": "stream",
     "text": [
      "Please enter name Durgesh\n",
      "Enter age 10\n"
     ]
    },
    {
     "name": "stdout",
     "output_type": "stream",
     "text": [
      "Catching custom exception.  Age must be greater or equal to 18\n"
     ]
    }
   ],
   "source": [
    "test()\n"
   ]
  },
  {
   "cell_type": "code",
   "execution_count": 32,
   "id": "b99b3eeb-0866-4a71-8f88-59be7ab6212c",
   "metadata": {},
   "outputs": [
    {
     "name": "stdin",
     "output_type": "stream",
     "text": [
      "Please enter name \n",
      "Enter age \n"
     ]
    },
    {
     "name": "stdout",
     "output_type": "stream",
     "text": [
      "Catching other exceptions invalid literal for int() with base 10: ''\n"
     ]
    }
   ],
   "source": [
    "test()\n"
   ]
  },
  {
   "cell_type": "markdown",
   "id": "60224482-c734-430f-aacc-c3ce0bf47d22",
   "metadata": {},
   "source": [
    "## Q6. Create custom exception class. Use this class to handle an exception."
   ]
  },
  {
   "cell_type": "code",
   "execution_count": 39,
   "id": "a11be04d-4fa3-45e7-8ad7-159a48196746",
   "metadata": {},
   "outputs": [],
   "source": [
    "class valueNotInRange(Exception):\n",
    "    ''' check if the given value is not in range default is 0 to 100'''\n",
    "    def __init__(self,message = \"value is not in range of 0 to 100\"):\n",
    "        self.message = message\n",
    "        super().__init__(message)\n"
   ]
  },
  {
   "cell_type": "code",
   "execution_count": 40,
   "id": "30174d47-7a3f-4973-89fb-ced2e90bccf5",
   "metadata": {},
   "outputs": [],
   "source": [
    "def checkRange():\n",
    "    try :\n",
    "        num = float(input(\"Enter any number\"))\n",
    "        if not 0 < num < 100 :\n",
    "            raise valueNotInRange()\n",
    "    \n",
    "    except valueNotInRange as e:\n",
    "        print(e)\n",
    "    else :\n",
    "        print(num)"
   ]
  },
  {
   "cell_type": "code",
   "execution_count": 41,
   "id": "a86d5887-eea1-4bf1-a277-1a0f809900e2",
   "metadata": {},
   "outputs": [
    {
     "name": "stdin",
     "output_type": "stream",
     "text": [
      "Enter any number 200\n"
     ]
    },
    {
     "name": "stdout",
     "output_type": "stream",
     "text": [
      "value is not in range of 0 to 100\n"
     ]
    }
   ],
   "source": [
    "checkRange()\n"
   ]
  },
  {
   "cell_type": "code",
   "execution_count": null,
   "id": "d793f904-19cf-4182-aa93-60e2acefa6d7",
   "metadata": {},
   "outputs": [],
   "source": []
  }
 ],
 "metadata": {
  "kernelspec": {
   "display_name": "Python 3 (ipykernel)",
   "language": "python",
   "name": "python3"
  },
  "language_info": {
   "codemirror_mode": {
    "name": "ipython",
    "version": 3
   },
   "file_extension": ".py",
   "mimetype": "text/x-python",
   "name": "python",
   "nbconvert_exporter": "python",
   "pygments_lexer": "ipython3",
   "version": "3.10.8"
  }
 },
 "nbformat": 4,
 "nbformat_minor": 5
}
