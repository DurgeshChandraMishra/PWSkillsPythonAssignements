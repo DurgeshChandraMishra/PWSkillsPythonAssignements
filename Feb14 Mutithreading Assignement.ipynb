{
 "cells": [
  {
   "cell_type": "markdown",
   "id": "5738beb7-479f-4629-a5f1-1921aa5001cc",
   "metadata": {},
   "source": [
    "# Feb 14 Multithreading assignement"
   ]
  },
  {
   "cell_type": "markdown",
   "id": "408a23f9-7079-4e2e-b529-739524e4a195",
   "metadata": {},
   "source": [
    "## Q1).What is multithreading in python? Why is it used? Name the module used to handle threads in python"
   ]
  },
  {
   "cell_type": "markdown",
   "id": "2974d18b-dcc7-4a67-8ba1-866d8384734f",
   "metadata": {},
   "source": [
    "### Multithreading is the process of running multiple thread of a program in a single core of the CPU at the same time.It will try to execute all thread one by one but if one thread is sleeping then other thread will get chance to execute.\n",
    "### It is used to maximum utilisationof the cpu core and enhance the performance .\n",
    "### threading module is used to handle multithreading in Python"
   ]
  },
  {
   "cell_type": "markdown",
   "id": "d0125d82-89ed-4e4b-9f6a-d1c8aa06b383",
   "metadata": {},
   "source": [
    "## Q2). Why threading module used? write the use of the following functions\n",
    "1) activeCount()\n",
    "2) currentThread()\n",
    "3) enumerate()"
   ]
  },
  {
   "cell_type": "markdown",
   "id": "7d865339-225f-4c00-b3b1-cbbc145ac0a4",
   "metadata": {},
   "source": [
    "### threading module is used to handle multithreading.It will provide the methods and classes to handle threads.\n"
   ]
  },
  {
   "cell_type": "markdown",
   "id": "93b63c3b-cea0-488b-b9f0-efd29e6933f9",
   "metadata": {},
   "source": [
    "### 1.activeCount()"
   ]
  },
  {
   "cell_type": "markdown",
   "id": "9c15a4c6-2306-46dc-b03e-95c69201bc3a",
   "metadata": {},
   "source": [
    "### This funtion will get the number of threads which are currently active. It is deprecated by function active_count"
   ]
  },
  {
   "cell_type": "code",
   "execution_count": 8,
   "id": "c5079095-8d94-4871-b387-247c69b1cdc6",
   "metadata": {},
   "outputs": [
    {
     "data": {
      "text/plain": [
       "8"
      ]
     },
     "execution_count": 8,
     "metadata": {},
     "output_type": "execute_result"
    }
   ],
   "source": [
    "import threading\n",
    "threading.active_count()"
   ]
  },
  {
   "cell_type": "markdown",
   "id": "1a1f7b9b-2ac2-4ece-83f9-bba60bd56dc1",
   "metadata": {},
   "source": [
    "### 2. currentThread()"
   ]
  },
  {
   "cell_type": "markdown",
   "id": "2736789d-a01f-4ca5-9f15-a28c4e78dc56",
   "metadata": {},
   "source": [
    "### Return the current Thread object, corresponding to the caller’s thread of control. If the caller’s thread of control was not created through the threading module, a dummy thread object with limited functionality is returned.\n",
    "\n",
    "### The function currentThread is a deprecated."
   ]
  },
  {
   "cell_type": "code",
   "execution_count": 20,
   "id": "aa3c0ad4-7fa2-4096-a263-22985667f757",
   "metadata": {},
   "outputs": [
    {
     "name": "stdout",
     "output_type": "stream",
     "text": [
      "0\n",
      "<Thread(Thread-40 (test), started 140073874990656)>\n",
      "1\n",
      "<Thread(Thread-41 (test), started 140073874990656)>\n",
      "2\n",
      "<Thread(Thread-42 (test), started 140073874990656)>\n",
      "3\n",
      "<Thread(Thread-43 (test), started 140073874990656)>\n",
      "4\n",
      "<Thread(Thread-44 (test), started 140073874990656)>\n"
     ]
    }
   ],
   "source": [
    "def test(x):\n",
    "    print(x)\n",
    "    print(threading.current_thread())\n",
    "\n",
    "th = [threading.Thread(target=test, args=(i,)) for i in range(5)]\n",
    "for t in th:\n",
    "    t.start()"
   ]
  },
  {
   "cell_type": "markdown",
   "id": "063ced81-d5dd-4ac7-afe3-8f0f986b585e",
   "metadata": {},
   "source": [
    "### 3.enumerate()"
   ]
  },
  {
   "cell_type": "markdown",
   "id": "f374ccbc-9da2-4714-87d9-e007a76643f6",
   "metadata": {},
   "source": [
    "### Return a list of all Thread objects currently active. The list includes daemonic threads and dummy thread objects created by current_thread(). It excludes terminated threads and threads that have not yet been started. However, the main thread is always part of the result, even when terminated"
   ]
  },
  {
   "cell_type": "code",
   "execution_count": 22,
   "id": "46a3eee5-382b-4ad6-bf20-6f4bd96698bf",
   "metadata": {},
   "outputs": [
    {
     "data": {
      "text/plain": [
       "[<_MainThread(MainThread, started 140074370692928)>,\n",
       " <Thread(IOPub, started daemon 140074300163648)>,\n",
       " <Heartbeat(Heartbeat, started daemon 140074291770944)>,\n",
       " <Thread(Thread-3 (_watch_pipe_fd), started daemon 140074266592832)>,\n",
       " <Thread(Thread-4 (_watch_pipe_fd), started daemon 140073915905600)>,\n",
       " <ControlThread(Control, started daemon 140073907512896)>,\n",
       " <HistorySavingThread(IPythonHistorySavingThread, started 140073899120192)>,\n",
       " <ParentPollerUnix(Thread-2, started daemon 140073890727488)>]"
      ]
     },
     "execution_count": 22,
     "metadata": {},
     "output_type": "execute_result"
    }
   ],
   "source": [
    "threading.enumerate()"
   ]
  },
  {
   "cell_type": "markdown",
   "id": "3eb0f5d9-3b17-40aa-a26d-75a13dcfccf4",
   "metadata": {},
   "source": [
    "## Q3. Explain the following functions\n",
    "1. run()\n",
    "2. start()\n",
    "3. join()\n",
    "4. isAlive()\n"
   ]
  },
  {
   "cell_type": "markdown",
   "id": "174cdb7b-5b88-45c0-b8c6-871b7bf530e3",
   "metadata": {},
   "source": [
    "### 1.run()"
   ]
  },
  {
   "cell_type": "markdown",
   "id": "38b9f333-64fb-457b-adc3-10c147f7ad7d",
   "metadata": {},
   "source": [
    "### Method representing the thread’s activity.\n",
    "\n",
    "### We may override this method in a subclass. The standard run() method invokes the callable object passed to the object’s constructor as the target argument, if any, with positional and keyword arguments taken from the args and kwargs arguments, respectively.\n",
    "\n",
    "### Using list or tuple as the args argument which passed to the Thread could achieve the same effect."
   ]
  },
  {
   "cell_type": "code",
   "execution_count": 1,
   "id": "8ec8ed23-9629-465e-83f4-027bb92a4472",
   "metadata": {},
   "outputs": [
    {
     "name": "stdout",
     "output_type": "stream",
     "text": [
      "1\n"
     ]
    }
   ],
   "source": [
    "from threading import Thread\n",
    "t = Thread(target=print, args=[1])\n",
    "t.run()"
   ]
  },
  {
   "cell_type": "markdown",
   "id": "418d3bf0-0a5f-434f-826d-7e7d9544f613",
   "metadata": {},
   "source": [
    "### 2.start()"
   ]
  },
  {
   "cell_type": "markdown",
   "id": "a7cc1a90-9a60-470c-883c-8f6e9ca776b2",
   "metadata": {},
   "source": [
    "### It start the thread’s activity.\n",
    "### It must be called at most once per thread object. It arranges for the object’s run() method to be invoked in a separate thread of control."
   ]
  },
  {
   "cell_type": "code",
   "execution_count": 4,
   "id": "157e1c87-5b51-4a6d-81c6-bb384b5049bb",
   "metadata": {},
   "outputs": [
    {
     "name": "stdout",
     "output_type": "stream",
     "text": [
      "1\n",
      "2\n",
      "hello\n"
     ]
    }
   ],
   "source": [
    "from threading import Thread\n",
    "t = [Thread(target=print, args=[i]) for i in [1,2,\"hello\"]]\n",
    "for th in t:\n",
    "    th.start()"
   ]
  },
  {
   "cell_type": "markdown",
   "id": "6a85660d-9d27-4ed0-8704-e091c5db2522",
   "metadata": {},
   "source": [
    "### 3.join()"
   ]
  },
  {
   "cell_type": "markdown",
   "id": "4f5825d1-48e9-4958-bf8d-67058030d0f5",
   "metadata": {},
   "source": [
    "   ### Wait until the thread terminates. This blocks the calling thread until the thread whose join() method is called terminates – either normally or through an unhandled exception – or until the optional timeout occurs.\n",
    "\n",
    "   ### When the timeout argument is present and not None, it should be a floating point number specifying a timeout for the operation in seconds (or fractions thereof). As join() always returns None, you must call is_alive() after join() to decide whether a timeout happened – if the thread is still alive, the join() call timed out.\n",
    "\n",
    "   ### When the timeout argument is not present or None, the operation will block until the thread terminates.\n",
    "\n",
    "  ###  A thread can be joined many times.\n",
    "\n",
    "  ###  join() raises a RuntimeError if an attempt is made to join the current thread as that would cause a deadlock. It is also an error to join() a thread before it has been started and attempts to do so raise the same exception.\n"
   ]
  },
  {
   "cell_type": "markdown",
   "id": "4ef075ff-d23d-4a68-92cb-61626693242f",
   "metadata": {},
   "source": [
    "### 4. isAlive()"
   ]
  },
  {
   "cell_type": "markdown",
   "id": "8a12e2c3-1869-4f3e-be25-4a95ef648ff1",
   "metadata": {},
   "source": [
    "### Return whether the thread is alive.\n",
    "### This method returns True just before the run() method starts until just after the run() method terminates"
   ]
  },
  {
   "cell_type": "code",
   "execution_count": 9,
   "id": "6d22dd71-bcf9-4bfc-b0c9-76d7570f9b69",
   "metadata": {},
   "outputs": [
    {
     "data": {
      "text/plain": [
       "[<_MainThread(MainThread, started 140529782957888)>,\n",
       " <Thread(IOPub, started daemon 140529712428608)>,\n",
       " <Heartbeat(Heartbeat, started daemon 140529704035904)>,\n",
       " <Thread(Thread-3 (_watch_pipe_fd), started daemon 140529678857792)>,\n",
       " <Thread(Thread-4 (_watch_pipe_fd), started daemon 140529670465088)>,\n",
       " <ControlThread(Control, started daemon 140529662072384)>,\n",
       " <HistorySavingThread(IPythonHistorySavingThread, started 140529182438976)>,\n",
       " <ParentPollerUnix(Thread-2, started daemon 140529174046272)>]"
      ]
     },
     "execution_count": 9,
     "metadata": {},
     "output_type": "execute_result"
    }
   ],
   "source": [
    "threading.enumerate()"
   ]
  },
  {
   "cell_type": "code",
   "execution_count": 12,
   "id": "648ada1a-6c0d-4fee-95e6-51cf6f221c26",
   "metadata": {},
   "outputs": [
    {
     "name": "stdout",
     "output_type": "stream",
     "text": [
      "True\n",
      "True\n",
      "True\n",
      "True\n",
      "True\n",
      "True\n",
      "True\n",
      "True\n"
     ]
    }
   ],
   "source": [
    "for t in threading.enumerate():\n",
    "    print(t.is_alive())"
   ]
  },
  {
   "cell_type": "markdown",
   "id": "bd55d5e2-e4e5-4c02-bcb1-0094974bafc0",
   "metadata": {},
   "source": [
    "## Q4. Write a python program to create two threads. Thread one must print the list of squares and thread two must print the list of cubes."
   ]
  },
  {
   "cell_type": "code",
   "execution_count": 33,
   "id": "ff82a60c-3a33-401e-b5d7-d072d7ccecd7",
   "metadata": {},
   "outputs": [],
   "source": [
    "def printSquare(n):\n",
    "    print( [i*i for i in n])\n",
    "\n",
    "def printCube(n) :\n",
    "    print( [i*i*i for i in n])"
   ]
  },
  {
   "cell_type": "code",
   "execution_count": 34,
   "id": "0b78408f-c30b-4a7c-8fd3-8d5f3bd40960",
   "metadata": {},
   "outputs": [
    {
     "name": "stdout",
     "output_type": "stream",
     "text": [
      "[4, 9]\n"
     ]
    }
   ],
   "source": [
    "printSquare([2,3])"
   ]
  },
  {
   "cell_type": "code",
   "execution_count": 35,
   "id": "41a8a617-42c2-48db-842d-e68c2f025bd9",
   "metadata": {},
   "outputs": [
    {
     "name": "stdout",
     "output_type": "stream",
     "text": [
      "[8, 27]\n"
     ]
    }
   ],
   "source": [
    "printCube([2,3])"
   ]
  },
  {
   "cell_type": "code",
   "execution_count": 36,
   "id": "8f1b7394-c740-4bae-a373-20725f9e31aa",
   "metadata": {},
   "outputs": [],
   "source": [
    "numberList = [1,3,5,2,10]"
   ]
  },
  {
   "cell_type": "code",
   "execution_count": 43,
   "id": "c2aab907-59fd-4ad3-ae46-25ad3ecf56a4",
   "metadata": {},
   "outputs": [],
   "source": [
    "t1 = threading.Thread(target=printSquare, args=(numberList,))"
   ]
  },
  {
   "cell_type": "code",
   "execution_count": 44,
   "id": "54dfc25c-a539-4f55-9d01-164892b6128b",
   "metadata": {},
   "outputs": [],
   "source": [
    "t2 = threading.Thread(target=printCube, args=(numberList,))"
   ]
  },
  {
   "cell_type": "code",
   "execution_count": 45,
   "id": "2829579c-f801-436a-bb21-63409e329c2a",
   "metadata": {},
   "outputs": [
    {
     "name": "stdout",
     "output_type": "stream",
     "text": [
      "[1, 9, 25, 4, 100]\n",
      "[1, 27, 125, 8, 1000]\n"
     ]
    }
   ],
   "source": [
    "for th in [t1,t2]:\n",
    "    th.start()"
   ]
  },
  {
   "cell_type": "markdown",
   "id": "3f097bbf-5474-456f-bd78-d744bc10a3ea",
   "metadata": {},
   "source": [
    "## Q5. State advantages and disadvantages of multithreading."
   ]
  },
  {
   "cell_type": "markdown",
   "id": "eb445c24-762d-4c03-98d3-6d39c65f3460",
   "metadata": {},
   "source": [
    "### Advantages\n",
    "1) Optimum use of CPU\n",
    "2) better memory utilization\n",
    "3) Need not to wait for other thread if cpu is free.\n",
    "4) Parallel execution of threads"
   ]
  },
  {
   "cell_type": "markdown",
   "id": "32f4e0da-c6f1-4df1-b104-0fb3beaaa9f3",
   "metadata": {},
   "source": [
    "### Disadvantages\n",
    "1) Complex debugging and testing processes.\n",
    "2) Overhead switching of context.\n",
    "3) Increased potential for deadlock occurrence.\n",
    "4) Increased difficulty level in writing a program.\n",
    "5) Unpredictable results."
   ]
  },
  {
   "cell_type": "markdown",
   "id": "02544458-285d-4b20-811c-b9961648886d",
   "metadata": {},
   "source": [
    "## 6. Explain deadlocks and race conditions."
   ]
  },
  {
   "cell_type": "markdown",
   "id": "549f712b-04ae-4fe3-97ff-733cb394e989",
   "metadata": {},
   "source": [
    "### Deadlock is a condition where one thread is waiting for another thread and other thread is waiting for other thread thus creating a loop of waiting each other.\n",
    "### for example let a thread t1 is waiting to complete t2 and t2 is waiting to complete t3 and t3 is waiting to complete t1 now in this condition no one will execute and process will never end."
   ]
  },
  {
   "cell_type": "code",
   "execution_count": 1,
   "id": "8006a396-1106-40e6-bede-21a58d760e05",
   "metadata": {},
   "outputs": [],
   "source": [
    "# task2 to be executed in a new thread\n",
    "def task2(lock):\n",
    "    print('Thread acquiring lock again...')\n",
    "    with lock:\n",
    "        # will never get here\n",
    "        pass\n",
    " \n",
    "## task1 to be executed in a new thread\n",
    "def task1(lock):\n",
    "    print('Thread acquiring lock...')\n",
    "    with lock:\n",
    "        task2(lock)"
   ]
  },
  {
   "cell_type": "markdown",
   "id": "5593e89a-cbf3-4284-a33a-dacf894af9f1",
   "metadata": {},
   "source": [
    "### Race condition"
   ]
  },
  {
   "cell_type": "markdown",
   "id": "2a186d88-453a-42ba-bfa8-ed12d1f8cd98",
   "metadata": {},
   "source": [
    "### A race condition may be defined as the occurring of a condition when two or more threads can access shared data and then try to change its value at the same time. Due to this, the values of variables may be unpredictable and vary depending on the timings of context switches of the processes."
   ]
  },
  {
   "cell_type": "code",
   "execution_count": 6,
   "id": "0fb86f1c-31e9-444c-97d6-3f9303a786a8",
   "metadata": {},
   "outputs": [
    {
     "name": "stdout",
     "output_type": "stream",
     "text": [
      "adding 0 now 0 adding 3 now 3 \n",
      "adding 1 now 4 \n",
      "\n",
      "subtracting 4 now 0 \n",
      "adding 10 now 10 \n",
      "subtracting 3 now 7 \n",
      "subtracting 2 now 5 \n",
      "subtracting 1 now 4 \n"
     ]
    }
   ],
   "source": [
    "import threading\n",
    "import time\n",
    "value = 0\n",
    "def adder(amount):\n",
    "    time.sleep(1)\n",
    "    global value\n",
    "    value += amount\n",
    "    print(\"adding %d now %d \" %(amount,value))\n",
    "    \n",
    "        \n",
    "def subtractor(amount):\n",
    "    global value\n",
    "    time.sleep(1)\n",
    "    value -= amount\n",
    "    print(\"subtracting %d now %d \" %(amount,value))\n",
    "    \n",
    "\n",
    "threads1 = [threading.Thread(target = adder,args=(i,)) for i in [1,3,0,10]]\n",
    "threads2 = [threading.Thread(target = subtractor,args=(i,)) for i in [4,3,2,1]]\n",
    "\n",
    "threads1.extend(threads2)\n",
    "\n",
    "for t in threads1:\n",
    "    t.start()"
   ]
  },
  {
   "cell_type": "markdown",
   "id": "e2423cb8-a0a6-4828-a19a-f83e3f4d35d5",
   "metadata": {},
   "source": [
    "### Here we can see that there is unpredictable value"
   ]
  },
  {
   "cell_type": "code",
   "execution_count": null,
   "id": "7ac53e41-eeea-441e-b467-8db15ed63430",
   "metadata": {},
   "outputs": [],
   "source": []
  }
 ],
 "metadata": {
  "kernelspec": {
   "display_name": "Python 3 (ipykernel)",
   "language": "python",
   "name": "python3"
  },
  "language_info": {
   "codemirror_mode": {
    "name": "ipython",
    "version": 3
   },
   "file_extension": ".py",
   "mimetype": "text/x-python",
   "name": "python",
   "nbconvert_exporter": "python",
   "pygments_lexer": "ipython3",
   "version": "3.10.8"
  }
 },
 "nbformat": 4,
 "nbformat_minor": 5
}
