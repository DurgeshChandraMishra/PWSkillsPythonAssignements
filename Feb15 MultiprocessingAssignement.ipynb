{
 "cells": [
  {
   "cell_type": "markdown",
   "id": "751506c8-d396-4893-9fc1-549160f9ad35",
   "metadata": {},
   "source": [
    "# Feb 15 Multiprocessing assignement"
   ]
  },
  {
   "cell_type": "markdown",
   "id": "9b09be0b-d205-433b-896b-3bbf4978a123",
   "metadata": {},
   "source": [
    "## Q1. What is multiprocessing in python? Why is it useful?"
   ]
  },
  {
   "cell_type": "markdown",
   "id": "05d3384f-ccbb-4325-870b-389e1485f495",
   "metadata": {},
   "source": [
    "### Processing a program into multiple processors or core is multiprocessing. We can utilize the processors core to it maximum by creating multiple processes. It is usefull in enhanced performance of the program. For example a queue can be handled from both ends. one process is adding tasks in queue and another processes is completing it."
   ]
  },
  {
   "cell_type": "markdown",
   "id": "86cb5b46-ac9a-4b0b-85cd-1b1aecc008ed",
   "metadata": {},
   "source": [
    "## Q2. What are the differences between multiprocessing and multithreading?"
   ]
  },
  {
   "cell_type": "markdown",
   "id": "0a520a86-85cb-43ab-9ea9-14b597ecd555",
   "metadata": {},
   "source": [
    "### Difference between multiprocessing and multithreading are as -\n",
    "1) Multithreading utilize the single core of processor to its maximum but multiprocessing utilize the cores of processors .\n",
    "2) Threads are lightweight programs where as processes can be used for complex programs\n",
    "3) Threading are easier to manage than multiprocessing\n",
    "4) threading module is used for multithreading and for multiprocessing multiprocessing module is used\n"
   ]
  },
  {
   "cell_type": "markdown",
   "id": "d10a29a6-e56c-4763-8cbc-c3f5bb3e1df7",
   "metadata": {},
   "source": [
    "## Q3. Write a python code to create a process using the multiprocessing module."
   ]
  },
  {
   "cell_type": "code",
   "execution_count": 6,
   "id": "7ffcbbe5-5e2b-406d-aa9b-59128c19d494",
   "metadata": {},
   "outputs": [
    {
     "name": "stdout",
     "output_type": "stream",
     "text": [
      "1\n",
      "2\n",
      "3\n",
      "4\n",
      "5\n",
      "6\n",
      "7\n",
      "2\n",
      "4\n",
      "5\n",
      "6\n",
      "7\n",
      "8\n",
      "9\n"
     ]
    }
   ],
   "source": [
    "import multiprocessing\n",
    "def test(i) :\n",
    "    print(i)\n",
    "    \n",
    "if __name__ == \"__main__\":\n",
    "    ls = [1,2,3,4,5,6,7,2,4,5,6,7,8,9]\n",
    "    pr = [multiprocessing.Process(target=test, args=(i,)) for i in ls]\n",
    "    for p in pr:\n",
    "        p.start()\n",
    "        p.join()"
   ]
  },
  {
   "cell_type": "markdown",
   "id": "81003aaa-bd15-4a71-a3ea-766a25e04737",
   "metadata": {},
   "source": [
    "## Q4. What is a multiprocessing pool in python? Why is it used?"
   ]
  },
  {
   "cell_type": "markdown",
   "id": "15e683df-8198-42f1-ae7b-231b0cf0b0af",
   "metadata": {},
   "source": [
    "### A multiprocessing pool in python offers a convenient means of parallelizing the execution of a function across multiple input values, distributing the input data across processes (data parallelism).It controls a pool of worker processes to which jobs can be submitted. It supports asynchronous results with timeouts and callbacks and has a parallel map implementation."
   ]
  },
  {
   "cell_type": "markdown",
   "id": "c9168ff8-a52a-4e8f-8f9a-4ba3d9fe8b7f",
   "metadata": {},
   "source": [
    "## Q5. How can we create a pool of worker processes in python using the multiprocessing module?"
   ]
  },
  {
   "cell_type": "code",
   "execution_count": 8,
   "id": "be02f2a9-56b6-48e5-977d-20b20d0ac39d",
   "metadata": {},
   "outputs": [
    {
     "name": "stdout",
     "output_type": "stream",
     "text": [
      "[1, 4, 16, 36, 16, 49, 64, 81, 121, 1024]\n"
     ]
    }
   ],
   "source": [
    "import multiprocessing\n",
    "\n",
    "def square(x):\n",
    "    return x**2\n",
    "\n",
    "if __name__ == \"__main__\" :\n",
    "    with  multiprocessing.Pool(5) as pool:\n",
    "        output = pool.map(square,[1,2,4,6,4,7,8,9,11,32])\n",
    "        print(output)\n",
    "        pool.close()"
   ]
  },
  {
   "cell_type": "markdown",
   "id": "05b256eb-50ef-40c1-a5d5-697ddeedddab",
   "metadata": {},
   "source": [
    "## Q6. Write a python program to create 4 processes, each process should print a different number using the multiprocessing module in python."
   ]
  },
  {
   "cell_type": "code",
   "execution_count": 10,
   "id": "47983386-9982-4baa-b6d8-9d156118ed51",
   "metadata": {},
   "outputs": [
    {
     "name": "stdout",
     "output_type": "stream",
     "text": [
      "2143\n",
      "\n",
      "\n",
      "\n"
     ]
    }
   ],
   "source": [
    "import multiprocessing\n",
    "\n",
    "def fun(i):\n",
    "    print(i)\n",
    "\n",
    "if __name__ == \"__main__\":\n",
    "    with multiprocessing.Pool(processes=4) as p:\n",
    "        p.map(fun,[1,2,3,4])\n",
    "        p.close()"
   ]
  },
  {
   "cell_type": "code",
   "execution_count": null,
   "id": "58c4ee9c-cdfd-4386-9967-ce61e14b9701",
   "metadata": {},
   "outputs": [],
   "source": []
  }
 ],
 "metadata": {
  "kernelspec": {
   "display_name": "Python 3 (ipykernel)",
   "language": "python",
   "name": "python3"
  },
  "language_info": {
   "codemirror_mode": {
    "name": "ipython",
    "version": 3
   },
   "file_extension": ".py",
   "mimetype": "text/x-python",
   "name": "python",
   "nbconvert_exporter": "python",
   "pygments_lexer": "ipython3",
   "version": "3.10.8"
  }
 },
 "nbformat": 4,
 "nbformat_minor": 5
}
