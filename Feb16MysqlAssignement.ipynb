{
 "cells": [
  {
   "cell_type": "markdown",
   "id": "7819cf1a-d8af-4a61-919b-dd33bc663a91",
   "metadata": {},
   "source": [
    "# Feb 16 Mysql Assignement"
   ]
  },
  {
   "cell_type": "markdown",
   "id": "e860363f-c805-468b-8091-eb2e08aed8fa",
   "metadata": {},
   "source": [
    "## Q1. What is a database? Differentiate between SQL and NoSQL databases."
   ]
  },
  {
   "cell_type": "markdown",
   "id": "48415ad8-e8e3-45bf-ae21-04a72d35db92",
   "metadata": {},
   "source": [
    "### Database is a collection of related data.It can have multiple tables or collections which stores data in it. Database is managed by some Database managemnet system softwares like MySql, MongoDB, MSSql,HBase etc.\n",
    "### Based on Query there are 2 types of Database \\\n",
    "a) SQL \\\n",
    "b) NoSQL \\\n",
    "### Differences between these are as -\n",
    "\n",
    "1) SQL stands for Structured Query Language and NoSQL stands for Not Only Structured Query Language.\n",
    "2) In SQL based DB data are stored in the form of table where as in NoSQL DB data are stored in collections\n",
    "3) In SQL DB tables are formed with rows and columns like an worksheet and in NoSQL DB collections are documents in the form of JSON\n",
    "4) In SQL DB columns name and number are fixed where as in NoSQL DB structure of the document is not fixed.\n"
   ]
  },
  {
   "cell_type": "markdown",
   "id": "618ffef4-e4a2-44aa-a863-37eb0f056684",
   "metadata": {},
   "source": [
    "## Q2. What is DDL? Explain why CREATE, DROP, ALTER, and TRUNCATE are used with an example."
   ]
  },
  {
   "cell_type": "markdown",
   "id": "8c71e735-bbb8-443c-bd8c-0104734c51a7",
   "metadata": {},
   "source": [
    "### DDL stands for Data Definition Language. It has the set of SQL statement which create,Delete,Change the database and tables. Sme of the DDL statements are -\n",
    "### CREATE\n",
    "### DROP\n",
    "### ALTER\n",
    "### TRUNCATE\n"
   ]
  },
  {
   "cell_type": "markdown",
   "id": "f45516e3-dcc3-4539-a8c9-3a2bf40e9d88",
   "metadata": {},
   "source": [
    "#### CREATE statement is used to create new database or table inside a database like\n",
    "CREATE databse test"
   ]
  },
  {
   "cell_type": "markdown",
   "id": "a09cf9e7-6004-4403-9bc1-fc1005fe2568",
   "metadata": {},
   "source": [
    "create table student(\n",
    "    id int PRIMARY KEY AUTO_INCREMENT,\n",
    "    name varchar(100),\n",
    "    email varchar(100),\n",
    "    course enum(\"DSM\",\"WEB\",\"DSA\")\n",
    ")"
   ]
  },
  {
   "cell_type": "markdown",
   "id": "3764bd05-3f4e-4a09-a997-bf3b0646ba09",
   "metadata": {},
   "source": [
    "### DROP "
   ]
  },
  {
   "cell_type": "markdown",
   "id": "2e5622c9-0e04-4e27-acce-879020689805",
   "metadata": {},
   "source": [
    "DROP statement is used to delete database or table like-\\\n",
    "DROP table student\\\n",
    "DROP database test\\"
   ]
  },
  {
   "cell_type": "markdown",
   "id": "d16e5d70-48f5-40cc-8e48-e7eba7738d29",
   "metadata": {},
   "source": [
    "### ALTER"
   ]
  },
  {
   "cell_type": "markdown",
   "id": "0e7e5f73-ce7f-46d1-a33c-836816509bce",
   "metadata": {},
   "source": [
    "#### ALTER statement is used to change the structure of a table like adding new columns in a table, droping columns,adding indexes to a table,changing the datatype of a column etc for example\n"
   ]
  },
  {
   "cell_type": "markdown",
   "id": "498add4a-37fe-4a87-a931-f76187c9b3a9",
   "metadata": {},
   "source": [
    "ALTER TABLE student ADD column city varchar(10)"
   ]
  },
  {
   "cell_type": "markdown",
   "id": "026fbcc9-9fe7-4c81-b1a7-de033075d58b",
   "metadata": {},
   "source": [
    "### TRUNCATE"
   ]
  },
  {
   "cell_type": "markdown",
   "id": "941e03d9-4e1a-4230-96f8-31bc1fa60ccb",
   "metadata": {},
   "source": [
    "TRUNCATE statement is used to delete all the records in a table and restructures and refresh it.\n"
   ]
  },
  {
   "cell_type": "markdown",
   "id": "3adebea8-1032-4b5f-a0aa-9543bae8aff1",
   "metadata": {},
   "source": [
    "TRUNCATE TABLE student"
   ]
  },
  {
   "cell_type": "markdown",
   "id": "79b595ed-39aa-4218-81e9-b2ce5e0fe0ce",
   "metadata": {},
   "source": [
    "## Q3. What is DML? Explain INSERT, UPDATE, and DELETE with an example."
   ]
  },
  {
   "cell_type": "markdown",
   "id": "96f7463b-b2d3-4172-95f2-5a0867ac4593",
   "metadata": {},
   "source": [
    "### DML stands for Data Manipulation Language. It has the set of statements which manipulates data i.e. changes the data inside a tables."
   ]
  },
  {
   "cell_type": "markdown",
   "id": "16f70922-a45c-475d-b0bb-0027be3e143a",
   "metadata": {},
   "source": [
    "### INSERT"
   ]
  },
  {
   "cell_type": "markdown",
   "id": "8d278f08-b69e-47f6-8327-3d1ca80827e2",
   "metadata": {},
   "source": [
    "#### INSERT statement adds new data to a given table\n",
    "INSERT INTO student(name,email,course) VALUES (\"abc\",\"abc@example.com\",\"DSM\")"
   ]
  },
  {
   "cell_type": "markdown",
   "id": "48546db1-a8ac-439b-a7db-a215debbe2d4",
   "metadata": {},
   "source": [
    "### UPDATE"
   ]
  },
  {
   "cell_type": "markdown",
   "id": "61c7e21b-6f55-4380-94dc-9f07e9843ea9",
   "metadata": {},
   "source": [
    "#### UPDATE statement is used to update one or more existing row/s of a table\n",
    "UPDATE student SET course=\"DSA\" WHERE name=\"abc\""
   ]
  },
  {
   "cell_type": "markdown",
   "id": "1196eeaa-e77a-492d-a550-11f8c2f1befe",
   "metadata": {},
   "source": [
    "### DELETE"
   ]
  },
  {
   "cell_type": "markdown",
   "id": "52fa58bf-aa75-443a-9245-ae9c1d24e4a7",
   "metadata": {},
   "source": [
    "#### DELETE statement is used to delete one or more row/s from a table\n",
    "DELETE FROM student WHERE name=\"abc\""
   ]
  },
  {
   "cell_type": "markdown",
   "id": "2815fb53-4dd4-4973-9613-ce9896b76bf2",
   "metadata": {},
   "source": [
    "## Q4. What is DQL? Explain SELECT with an example."
   ]
  },
  {
   "cell_type": "markdown",
   "id": "6a38a572-57cb-433b-a6e2-312734bc74de",
   "metadata": {},
   "source": [
    "DQL stands for Data Query Language and has statement to get the records from tables."
   ]
  },
  {
   "cell_type": "markdown",
   "id": "27cd28a5-6cec-4f23-8a98-6ebe08f5ac3f",
   "metadata": {},
   "source": [
    "### SELECT"
   ]
  },
  {
   "cell_type": "markdown",
   "id": "bdce0fcc-fae6-4799-a5b3-f71b1f92cc94",
   "metadata": {},
   "source": [
    "### SELECT statement is DQL of mysql and fetches the records from one or more tables. It has a rich set of sub statement which is used to get desired  data from different tables based on WHERE filter and from multiple tables using JOINs.\n",
    "\n",
    "SELECT name,email FROM student where course=\"DSM\""
   ]
  },
  {
   "cell_type": "markdown",
   "id": "7a79733d-2d7b-4640-8317-245ecafa70ad",
   "metadata": {},
   "source": [
    "## Q5. Explain Primary Key and Foreign Key."
   ]
  },
  {
   "cell_type": "markdown",
   "id": "5c5ed4c5-3df3-44af-b4dd-a21cc2c3b206",
   "metadata": {},
   "source": [
    "### Primary Key of a table uniquely identifies each row. For example in a database of employees employee_id uniquly identifies each row."
   ]
  },
  {
   "cell_type": "markdown",
   "id": "e39f70c4-3f43-43ae-939b-577a09fea9af",
   "metadata": {},
   "source": [
    "### Foreign Key is the key in a table which is primary key of anther table. It is used to maintain a relationship between two tables.Using Foreign key we normalize the tables.\n",
    "#### For example there is a table course(course_id primary key,course_name,course_fee) and a table of student(id,name,email,course_id foregin key course.course_id) \n",
    "#### Here column course_id is the primary key of table course and acting as foregin key in table student."
   ]
  },
  {
   "cell_type": "markdown",
   "id": "1d0627a3-92d2-4712-ad28-d55dff79d622",
   "metadata": {},
   "source": [
    "## Q6. Write a python code to connect MySQL to python. Explain the cursor() and execute() method."
   ]
  },
  {
   "cell_type": "markdown",
   "id": "d4636477-8ddd-425b-9c10-7cc1173124fe",
   "metadata": {},
   "source": [
    "import mysql.connector\\\n",
    "\n",
    "mydb = mysql.connector.connect(\\\n",
    "  host=\"localhost\",\\\n",
    "  user=\"abc\",\\\n",
    "  password=\"password\",\\\n",
    "  database = \"dcm\"\\\n",
    "\n",
    ")\\\n",
    "print(mydb)\\\n",
    "mycursor = mydb.cursor()\\\n",
    "sql = \"Select * from student\"\\\n",
    "mycursor.execute(sql)\\\n",
    "for row in mycursor.fetchall() :\\\n",
    "    print(row)\\\n",
    "mydb.close()"
   ]
  },
  {
   "cell_type": "markdown",
   "id": "c8482df6-9f10-4586-bf21-8bb2970eb24a",
   "metadata": {},
   "source": [
    "#### cursor() is a method which returns a cursor object which interacts to the database and has methods to execute the queries and results"
   ]
  },
  {
   "cell_type": "markdown",
   "id": "2e226b63-c529-4b03-ac72-40ab966281cf",
   "metadata": {},
   "source": [
    "#### We can execute any query using execute() method"
   ]
  },
  {
   "cell_type": "markdown",
   "id": "cf014327-b649-4855-8e8c-e3b196d20ddf",
   "metadata": {},
   "source": [
    "## Q7. Give the order of execution of SQL clauses in an SQL query."
   ]
  },
  {
   "cell_type": "markdown",
   "id": "7133b60d-9c78-4bdf-ba57-7b6b0477b6fd",
   "metadata": {},
   "source": [
    "1. FROM/JOIN: The FROM and/or JOIN clauses are executed first to determine the data of interest.\n",
    "\n",
    "2. WHERE: The WHERE clause is executed to filter out records that do not meet the constraints.\n",
    "\n",
    "3. GROUP BY: The GROUP BY clause is executed to group the data based on the values in one or more columns.\n",
    "\n",
    "4. HAVING: The HAVING clause is executed to remove the created grouped records that don’t meet the constraints.\n",
    "\n",
    "5. SELECT: The SELECT clause is executed to derive all desired columns and expressions.\n",
    "\n",
    "6. ORDER BY: The ORDER BY clause is executed to sort the derived values in ascending or descending order.\n",
    "\n",
    "7. LIMIT/OFFSET: Finally, the LIMIT and/or OFFSET clauses are executed to keep or skip a specified number of rows.\n"
   ]
  },
  {
   "cell_type": "code",
   "execution_count": null,
   "id": "2747b1ae-2809-4c1a-a5a9-1724a8f36a32",
   "metadata": {},
   "outputs": [],
   "source": []
  }
 ],
 "metadata": {
  "kernelspec": {
   "display_name": "Python 3 (ipykernel)",
   "language": "python",
   "name": "python3"
  },
  "language_info": {
   "codemirror_mode": {
    "name": "ipython",
    "version": 3
   },
   "file_extension": ".py",
   "mimetype": "text/x-python",
   "name": "python",
   "nbconvert_exporter": "python",
   "pygments_lexer": "ipython3",
   "version": "3.10.8"
  }
 },
 "nbformat": 4,
 "nbformat_minor": 5
}
