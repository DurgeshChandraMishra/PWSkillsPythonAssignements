{
 "cells": [
  {
   "cell_type": "markdown",
   "id": "c257537b-d507-4c6b-b244-cd93a1d81b04",
   "metadata": {},
   "source": [
    "# Feb 18 WebAPI Assignement"
   ]
  },
  {
   "cell_type": "markdown",
   "id": "d8e3f6f3-1d93-4838-894a-2913564c0a3b",
   "metadata": {},
   "source": [
    "## Q1. What is an API? Give an example, where an API is used in real life."
   ]
  },
  {
   "cell_type": "markdown",
   "id": "8507c60f-71c4-46f9-a837-ff287071225b",
   "metadata": {},
   "source": [
    "### API stands for Application Programming Interface.It provides a way of communicating different applications with each other.\n",
    "### Both of the application may have on different plateform or built on different technologies.\n",
    "### We live in the era of IT and there are many real life examples like ATM, Mobile payment,Online banking,Ecommerce websites and all the mobile applications , Web applications and a lot more.\n",
    "### Lets take an example of E-commerce sites.\n",
    "### When we lands on its home page It shows lots of products. All data are represented using HTML,CSS and Javascript . When we click on a product an API is called in the backend and returns the details of the product, Now using this data Front end of the website renders this information in the tempalate of Product detail page."
   ]
  },
  {
   "cell_type": "markdown",
   "id": "b03250a3-2904-420c-95ad-9681348cdadd",
   "metadata": {},
   "source": [
    "# Q2. Give advantages and disadvantages of using API."
   ]
  },
  {
   "cell_type": "markdown",
   "id": "9a419f9b-224d-41d8-a339-927a2c2a6413",
   "metadata": {},
   "source": [
    "### advantages of an API are -\n",
    "1) Application becomes scalable and flexible \n",
    "2) Can communicate with any other application regardless of there underlying architecture\n",
    "3) Application can be isolated by grouping individual tasks\n",
    "4) Calling applications need not to wait for completion of the tasks of the called application\n",
    "5) Can communicate with remote applications\n",
    "### Disvantages of an API\n",
    "1) It is dependent on some medium of communication like network\n",
    "2) Network latency may take more time to respond\n",
    "3) A proper format of communication is defined for both applications\n",
    "4) To create API, programming knowledge is necessary."
   ]
  },
  {
   "cell_type": "markdown",
   "id": "92a899e5-f525-4c52-8d5e-819ee5dce4e3",
   "metadata": {},
   "source": [
    "## Q3. What is a Web API? Differentiate between API and Web API."
   ]
  },
  {
   "cell_type": "markdown",
   "id": "bdb06d1a-b3d1-4980-bf16-b13c5421a952",
   "metadata": {},
   "source": [
    "### A web API is the type of API which communicate with remote applications using HTTP protocols and methods."
   ]
  },
  {
   "cell_type": "markdown",
   "id": "a0164b7f-b641-48e4-98cd-19a5b5c4e14b",
   "metadata": {},
   "source": [
    "### Web API is a type of API .\n",
    "### API uses HTTP,TCP/IP, SMTP,FTP etc protocols where WebAPIs uses only HTTP and SOAP"
   ]
  },
  {
   "cell_type": "markdown",
   "id": "a8452354-6e25-4d29-9b4b-b0fff62eecbf",
   "metadata": {},
   "source": [
    "## Q4. Explain REST and SOAP Architecture. Mention shortcomings of SOAP."
   ]
  },
  {
   "cell_type": "markdown",
   "id": "1a5e9dde-ff60-4429-907a-977aa68e11eb",
   "metadata": {},
   "source": [
    "### REST stands for Represeantational State Transfer is a set of architectural principles.It attuned to the needs of lightweight web services and mobile applications. Because it's a set of guidelines, it leaves the implementation of these recommendations to developers"
   ]
  },
  {
   "cell_type": "markdown",
   "id": "ad6674b0-5b70-4704-83e1-ba906484fbc2",
   "metadata": {},
   "source": [
    "An application is said to be RESTful if it follows 6 architectural guidelines. A RESTful application must have:\n",
    "\n",
    "    A client-server architecture composed of clients, servers, and resources.\n",
    "    Stateless client-server communication, meaning no client content is stored on the server between requests. Information about the session’s state is instead held with the client.\n",
    "    Cacheable data to eliminate the need for some client-server interactions.\n",
    "    A uniform interface between components so that information is transferred in a standardized form instead of specific to an application’s needs. The originator of REST, as “the central feature that distinguishes the REST architectural style from other network-based styles.”\n",
    "    A layered system constraint, where client-server interactions can be mediated by hierarchical layers.\n",
    "    Code on demand, allowing servers to extend the functionality of a client by transferring executable code (though also reducing visibility, making this an optional guideline)."
   ]
  },
  {
   "cell_type": "markdown",
   "id": "d634222e-797e-48f6-add6-a7b7359598ff",
   "metadata": {},
   "source": [
    "### SOAP: simple object access protocol"
   ]
  },
  {
   "cell_type": "markdown",
   "id": "6cd94929-e54a-496e-aec5-6627ca5acde0",
   "metadata": {},
   "source": [
    "### Common web service specifications include:\n",
    "\n",
    "    Web services security (WS-security): Standardizes how messages are secured and transferred through unique identifiers called tokens.\n",
    "    WS-ReliableMessaging: Standardizes error handling between messages transferred across unreliable IT infrastructure.\n",
    "    Web services addressing (WS-addressing): Packages routing information as metadata within SOAP headers, instead of maintaining such information deeper within the network.\n",
    "    Web services description language (WSDL): Describes what a web service does, and where that service begins and ends."
   ]
  },
  {
   "cell_type": "markdown",
   "id": "140ce2fe-60e1-4d40-8149-0d85c655dfc4",
   "metadata": {},
   "source": [
    "### Shortcomming of SOAP"
   ]
  },
  {
   "cell_type": "markdown",
   "id": "41d2c327-f63f-43c3-9f21-8fc242aae1b6",
   "metadata": {},
   "source": [
    "### Because it is a protocol, it imposes built-in rules that increase its complexity and overhead, which can lead to longer page load times"
   ]
  },
  {
   "cell_type": "markdown",
   "id": "87ac17b3-5122-475e-95ff-c5eb55f7c722",
   "metadata": {},
   "source": [
    "## Q5. Differentiate between REST and SOAP."
   ]
  },
  {
   "cell_type": "markdown",
   "id": "40a13159-2228-4fba-98ff-0c97a3504aca",
   "metadata": {},
   "source": [
    "### Representational state transfer (REST) is a set of architectural principles. Simple object access protocol (SOAP) is an official protocol maintained by the World Wide Web Consortium (W3C). The main difference is that SOAP is a protocol while REST is not"
   ]
  },
  {
   "cell_type": "markdown",
   "id": "64c9b7d1-4a9f-466e-adb6-b08676a0dd28",
   "metadata": {},
   "source": [
    "### REST is easy to implemnt and scale where as SOAP is complex"
   ]
  },
  {
   "cell_type": "markdown",
   "id": "3f73d8dc-b95a-4ffa-ae0e-d097818bc25a",
   "metadata": {},
   "source": [
    "### REST is light weight and SOAP is heavier."
   ]
  },
  {
   "cell_type": "code",
   "execution_count": null,
   "id": "b0aacbee-8d58-48a7-9717-f1e58971b26d",
   "metadata": {},
   "outputs": [],
   "source": []
  }
 ],
 "metadata": {
  "kernelspec": {
   "display_name": "Python 3 (ipykernel)",
   "language": "python",
   "name": "python3"
  },
  "language_info": {
   "codemirror_mode": {
    "name": "ipython",
    "version": 3
   },
   "file_extension": ".py",
   "mimetype": "text/x-python",
   "name": "python",
   "nbconvert_exporter": "python",
   "pygments_lexer": "ipython3",
   "version": "3.10.8"
  }
 },
 "nbformat": 4,
 "nbformat_minor": 5
}
