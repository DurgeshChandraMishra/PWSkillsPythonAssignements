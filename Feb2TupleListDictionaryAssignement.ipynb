{
 "cells": [
  {
   "cell_type": "markdown",
   "id": "286d30c8-6689-4498-b365-21bb965dee3a",
   "metadata": {},
   "source": [
    "# Assignment Feb 2 List , Tuple and Dictionary\n"
   ]
  },
  {
   "cell_type": "markdown",
   "id": "db155b6c-6c06-406f-9451-81411b40392b",
   "metadata": {},
   "source": [
    "## Q1. What are the characteristics of the tuples? Is tuple immutable?"
   ]
  },
  {
   "cell_type": "markdown",
   "id": "84a8f291-3420-445c-ade6-9622060a8f3a",
   "metadata": {},
   "source": [
    "### Ans"
   ]
  },
  {
   "cell_type": "markdown",
   "id": "430bfe33-5803-4d1f-b2b8-0c5e8bdff3ac",
   "metadata": {},
   "source": [
    "1. Tuples are one of the collections of Python\n",
    "2. It can store multiple items in a single variable\n",
    "3. We can not update items of tuple\n",
    "4. The items of tuple are indexed\n",
    "5. A tuple may contain duplicate items.\n",
    "6. A tuple can contain different data types.\n",
    "Tuples are immutable i.e. once created can not be changed."
   ]
  },
  {
   "cell_type": "markdown",
   "id": "debad1ac-3583-4904-82c3-79e61c302941",
   "metadata": {},
   "source": [
    "## Q2. What are the two tuple methods in python? Give an example of each method. Give a reason why tuples have only two in-built methods as compared to Lists."
   ]
  },
  {
   "cell_type": "markdown",
   "id": "7164187d-26f9-46c4-8d62-969f731735dd",
   "metadata": {},
   "source": [
    "Ans : The two tuple methods are \n",
    "    "
   ]
  },
  {
   "cell_type": "markdown",
   "id": "50c9bd53-155c-4010-b346-aaeb88409671",
   "metadata": {},
   "source": [
    "#### index and count \n",
    "### index\n",
    "##### The index method returns the index of first occurence of the value passed in the method. And if the value is not present then it throws an value error\n",
    "    "
   ]
  },
  {
   "cell_type": "code",
   "execution_count": 3,
   "id": "114ac0cd-4a75-4af2-9d29-c8d7079daf65",
   "metadata": {},
   "outputs": [],
   "source": [
    "tpl = (1,2,3,4,'Durgesh',12.5)"
   ]
  },
  {
   "cell_type": "code",
   "execution_count": 4,
   "id": "fa879ce1-e27d-49e2-a889-1436f9a68432",
   "metadata": {},
   "outputs": [
    {
     "data": {
      "text/plain": [
       "3"
      ]
     },
     "execution_count": 4,
     "metadata": {},
     "output_type": "execute_result"
    }
   ],
   "source": [
    "tpl.index(4)"
   ]
  },
  {
   "cell_type": "markdown",
   "id": "1994cd1b-1ebe-4cb0-b953-0d9a22bfcb33",
   "metadata": {},
   "source": [
    "The value 4 is present at index 3"
   ]
  },
  {
   "cell_type": "code",
   "execution_count": 5,
   "id": "ba733f55-22df-4c22-8eef-15d0830fceaa",
   "metadata": {},
   "outputs": [
    {
     "ename": "ValueError",
     "evalue": "tuple.index(x): x not in tuple",
     "output_type": "error",
     "traceback": [
      "\u001b[0;31m---------------------------------------------------------------------------\u001b[0m",
      "\u001b[0;31mValueError\u001b[0m                                Traceback (most recent call last)",
      "Cell \u001b[0;32mIn[5], line 1\u001b[0m\n\u001b[0;32m----> 1\u001b[0m \u001b[43mtpl\u001b[49m\u001b[38;5;241;43m.\u001b[39;49m\u001b[43mindex\u001b[49m\u001b[43m(\u001b[49m\u001b[38;5;124;43m'\u001b[39;49m\u001b[38;5;124;43mx\u001b[39;49m\u001b[38;5;124;43m'\u001b[39;49m\u001b[43m)\u001b[49m\n",
      "\u001b[0;31mValueError\u001b[0m: tuple.index(x): x not in tuple"
     ]
    }
   ],
   "source": [
    "tpl.index('x')"
   ]
  },
  {
   "cell_type": "markdown",
   "id": "358e220d-0673-4e88-b21a-c502bacfd956",
   "metadata": {},
   "source": [
    "It throws error if value not present in the tuple"
   ]
  },
  {
   "cell_type": "markdown",
   "id": "8b42101c-080a-4c61-a357-e8959cd6c695",
   "metadata": {},
   "source": [
    "### count"
   ]
  },
  {
   "cell_type": "markdown",
   "id": "c3ed81ee-9ae6-46e5-a98f-4cb3d3f12bb1",
   "metadata": {},
   "source": [
    "This method returns the number of occurence of the value passed as argument"
   ]
  },
  {
   "cell_type": "markdown",
   "id": "6e3752a1-4238-479a-bd8a-b4873739e204",
   "metadata": {},
   "source": [
    "E.g."
   ]
  },
  {
   "cell_type": "code",
   "execution_count": 7,
   "id": "815204d5-4da1-44ac-9394-c0909b2b5ae1",
   "metadata": {},
   "outputs": [
    {
     "data": {
      "text/plain": [
       "2"
      ]
     },
     "execution_count": 7,
     "metadata": {},
     "output_type": "execute_result"
    }
   ],
   "source": [
    "tpl2 = (1,2,3,\"Durgesh\",1)\n",
    "tpl2.count(1)"
   ]
  },
  {
   "cell_type": "code",
   "execution_count": 8,
   "id": "20363671-a875-4754-8bd0-a387e289e62a",
   "metadata": {},
   "outputs": [
    {
     "data": {
      "text/plain": [
       "0"
      ]
     },
     "execution_count": 8,
     "metadata": {},
     "output_type": "execute_result"
    }
   ],
   "source": [
    "tpl2.count('x')"
   ]
  },
  {
   "cell_type": "code",
   "execution_count": 9,
   "id": "aa05ea19-667d-4f4d-8e11-f82fdf9b2dd1",
   "metadata": {},
   "outputs": [
    {
     "data": {
      "text/plain": [
       "1"
      ]
     },
     "execution_count": 9,
     "metadata": {},
     "output_type": "execute_result"
    }
   ],
   "source": [
    "tpl2.count(2)"
   ]
  },
  {
   "cell_type": "markdown",
   "id": "c4a4a7ba-bb72-4236-874e-0a6371d4e80a",
   "metadata": {},
   "source": [
    "## Q3. Which collection datatypes in python do not allow duplicate items? Write a code using a set to remove\n",
    "## duplicates from the given list.\n",
    "## List = [1, 1, 1, 2, 1, 3, 1, 4, 2, 1, 2, 2, 2, 3, 2, 4, 3, 1, 3, 2, 3, 3, 3, 4, 4, 1, 4, 2, 4, 3, 4, 4]"
   ]
  },
  {
   "cell_type": "markdown",
   "id": "dc41489d-6599-4ade-ae75-aaae6a268876",
   "metadata": {},
   "source": [
    "### Ans 3"
   ]
  },
  {
   "cell_type": "markdown",
   "id": "a8166a91-9642-4240-9cdf-f9251ef98f57",
   "metadata": {},
   "source": [
    "A <b>set </b> datatype do not allow duplicate values."
   ]
  },
  {
   "cell_type": "code",
   "execution_count": 11,
   "id": "e215edb8-a729-46af-a0b1-ee71a440586f",
   "metadata": {},
   "outputs": [],
   "source": [
    "List = [1, 1, 1, 2, 1, 3, 1, 4, 2, 1, 2, 2, 2, 3, 2, 4, 3, 1, 3, 2, 3, 3, 3, 4, 4, 1, 4, 2, 4, 3, 4, 4]"
   ]
  },
  {
   "cell_type": "code",
   "execution_count": 12,
   "id": "4cb8ecc3-f72a-429b-985f-8e773895113e",
   "metadata": {},
   "outputs": [],
   "source": [
    "Set = set(List)"
   ]
  },
  {
   "cell_type": "code",
   "execution_count": 15,
   "id": "2c2889bb-b810-45b6-b3f1-5883ef6ff793",
   "metadata": {},
   "outputs": [
    {
     "data": {
      "text/plain": [
       "[1, 2, 3, 4]"
      ]
     },
     "execution_count": 15,
     "metadata": {},
     "output_type": "execute_result"
    }
   ],
   "source": [
    "List = list(Set)\n",
    "List"
   ]
  },
  {
   "cell_type": "markdown",
   "id": "1d1f99cd-ee74-4825-a79c-7c30b44b49bd",
   "metadata": {},
   "source": [
    "## Q4. Explain the difference between the union() and update() methods for a set. Give an example of each method."
   ]
  },
  {
   "cell_type": "markdown",
   "id": "2be6c6fe-2c49-4e92-b718-f91c6adfa8d2",
   "metadata": {},
   "source": [
    "## Ans"
   ]
  },
  {
   "cell_type": "markdown",
   "id": "f03158e1-e87f-4a5c-8932-e7d541ea6af4",
   "metadata": {},
   "source": [
    "The difference between union and update is that union method returns a new set with union of both sets\\\n",
    "where as update method perform union with given set and update to itself for e.g."
   ]
  },
  {
   "cell_type": "code",
   "execution_count": 17,
   "id": "731c9f9a-243d-4e4d-98df-bba05882ce55",
   "metadata": {},
   "outputs": [],
   "source": [
    "set1 = {1,2,3,4,6}\n",
    "set2 = {2,8,12}"
   ]
  },
  {
   "cell_type": "code",
   "execution_count": 18,
   "id": "572ba765-2a0e-44d1-85e1-e648e88bc623",
   "metadata": {},
   "outputs": [
    {
     "data": {
      "text/plain": [
       "{1, 2, 3, 4, 6}"
      ]
     },
     "execution_count": 18,
     "metadata": {},
     "output_type": "execute_result"
    }
   ],
   "source": [
    "set1"
   ]
  },
  {
   "cell_type": "code",
   "execution_count": 19,
   "id": "5dee0476-3cf8-42a7-90b3-8bdb3c147078",
   "metadata": {},
   "outputs": [
    {
     "data": {
      "text/plain": [
       "{2, 8, 12}"
      ]
     },
     "execution_count": 19,
     "metadata": {},
     "output_type": "execute_result"
    }
   ],
   "source": [
    "set2"
   ]
  },
  {
   "cell_type": "code",
   "execution_count": 20,
   "id": "93ccc1ba-9877-4108-8b39-29579769969e",
   "metadata": {},
   "outputs": [
    {
     "data": {
      "text/plain": [
       "{1, 2, 3, 4, 6, 8, 12}"
      ]
     },
     "execution_count": 20,
     "metadata": {},
     "output_type": "execute_result"
    }
   ],
   "source": [
    "set1.union(set2)"
   ]
  },
  {
   "cell_type": "markdown",
   "id": "2c9d291f-fc03-47de-b306-71dad6fa2344",
   "metadata": {},
   "source": [
    "set 1 has no effect\n"
   ]
  },
  {
   "cell_type": "code",
   "execution_count": 30,
   "id": "ee93a9c2-a820-4459-8682-df7fe222c5ac",
   "metadata": {},
   "outputs": [
    {
     "data": {
      "text/plain": [
       "{1, 2, 3, 4, 6, 8, 12}"
      ]
     },
     "execution_count": 30,
     "metadata": {},
     "output_type": "execute_result"
    }
   ],
   "source": [
    "set1"
   ]
  },
  {
   "cell_type": "markdown",
   "id": "b81e306b-7d97-4742-8401-02dab2617eef",
   "metadata": {},
   "source": [
    "Now lets update set1 with set2"
   ]
  },
  {
   "cell_type": "code",
   "execution_count": 23,
   "id": "5e5f207e-482a-4fcc-b01a-23bc6537827a",
   "metadata": {},
   "outputs": [],
   "source": [
    "set1.update(set2)"
   ]
  },
  {
   "cell_type": "code",
   "execution_count": 24,
   "id": "5ea67f1d-586f-4e62-a977-d333ee1655e2",
   "metadata": {},
   "outputs": [
    {
     "data": {
      "text/plain": [
       "{1, 2, 3, 4, 6, 8, 12}"
      ]
     },
     "execution_count": 24,
     "metadata": {},
     "output_type": "execute_result"
    }
   ],
   "source": [
    "set1"
   ]
  },
  {
   "cell_type": "markdown",
   "id": "79bc1730-8dac-406c-b490-d52cd2c9eed5",
   "metadata": {},
   "source": [
    "## Q5. What is a dictionary? Give an example. Also, state whether a dictionary is ordered or unordered."
   ]
  },
  {
   "cell_type": "markdown",
   "id": "d9c57fa2-2b03-44a3-ae33-078f990907eb",
   "metadata": {},
   "source": [
    "## Ans"
   ]
  },
  {
   "cell_type": "markdown",
   "id": "0106fa41-57c1-40f4-bdf7-ef6082036606",
   "metadata": {},
   "source": [
    "Dictionary is a built in collection data type in Python which stores data in key and value pair.\n",
    "It is changable"
   ]
  },
  {
   "cell_type": "markdown",
   "id": "d24106b7-80a3-45e6-ae5b-2978b17b0ede",
   "metadata": {},
   "source": [
    "Dictionaries are ordered as of version 3.7 before 3.7 it was unordered.\\\n",
    "Example of dictionary"
   ]
  },
  {
   "cell_type": "code",
   "execution_count": 26,
   "id": "f9d1a212-ef65-4d60-8179-604e41a6a71a",
   "metadata": {},
   "outputs": [],
   "source": [
    "d = {\"name\":\"Durgesh\",\"age\":18,\"course\":\"Data Science Masters\"}"
   ]
  },
  {
   "cell_type": "code",
   "execution_count": 27,
   "id": "cc9ea79f-58ed-41a6-b07f-3fa10c0012ac",
   "metadata": {},
   "outputs": [
    {
     "data": {
      "text/plain": [
       "{'name': 'Durgesh', 'age': 18, 'course': 'Data Science Masters'}"
      ]
     },
     "execution_count": 27,
     "metadata": {},
     "output_type": "execute_result"
    }
   ],
   "source": [
    "d"
   ]
  },
  {
   "cell_type": "code",
   "execution_count": 28,
   "id": "d10d74cc-6908-4214-bd57-f70696ddf8c4",
   "metadata": {},
   "outputs": [
    {
     "data": {
      "text/plain": [
       "'Data Science Masters'"
      ]
     },
     "execution_count": 28,
     "metadata": {},
     "output_type": "execute_result"
    }
   ],
   "source": [
    "d['course']"
   ]
  },
  {
   "cell_type": "markdown",
   "id": "3a106a4b-8dc5-415f-8a30-6343c0e2d12f",
   "metadata": {},
   "source": [
    "## Q6. Can we create a nested dictionary? If so, please give an example by creating a simple one-level nested dictionary."
   ]
  },
  {
   "cell_type": "markdown",
   "id": "6e7d7b78-187f-44f5-8bfb-1ee386757fb5",
   "metadata": {},
   "source": [
    "## Ans"
   ]
  },
  {
   "cell_type": "markdown",
   "id": "e2b028ac-b615-4050-a701-6e118d8bd65b",
   "metadata": {},
   "source": [
    "Yes, we can create a nested dictionary. Lets see in ths example"
   ]
  },
  {
   "cell_type": "code",
   "execution_count": 33,
   "id": "c7256783-fe52-4f6d-954c-4f6e429d2c97",
   "metadata": {},
   "outputs": [],
   "source": [
    "d1={\"name\":\"Durgesh\",\"Designation\":{\"Team Leader\",\"S/W developer\"},\"address\":{\"addressLne\":\"246/2f Omgayatrinagar\",\"City\":\"Lucknow\"},\"Languages\":[\"PHP\",\"JavaScript\",\"Python\",\"Java\"]}"
   ]
  },
  {
   "cell_type": "code",
   "execution_count": 34,
   "id": "56ab785f-155a-4d59-8aa2-d38c0516e5dd",
   "metadata": {},
   "outputs": [
    {
     "data": {
      "text/plain": [
       "{'name': 'Durgesh',\n",
       " 'Designation': {'S/W developer', 'Team Leader'},\n",
       " 'address': {'addressLne': '246/2f Omgayatrinagar', 'City': 'Lucknow'},\n",
       " 'Languages': ['PHP', 'JavaScript', 'Python', 'Java']}"
      ]
     },
     "execution_count": 34,
     "metadata": {},
     "output_type": "execute_result"
    }
   ],
   "source": [
    "d1"
   ]
  },
  {
   "cell_type": "code",
   "execution_count": 35,
   "id": "7cdb2b1a-98a2-4d5d-839b-014c80c348d2",
   "metadata": {},
   "outputs": [
    {
     "data": {
      "text/plain": [
       "{'addressLne': '246/2f Omgayatrinagar', 'City': 'Lucknow'}"
      ]
     },
     "execution_count": 35,
     "metadata": {},
     "output_type": "execute_result"
    }
   ],
   "source": [
    "d1[\"address\"]\n"
   ]
  },
  {
   "cell_type": "markdown",
   "id": "4c60b293-6dee-4a0f-b23f-c2ee3a6fa5ec",
   "metadata": {},
   "source": [
    "## Q7. Using setdefault() method, create key named topics in the given dictionary and also add the value of \n",
    "## the key as this list ['Python', 'Machine Learning’, 'Deep Learning'] \n",
    "## dict1 = {'language' : 'Python', 'course': 'Data Science Masters'}"
   ]
  },
  {
   "cell_type": "markdown",
   "id": "4c97dd18-7814-4543-82d4-432fded11a17",
   "metadata": {},
   "source": [
    "## Ans "
   ]
  },
  {
   "cell_type": "code",
   "execution_count": 37,
   "id": "1a8e4cfc-9ea8-4d62-ae8c-89060d70e237",
   "metadata": {},
   "outputs": [
    {
     "data": {
      "text/plain": [
       "['Python', 'Machine Learning', 'Deep Learning']"
      ]
     },
     "execution_count": 37,
     "metadata": {},
     "output_type": "execute_result"
    }
   ],
   "source": [
    "topicList =  ['Python', 'Machine Learning', 'Deep Learning']\n",
    "dict1 = {'language' : 'Python', 'course': 'Data Science Masters'}\n",
    "dict1.setdefault(\"topics\",topicList)\n",
    "              "
   ]
  },
  {
   "cell_type": "code",
   "execution_count": 38,
   "id": "23fc0d30-b17a-4098-82cb-4d0988a404af",
   "metadata": {},
   "outputs": [
    {
     "data": {
      "text/plain": [
       "{'language': 'Python',\n",
       " 'course': 'Data Science Masters',\n",
       " 'topics': ['Python', 'Machine Learning', 'Deep Learning']}"
      ]
     },
     "execution_count": 38,
     "metadata": {},
     "output_type": "execute_result"
    }
   ],
   "source": [
    "dict1"
   ]
  },
  {
   "cell_type": "markdown",
   "id": "dcbf90fe-8921-4acf-84fd-242b0e881599",
   "metadata": {},
   "source": [
    "## Q8. What are the three view objects in dictionaries? Use the three in-built methods in python to display\n",
    "## these three view objects for the given dictionary.\n",
    "## dict1 = {'Sport': 'Cricket' , 'Teams': ['India', 'Australia', 'England', 'South Africa', 'Sri Lanka', 'New Zealand']}"
   ]
  },
  {
   "cell_type": "markdown",
   "id": "ed1f1b34-95d8-4f03-89d9-168b838c402f",
   "metadata": {},
   "source": [
    "## Ans"
   ]
  },
  {
   "cell_type": "markdown",
   "id": "2f9618df-9e95-4051-878c-396103442857",
   "metadata": {},
   "source": [
    "Three view objetcs in  dictionaries are keys,values and items . If we change dictionary then values of these views will be affected."
   ]
  },
  {
   "cell_type": "code",
   "execution_count": 41,
   "id": "2a11fb07-f8ec-4b89-b737-e343089b2e92",
   "metadata": {},
   "outputs": [],
   "source": [
    "dict1 = {'Sport': 'Cricket' , 'Teams': ['India', 'Australia', 'England', 'South Africa', 'Sri Lanka', 'New Zealand']}"
   ]
  },
  {
   "cell_type": "code",
   "execution_count": 42,
   "id": "89948119-e997-4620-8108-3cf42a2c26ec",
   "metadata": {},
   "outputs": [],
   "source": [
    "itm = dict1.items()\n",
    "keys = dict1.keys()\n",
    "values = dict1.values()"
   ]
  },
  {
   "cell_type": "code",
   "execution_count": 44,
   "id": "4f7ad0c6-e0fc-415a-90ca-5b7177503104",
   "metadata": {},
   "outputs": [
    {
     "data": {
      "text/plain": [
       "dict_items([('Sport', 'Cricket'), ('Teams', ['India', 'Australia', 'England', 'South Africa', 'Sri Lanka', 'New Zealand'])])"
      ]
     },
     "execution_count": 44,
     "metadata": {},
     "output_type": "execute_result"
    }
   ],
   "source": [
    "itm"
   ]
  },
  {
   "cell_type": "code",
   "execution_count": 45,
   "id": "513afb54-75a0-493b-bd3c-444ba4a24426",
   "metadata": {},
   "outputs": [
    {
     "data": {
      "text/plain": [
       "dict_keys(['Sport', 'Teams'])"
      ]
     },
     "execution_count": 45,
     "metadata": {},
     "output_type": "execute_result"
    }
   ],
   "source": [
    "keys"
   ]
  },
  {
   "cell_type": "code",
   "execution_count": 46,
   "id": "e2b9bcfb-8968-4666-a9b0-bd52be8638ea",
   "metadata": {},
   "outputs": [
    {
     "data": {
      "text/plain": [
       "dict_values(['Cricket', ['India', 'Australia', 'England', 'South Africa', 'Sri Lanka', 'New Zealand']])"
      ]
     },
     "execution_count": 46,
     "metadata": {},
     "output_type": "execute_result"
    }
   ],
   "source": [
    "values"
   ]
  },
  {
   "cell_type": "markdown",
   "id": "3a408a61-f27b-4434-8b33-8709650ca14c",
   "metadata": {},
   "source": [
    "Now we do some changes in dict1"
   ]
  },
  {
   "cell_type": "code",
   "execution_count": 48,
   "id": "6a31a26f-844a-493a-8dd1-4ec19215ca72",
   "metadata": {},
   "outputs": [
    {
     "data": {
      "text/plain": [
       "'David Shepherd'"
      ]
     },
     "execution_count": 48,
     "metadata": {},
     "output_type": "execute_result"
    }
   ],
   "source": [
    "dict1['Sport'] = \"Hockey\"\n",
    "dict1.setdefault(\"Umpire\",\"David Shepherd\")"
   ]
  },
  {
   "cell_type": "code",
   "execution_count": 50,
   "id": "acbc7a42-80ec-4957-97af-08a85426144d",
   "metadata": {},
   "outputs": [
    {
     "data": {
      "text/plain": [
       "{'Sport': 'Hockey',\n",
       " 'Teams': ['India',\n",
       "  'Australia',\n",
       "  'England',\n",
       "  'South Africa',\n",
       "  'Sri Lanka',\n",
       "  'New Zealand'],\n",
       " 'Umpire': 'David Shepherd'}"
      ]
     },
     "execution_count": 50,
     "metadata": {},
     "output_type": "execute_result"
    }
   ],
   "source": [
    "dict1\n"
   ]
  },
  {
   "cell_type": "code",
   "execution_count": 51,
   "id": "8d31a078-efc5-4313-a77c-b4f896c3efc7",
   "metadata": {},
   "outputs": [
    {
     "data": {
      "text/plain": [
       "dict_items([('Sport', 'Hockey'), ('Teams', ['India', 'Australia', 'England', 'South Africa', 'Sri Lanka', 'New Zealand']), ('Umpire', 'David Shepherd')])"
      ]
     },
     "execution_count": 51,
     "metadata": {},
     "output_type": "execute_result"
    }
   ],
   "source": [
    "itm"
   ]
  },
  {
   "cell_type": "code",
   "execution_count": 52,
   "id": "bbb72a0d-7f4d-4ca2-98bc-ca302c53f871",
   "metadata": {},
   "outputs": [
    {
     "data": {
      "text/plain": [
       "dict_keys(['Sport', 'Teams', 'Umpire'])"
      ]
     },
     "execution_count": 52,
     "metadata": {},
     "output_type": "execute_result"
    }
   ],
   "source": [
    "keys"
   ]
  },
  {
   "cell_type": "code",
   "execution_count": 53,
   "id": "b3dc6dd2-4280-428a-b74b-764f3845f4f0",
   "metadata": {},
   "outputs": [
    {
     "data": {
      "text/plain": [
       "dict_values(['Hockey', ['India', 'Australia', 'England', 'South Africa', 'Sri Lanka', 'New Zealand'], 'David Shepherd'])"
      ]
     },
     "execution_count": 53,
     "metadata": {},
     "output_type": "execute_result"
    }
   ],
   "source": [
    "values"
   ]
  },
  {
   "cell_type": "code",
   "execution_count": null,
   "id": "41f2d103-86f5-4090-add0-a478e5b8c3bd",
   "metadata": {},
   "outputs": [],
   "source": []
  }
 ],
 "metadata": {
  "kernelspec": {
   "display_name": "Python 3 (ipykernel)",
   "language": "python",
   "name": "python3"
  },
  "language_info": {
   "codemirror_mode": {
    "name": "ipython",
    "version": 3
   },
   "file_extension": ".py",
   "mimetype": "text/x-python",
   "name": "python",
   "nbconvert_exporter": "python",
   "pygments_lexer": "ipython3",
   "version": "3.10.8"
  }
 },
 "nbformat": 4,
 "nbformat_minor": 5
}
