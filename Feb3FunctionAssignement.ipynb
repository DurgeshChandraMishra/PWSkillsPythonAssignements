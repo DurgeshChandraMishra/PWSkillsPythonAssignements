{
 "cells": [
  {
   "cell_type": "markdown",
   "id": "5624f1ff-f209-4a5c-bf36-4b0bcc9ff1ec",
   "metadata": {},
   "source": [
    "# Feb 3 Function assignement"
   ]
  },
  {
   "cell_type": "markdown",
   "id": "92c94266-b5d5-4c6c-bcd9-555ea9828727",
   "metadata": {},
   "source": [
    "## Q1. Which keyword is used to create a function? Create a function to return a list of odd numbers in the\n",
    "## range of 1 to 25."
   ]
  },
  {
   "cell_type": "markdown",
   "id": "1cea6b26-79f2-46de-a26c-daa7a681815f",
   "metadata": {},
   "source": [
    "## Ans"
   ]
  },
  {
   "cell_type": "markdown",
   "id": "47275330-4459-4760-a834-96c5d67cbda7",
   "metadata": {},
   "source": [
    "### def keyword is used to create a funtion."
   ]
  },
  {
   "cell_type": "code",
   "execution_count": 2,
   "id": "eccbc262-fcbb-4ecd-80a2-0add8b188d90",
   "metadata": {},
   "outputs": [],
   "source": [
    "def listOddNumbers():\n",
    "    n = []\n",
    "    for i in range(1,25):\n",
    "        if i % 2 != 0:\n",
    "            n.append(i)\n",
    "    return n"
   ]
  },
  {
   "cell_type": "code",
   "execution_count": 3,
   "id": "032521b8-cda0-4339-8c4d-20dbfb5d773e",
   "metadata": {},
   "outputs": [
    {
     "data": {
      "text/plain": [
       "[1, 3, 5, 7, 9, 11, 13, 15, 17, 19, 21, 23]"
      ]
     },
     "execution_count": 3,
     "metadata": {},
     "output_type": "execute_result"
    }
   ],
   "source": [
    "listOddNumbers()"
   ]
  },
  {
   "cell_type": "markdown",
   "id": "04d9d53b-60b7-44f5-a7c3-869ccef86d39",
   "metadata": {},
   "source": [
    "## Q2. Why *args and **kwargs is used in some functions? Create a function each for *args and **kwargs to\n",
    "## demonstrate their use."
   ]
  },
  {
   "cell_type": "markdown",
   "id": "00c0a428-bafb-4733-9e72-814946c4c004",
   "metadata": {},
   "source": [
    "## Ans"
   ]
  },
  {
   "cell_type": "markdown",
   "id": "be79c244-e0aa-470a-8794-a0166ce7d448",
   "metadata": {},
   "source": [
    "### *args ans **kwargs are used if number of arguments in a function is not fixed . i.e. they are used to accept any number of argument in a function "
   ]
  },
  {
   "cell_type": "markdown",
   "id": "d3ee6142-6ce9-4ee0-9a22-ce81605a5b0a",
   "metadata": {},
   "source": [
    "### The main difference between *args and ** kwargs is that **kwargs supports key value pair of arguments \n",
    "### function with *args will recive a tuple of all arguments where as function with **kwargs will recive a dictionary \n"
   ]
  },
  {
   "cell_type": "code",
   "execution_count": 5,
   "id": "6bd3abd3-1667-49cf-9b2f-716c2ef6ffc9",
   "metadata": {},
   "outputs": [],
   "source": [
    "def addInt(*args):\n",
    "    sum = 0\n",
    "    for i in args:\n",
    "        if type(i) == int:\n",
    "            sum += i\n",
    "    return sum"
   ]
  },
  {
   "cell_type": "code",
   "execution_count": 6,
   "id": "4b473f74-96e0-4060-9ca9-329fb04395aa",
   "metadata": {},
   "outputs": [
    {
     "data": {
      "text/plain": [
       "10"
      ]
     },
     "execution_count": 6,
     "metadata": {},
     "output_type": "execute_result"
    }
   ],
   "source": [
    "addInt(1,2,3,4,5.6)"
   ]
  },
  {
   "cell_type": "code",
   "execution_count": 9,
   "id": "81fc7596-f40d-4fe2-aae2-782ed2c1cfbb",
   "metadata": {},
   "outputs": [],
   "source": [
    "def test(**kwargs):\n",
    "    msg = 'Hello ' + kwargs['name'] + ' your age is '+ kwargs['name']\n",
    "    return msg"
   ]
  },
  {
   "cell_type": "code",
   "execution_count": 10,
   "id": "739a5c9f-c149-455d-ab50-f6d8bde005db",
   "metadata": {},
   "outputs": [
    {
     "data": {
      "text/plain": [
       "'Hello Durgesh your age is Durgesh'"
      ]
     },
     "execution_count": 10,
     "metadata": {},
     "output_type": "execute_result"
    }
   ],
   "source": [
    "test(name='Durgesh',age='12')"
   ]
  },
  {
   "cell_type": "markdown",
   "id": "6973857c-d9bc-4f48-abb4-d3250c9abe17",
   "metadata": {},
   "source": [
    "## Q3. What is an iterator in python? Name the method used to initialise the iterator object and the method\n",
    "## used for iteration. Use these methods to print the first five elements of the given list [2, 4, 6, 8, 10, 12, 14, 16,18, 20]."
   ]
  },
  {
   "cell_type": "markdown",
   "id": "cbd3ddd3-ef96-452f-9132-1fefd9c981f0",
   "metadata": {},
   "source": [
    "## Ans"
   ]
  },
  {
   "cell_type": "markdown",
   "id": "f305ec56-6ad0-4af2-9002-ff4f81f415b6",
   "metadata": {},
   "source": [
    "### An iterator is an object that contains a countable number of values.\n",
    "### An iterator is an object that can be iterated upon, meaning that you can traverse through all the values."
   ]
  },
  {
   "cell_type": "markdown",
   "id": "5d407c89-3135-4b77-b79d-6d25a31b2ee7",
   "metadata": {},
   "source": [
    "### method iter is used to initialise the iterator object and method next is used for iteration"
   ]
  },
  {
   "cell_type": "code",
   "execution_count": 32,
   "id": "e78e5584-37f6-4e72-8484-432d668e86a6",
   "metadata": {},
   "outputs": [],
   "source": [
    "l = [2, 4, 6, 8, 10, 12, 14, 16,18, 20]"
   ]
  },
  {
   "cell_type": "code",
   "execution_count": 33,
   "id": "cb30e1d9-a552-43a1-9a46-5d08b33e134e",
   "metadata": {},
   "outputs": [],
   "source": [
    "myitr = iter(l)"
   ]
  },
  {
   "cell_type": "code",
   "execution_count": 34,
   "id": "b4940864-8ebb-49e7-8447-705b257d343c",
   "metadata": {},
   "outputs": [
    {
     "name": "stdout",
     "output_type": "stream",
     "text": [
      "2\n",
      "4\n",
      "6\n",
      "8\n",
      "10\n"
     ]
    }
   ],
   "source": [
    "for i in range(5):\n",
    "    print(next(myitr))"
   ]
  },
  {
   "cell_type": "markdown",
   "id": "775daefd-b11f-4cd3-b0b0-3503f225ef24",
   "metadata": {},
   "source": [
    "## Q4. What is a generator function in python? Why yield keyword is used? Give an example of a generator\n",
    "# function."
   ]
  },
  {
   "cell_type": "markdown",
   "id": "8f7566b9-86ac-4004-989e-8e8345c81672",
   "metadata": {},
   "source": [
    "## Ans"
   ]
  },
  {
   "cell_type": "markdown",
   "id": "f39d66f4-7e1c-42b8-b06b-4109d9c9d414",
   "metadata": {},
   "source": [
    "### A generator function will breaks the execution in parts so that instead of returning full values or collections it returns one by one"
   ]
  },
  {
   "cell_type": "markdown",
   "id": "4cd5383e-a734-42ec-8a9c-6897347c181e",
   "metadata": {},
   "source": [
    "### It is a powerful tool for creating iterators\n",
    "### They are written like regular functions but use the yield statement whenever they want to return data. Each time next() is called on it, the generator resumes where it left off (it remembers all the data values and which statement was last executed). An example shows that generators can be trivially easy to create:"
   ]
  },
  {
   "cell_type": "code",
   "execution_count": 35,
   "id": "2bc5cf90-b0b8-4657-9269-e248c5c94f26",
   "metadata": {},
   "outputs": [],
   "source": [
    "def reverseString(data):\n",
    "    for i in range(len(data)-1,-1,-1):\n",
    "        yield data[i]\n",
    "        "
   ]
  },
  {
   "cell_type": "code",
   "execution_count": 36,
   "id": "8590edb7-4a30-4cdb-9b0d-eacd4f4ee6b0",
   "metadata": {},
   "outputs": [
    {
     "data": {
      "text/plain": [
       "<generator object reverseString at 0x7fda3c0b5000>"
      ]
     },
     "execution_count": 36,
     "metadata": {},
     "output_type": "execute_result"
    }
   ],
   "source": [
    "reverseString('Durgesh')"
   ]
  },
  {
   "cell_type": "code",
   "execution_count": 37,
   "id": "ced71891-b73e-47de-973d-a5a52966d404",
   "metadata": {},
   "outputs": [
    {
     "name": "stdout",
     "output_type": "stream",
     "text": [
      "h\n",
      "s\n",
      "e\n",
      "g\n",
      "r\n",
      "u\n",
      "D\n"
     ]
    }
   ],
   "source": [
    "for i in reverseString('Durgesh'):\n",
    "    print(i)"
   ]
  },
  {
   "cell_type": "markdown",
   "id": "92de1b37-c7c7-4351-bf40-6d8ed9712b91",
   "metadata": {},
   "source": [
    "## Q5. Create a generator function for prime numbers less than 1000. Use the next() method to print the first 20 prime numbers."
   ]
  },
  {
   "cell_type": "markdown",
   "id": "cfe813d5-bf24-4378-ba64-50363187fb75",
   "metadata": {},
   "source": [
    "## Ans "
   ]
  },
  {
   "cell_type": "code",
   "execution_count": 95,
   "id": "e3432194-0d6d-4627-acd5-e7ab8f81f164",
   "metadata": {},
   "outputs": [],
   "source": [
    "def getPrime():\n",
    "    n = []\n",
    "    for i in range(2,1000):\n",
    "        for j in range(2,i-1):\n",
    "            if(i%j == 0):\n",
    "                break\n",
    "        else:\n",
    "            n.append(i)\n",
    "            if len(n) == 20 or i == 1000:\n",
    "                yield n\n",
    "                n.clear()\n",
    "        \n",
    "        \n",
    "        \n",
    "            \n",
    "        "
   ]
  },
  {
   "cell_type": "code",
   "execution_count": 96,
   "id": "3a192e05-58d3-4201-9045-42d9bb125c16",
   "metadata": {},
   "outputs": [],
   "source": [
    "itr = iter(getPrime())"
   ]
  },
  {
   "cell_type": "code",
   "execution_count": 97,
   "id": "56c6f3bf-a6a3-4f6e-a8c7-355eac5ad44a",
   "metadata": {},
   "outputs": [
    {
     "data": {
      "text/plain": [
       "[2, 3, 5, 7, 11, 13, 17, 19, 23, 29, 31, 37, 41, 43, 47, 53, 59, 61, 67, 71]"
      ]
     },
     "execution_count": 97,
     "metadata": {},
     "output_type": "execute_result"
    }
   ],
   "source": [
    "next(itr)\n"
   ]
  },
  {
   "cell_type": "code",
   "execution_count": 98,
   "id": "34385743-dc84-4ff8-9189-3289ea615472",
   "metadata": {},
   "outputs": [
    {
     "data": {
      "text/plain": [
       "[73,\n",
       " 79,\n",
       " 83,\n",
       " 89,\n",
       " 97,\n",
       " 101,\n",
       " 103,\n",
       " 107,\n",
       " 109,\n",
       " 113,\n",
       " 127,\n",
       " 131,\n",
       " 137,\n",
       " 139,\n",
       " 149,\n",
       " 151,\n",
       " 157,\n",
       " 163,\n",
       " 167,\n",
       " 173]"
      ]
     },
     "execution_count": 98,
     "metadata": {},
     "output_type": "execute_result"
    }
   ],
   "source": [
    "next(itr)"
   ]
  },
  {
   "cell_type": "code",
   "execution_count": 99,
   "id": "c178fcb0-dadc-492d-8fba-c35d39ac0a43",
   "metadata": {},
   "outputs": [
    {
     "data": {
      "text/plain": [
       "[179,\n",
       " 181,\n",
       " 191,\n",
       " 193,\n",
       " 197,\n",
       " 199,\n",
       " 211,\n",
       " 223,\n",
       " 227,\n",
       " 229,\n",
       " 233,\n",
       " 239,\n",
       " 241,\n",
       " 251,\n",
       " 257,\n",
       " 263,\n",
       " 269,\n",
       " 271,\n",
       " 277,\n",
       " 281]"
      ]
     },
     "execution_count": 99,
     "metadata": {},
     "output_type": "execute_result"
    }
   ],
   "source": [
    "next(itr)"
   ]
  },
  {
   "cell_type": "code",
   "execution_count": null,
   "id": "a80e0a12-f875-4374-a915-5f8e99bfd110",
   "metadata": {},
   "outputs": [],
   "source": []
  }
 ],
 "metadata": {
  "kernelspec": {
   "display_name": "Python 3 (ipykernel)",
   "language": "python",
   "name": "python3"
  },
  "language_info": {
   "codemirror_mode": {
    "name": "ipython",
    "version": 3
   },
   "file_extension": ".py",
   "mimetype": "text/x-python",
   "name": "python",
   "nbconvert_exporter": "python",
   "pygments_lexer": "ipython3",
   "version": "3.10.8"
  }
 },
 "nbformat": 4,
 "nbformat_minor": 5
}
