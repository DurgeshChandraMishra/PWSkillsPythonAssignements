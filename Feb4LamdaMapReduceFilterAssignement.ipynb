{
 "cells": [
  {
   "cell_type": "markdown",
   "id": "6a4890b8-9df5-4cd1-8e43-4b8534d82392",
   "metadata": {},
   "source": [
    "# Feb 4 Assignement of Lamda function, Map,Reduce and Flter functions"
   ]
  },
  {
   "cell_type": "markdown",
   "id": "eda7894e-17b6-44a3-a088-6b83492aab50",
   "metadata": {},
   "source": [
    "## Q1. Create a python program to sort the given list of tuples based on integer value using a\n",
    "## lambda function.\n",
    "[('Sachin Tendulkar', 34357), ('Ricky Ponting', 27483), ('Jack Kallis', 25534), ('Virat Kohli', 24936)]"
   ]
  },
  {
   "cell_type": "code",
   "execution_count": 13,
   "id": "4340176c-d0c5-4b1e-8789-26bf3cb551c1",
   "metadata": {},
   "outputs": [],
   "source": [
    "ls = [('Sachin Tendulkar', 34357), ('Ricky Ponting', 27483), ('Jack Kallis', 25534), ('Virat Kohli', 24936)]"
   ]
  },
  {
   "cell_type": "code",
   "execution_count": 15,
   "id": "2e287fca-ed80-4078-87e8-6fbccf34cc5c",
   "metadata": {},
   "outputs": [],
   "source": [
    "ls.sort(key = lambda value : value[1])"
   ]
  },
  {
   "cell_type": "code",
   "execution_count": 16,
   "id": "b2607701-3be3-4adb-87c4-8006e0965396",
   "metadata": {},
   "outputs": [
    {
     "data": {
      "text/plain": [
       "[('Virat Kohli', 24936),\n",
       " ('Jack Kallis', 25534),\n",
       " ('Ricky Ponting', 27483),\n",
       " ('Sachin Tendulkar', 34357)]"
      ]
     },
     "execution_count": 16,
     "metadata": {},
     "output_type": "execute_result"
    }
   ],
   "source": [
    "ls\n"
   ]
  },
  {
   "cell_type": "markdown",
   "id": "bab53196-df54-47e2-b502-d2381a786a53",
   "metadata": {},
   "source": [
    "## Q2. Write a Python Program to find the squares of all the numbers in the given list of integers using\n",
    "## lambda and map functions.\n",
    "[1, 2, 3, 4, 5, 6, 7, 8, 9, 10]"
   ]
  },
  {
   "cell_type": "code",
   "execution_count": 17,
   "id": "1c24cd20-ebec-4e5d-8090-0230c6b07237",
   "metadata": {},
   "outputs": [],
   "source": [
    "ls2 = [1, 2, 3, 4, 5, 6, 7, 8, 9, 10]"
   ]
  },
  {
   "cell_type": "code",
   "execution_count": 18,
   "id": "0142e80f-abb4-467d-9ebe-b68cb91c67a6",
   "metadata": {},
   "outputs": [
    {
     "data": {
      "text/plain": [
       "[1, 4, 9, 16, 25, 36, 49, 64, 81, 100]"
      ]
     },
     "execution_count": 18,
     "metadata": {},
     "output_type": "execute_result"
    }
   ],
   "source": [
    "list(map(lambda x: x**2, ls2))"
   ]
  },
  {
   "cell_type": "markdown",
   "id": "48ba58f1-1fe5-4a12-9424-6835e1d7a112",
   "metadata": {},
   "source": [
    "## Q3. Write a python program to convert the given list of integers into a tuple of strings. Use map and\n",
    "## lambda functions\n",
    "### Given String: [1, 2, 3, 4, 5, 6, 7, 8, 9, 10]\n",
    "### Expected output: ('1', '2', '3', '4', '5', '6', '7', '8', '9', '10')"
   ]
  },
  {
   "cell_type": "code",
   "execution_count": 21,
   "id": "a28a55bb-c603-4e7d-b28e-14bd9dc07003",
   "metadata": {},
   "outputs": [],
   "source": [
    "ls3 = [1, 2, 3, 4, 5, 6, 7, 8, 9, 10]"
   ]
  },
  {
   "cell_type": "code",
   "execution_count": 22,
   "id": "06439382-80d1-4cd7-96fb-47663ae362c0",
   "metadata": {},
   "outputs": [
    {
     "data": {
      "text/plain": [
       "('1', '2', '3', '4', '5', '6', '7', '8', '9', '10')"
      ]
     },
     "execution_count": 22,
     "metadata": {},
     "output_type": "execute_result"
    }
   ],
   "source": [
    "tuple( map (lambda i : str(i),ls3))"
   ]
  },
  {
   "cell_type": "markdown",
   "id": "a69c550b-0f9b-4347-a070-e1123abb295a",
   "metadata": {},
   "source": [
    "## Q4. Write a python program using reduce function to compute the product of a list containing numbers from 1 to 25."
   ]
  },
  {
   "cell_type": "code",
   "execution_count": 38,
   "id": "ef9bf088-cc7e-4aa4-b1d9-596e379e620e",
   "metadata": {},
   "outputs": [],
   "source": [
    "ls4 = [1,2,3,4,5,6,7,8,9,10,11,12,13,14,15,16,17,18,19,20,21,22,23,24,25]"
   ]
  },
  {
   "cell_type": "code",
   "execution_count": 47,
   "id": "e7e52f08-bdab-4d93-a5af-1fc361959aef",
   "metadata": {},
   "outputs": [],
   "source": [
    "from functools import reduce"
   ]
  },
  {
   "cell_type": "code",
   "execution_count": 48,
   "id": "156cca2b-e95d-4560-a45f-72106f9cc230",
   "metadata": {},
   "outputs": [
    {
     "data": {
      "text/plain": [
       "15511210043330985984000000"
      ]
     },
     "execution_count": 48,
     "metadata": {},
     "output_type": "execute_result"
    }
   ],
   "source": [
    "reduce(lambda a,b : a*b,ls4)"
   ]
  },
  {
   "cell_type": "markdown",
   "id": "84dd8ddd-113c-4190-b268-675220e4cf29",
   "metadata": {},
   "source": [
    "## Q5. Write a python program to filter the numbers in a given list that are divisible by 2 and 3 using the filter function.\n",
    "### [2, 3, 6, 9, 27, 60, 90, 120, 55, 46]"
   ]
  },
  {
   "cell_type": "code",
   "execution_count": 49,
   "id": "2e063590-deca-4194-a6c2-6a4facc4fa18",
   "metadata": {},
   "outputs": [],
   "source": [
    "ls5 = [2, 3, 6, 9, 27, 60, 90, 120, 55, 46]"
   ]
  },
  {
   "cell_type": "code",
   "execution_count": 53,
   "id": "e93d813a-8acd-4841-93d2-47293c094f70",
   "metadata": {},
   "outputs": [
    {
     "data": {
      "text/plain": [
       "[6, 60, 90, 120]"
      ]
     },
     "execution_count": 53,
     "metadata": {},
     "output_type": "execute_result"
    }
   ],
   "source": [
    "list(filter(lambda x : x%2 == 0 and x%3 == 0,ls5))"
   ]
  },
  {
   "cell_type": "markdown",
   "id": "c8c44e9d-86ae-44e5-b513-303dfcfe1f95",
   "metadata": {},
   "source": [
    "## Q6. Write a python program to find palindromes in the given list of strings using lambda and filter function.\n",
    "### ['python', 'php', 'aba', 'radar', 'level']"
   ]
  },
  {
   "cell_type": "code",
   "execution_count": 55,
   "id": "1b2ee86d-99c7-45ad-808e-e7d02ed6bf9c",
   "metadata": {},
   "outputs": [],
   "source": [
    "strList = ['python', 'php', 'aba', 'radar', 'level']"
   ]
  },
  {
   "cell_type": "code",
   "execution_count": 56,
   "id": "385713f1-e929-4c1d-91fe-74ad659f23f3",
   "metadata": {},
   "outputs": [
    {
     "data": {
      "text/plain": [
       "['php', 'aba', 'radar', 'level']"
      ]
     },
     "execution_count": 56,
     "metadata": {},
     "output_type": "execute_result"
    }
   ],
   "source": [
    "list(filter(lambda str : str == str[::-1],strList))"
   ]
  },
  {
   "cell_type": "code",
   "execution_count": null,
   "id": "214518be-a589-4c99-9c06-f83654b21830",
   "metadata": {},
   "outputs": [],
   "source": []
  }
 ],
 "metadata": {
  "kernelspec": {
   "display_name": "Python 3 (ipykernel)",
   "language": "python",
   "name": "python3"
  },
  "language_info": {
   "codemirror_mode": {
    "name": "ipython",
    "version": 3
   },
   "file_extension": ".py",
   "mimetype": "text/x-python",
   "name": "python",
   "nbconvert_exporter": "python",
   "pygments_lexer": "ipython3",
   "version": "3.10.8"
  }
 },
 "nbformat": 4,
 "nbformat_minor": 5
}
