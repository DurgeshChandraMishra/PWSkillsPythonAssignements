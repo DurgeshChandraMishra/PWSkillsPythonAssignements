{
 "cells": [
  {
   "cell_type": "markdown",
   "id": "1faf5d7b-722a-476f-8867-450b4c5a9073",
   "metadata": {},
   "source": [
    "# Feb 5 Assignement on Class OOPS Day 1"
   ]
  },
  {
   "cell_type": "markdown",
   "id": "da762ea6-5d12-4644-9b77-a07a03cee108",
   "metadata": {},
   "source": [
    "## Q1. Explain Class and Object with respect to Object-Oriented Programming. Give a suitable example."
   ]
  },
  {
   "cell_type": "markdown",
   "id": "669108f2-3bfe-4b04-936d-46eb327f61cc",
   "metadata": {},
   "source": [
    "### Class is a blueprint of objects.It contains data and assosiated methods which can be performed on those data.\n",
    "### An object is any real world entity which has some properties and have some behaviours. A class is just a classification of these object. For examples\n",
    "### If we say car .Then It has some properties like name,manufaturer, colour,no of wheels body shape etc.And has some behaiviour like drive, break,accelerate etc\n",
    "### Now if we classify it with the name of Car this is a class of car.\n",
    "### Now if we assigne some values for it like Maruti Suzuki Swift blue clour .\n",
    "### Now we have assigned some properties to the car. Now Maruti Suzuki Swift is an object of the class Car."
   ]
  },
  {
   "cell_type": "markdown",
   "id": "dd6b3dfa-56ea-4f15-88bd-70cc5d06c3d9",
   "metadata": {},
   "source": [
    "### And all the behavoir of the class automaticcally associated with this object"
   ]
  },
  {
   "cell_type": "code",
   "execution_count": 3,
   "id": "dd5b5def-73ac-4879-ae71-59591d89def1",
   "metadata": {},
   "outputs": [],
   "source": [
    "class car :\n",
    "    def __init__(self , name,manufacturer,modal,colour,make) :\n",
    "        self.name = name\n",
    "        self.manufacturer = manufacturer\n",
    "        self.modal = modal\n",
    "        self.make = make\n",
    "        self.colour = colour\n",
    "        \n",
    "    def getCarDetails(self) :\n",
    "        return self.name,self.manufacturer,self.modal,self.colour,self.make\n",
    "    \n",
    "    \n",
    "    "
   ]
  },
  {
   "cell_type": "code",
   "execution_count": 4,
   "id": "2f20bc97-c970-4538-befb-c71ac259cfd8",
   "metadata": {},
   "outputs": [],
   "source": [
    "myCar = car('Swift','Maruti Suzuki','swift','red','2023')"
   ]
  },
  {
   "cell_type": "code",
   "execution_count": 7,
   "id": "f5655ea8-4933-466f-ac81-c60946979698",
   "metadata": {},
   "outputs": [
    {
     "data": {
      "text/plain": [
       "'Maruti Suzuki'"
      ]
     },
     "execution_count": 7,
     "metadata": {},
     "output_type": "execute_result"
    }
   ],
   "source": [
    "myCar.manufacturer"
   ]
  },
  {
   "cell_type": "code",
   "execution_count": 8,
   "id": "53cfd3b9-c8c8-4b91-b1c4-d3260bc3fb94",
   "metadata": {},
   "outputs": [
    {
     "data": {
      "text/plain": [
       "'Swift'"
      ]
     },
     "execution_count": 8,
     "metadata": {},
     "output_type": "execute_result"
    }
   ],
   "source": [
    "myCar.name"
   ]
  },
  {
   "cell_type": "code",
   "execution_count": 9,
   "id": "21fb6387-97ff-441f-8824-1ea765c10a4c",
   "metadata": {},
   "outputs": [
    {
     "data": {
      "text/plain": [
       "'red'"
      ]
     },
     "execution_count": 9,
     "metadata": {},
     "output_type": "execute_result"
    }
   ],
   "source": [
    "myCar.colour"
   ]
  },
  {
   "cell_type": "code",
   "execution_count": 10,
   "id": "0cbdec35-2871-47c5-a0c6-c9beea9e582a",
   "metadata": {},
   "outputs": [
    {
     "data": {
      "text/plain": [
       "('Swift', 'Maruti Suzuki', 'swift', 'red', '2023')"
      ]
     },
     "execution_count": 10,
     "metadata": {},
     "output_type": "execute_result"
    }
   ],
   "source": [
    "myCar.getCarDetails()"
   ]
  },
  {
   "cell_type": "code",
   "execution_count": 11,
   "id": "828ddf5f-2784-4abf-8dc8-b07657139d90",
   "metadata": {},
   "outputs": [],
   "source": [
    "yourCar= car('Figo','Ford','Figo','White',2022)"
   ]
  },
  {
   "cell_type": "code",
   "execution_count": 12,
   "id": "696f62bc-e3fc-4b68-8b2e-32f982630a71",
   "metadata": {},
   "outputs": [
    {
     "data": {
      "text/plain": [
       "'Figo'"
      ]
     },
     "execution_count": 12,
     "metadata": {},
     "output_type": "execute_result"
    }
   ],
   "source": [
    "yourCar.name\n"
   ]
  },
  {
   "cell_type": "code",
   "execution_count": 13,
   "id": "0ea0c499-3e7f-48d5-a244-34331d6d5546",
   "metadata": {},
   "outputs": [
    {
     "data": {
      "text/plain": [
       "('Figo', 'Ford', 'Figo', 'White', 2022)"
      ]
     },
     "execution_count": 13,
     "metadata": {},
     "output_type": "execute_result"
    }
   ],
   "source": [
    "yourCar.getCarDetails()\n"
   ]
  },
  {
   "cell_type": "markdown",
   "id": "79f66bcc-3079-4964-a949-a1077405b117",
   "metadata": {},
   "source": [
    "### in the above example car is class and myCar and yourCar are objects of car"
   ]
  },
  {
   "cell_type": "markdown",
   "id": "003f27ae-e93d-4731-ae0a-5ae632e8dbab",
   "metadata": {},
   "source": [
    "## Q2. Name the four pillars of OOPs."
   ]
  },
  {
   "cell_type": "markdown",
   "id": "ceb74653-6c1e-4f2a-ad31-929d0244074c",
   "metadata": {},
   "source": [
    "### Four pillars of OOPs are\n",
    "* Encapsulation\n",
    "* Inheritance\n",
    "* Abstraction and\n",
    "* Polymorphism"
   ]
  },
  {
   "cell_type": "markdown",
   "id": "e54a4914-4b9d-449a-9b22-0e3a62f4c0fd",
   "metadata": {},
   "source": [
    "## Q3. Explain why the __init__() function is used. Give a suitable example."
   ]
  },
  {
   "cell_type": "markdown",
   "id": "951aa012-7952-4f35-b709-9b85de934dfd",
   "metadata": {},
   "source": [
    "### __init__() function is used to initialize the variables of class at the time of object is created.This is important when we create an object, some of the variables must be assigned whether from out side or inside.\n",
    "### Then this init() function will assigne values to the class variable using self reference"
   ]
  },
  {
   "cell_type": "markdown",
   "id": "705b3b11-58b4-4993-87c8-d2fb16a3f304",
   "metadata": {},
   "source": [
    "### Inside init() function we can also perform some initial operations if required"
   ]
  },
  {
   "cell_type": "code",
   "execution_count": 15,
   "id": "e9263911-ccf1-4822-ac9f-86c147841e23",
   "metadata": {},
   "outputs": [],
   "source": [
    "class student :\n",
    "    def __init__(self, name,course):\n",
    "        self.name = name\n",
    "        self.course = course\n",
    "        self.isPassed = False\n",
    "        \n",
    "    def getStudentDetails(self) :\n",
    "        return self.name, self.course, self.isPassed "
   ]
  },
  {
   "cell_type": "code",
   "execution_count": 16,
   "id": "cd692caa-e9e7-4bd1-957c-b2f1e7bf4884",
   "metadata": {},
   "outputs": [],
   "source": [
    "student1 = student('Durgesh','Data Science')"
   ]
  },
  {
   "cell_type": "code",
   "execution_count": 17,
   "id": "d867b394-eacb-402e-895e-0a4e1871966c",
   "metadata": {},
   "outputs": [
    {
     "data": {
      "text/plain": [
       "False"
      ]
     },
     "execution_count": 17,
     "metadata": {},
     "output_type": "execute_result"
    }
   ],
   "source": [
    "student1.isPassed"
   ]
  },
  {
   "cell_type": "code",
   "execution_count": 18,
   "id": "3083a658-b25e-4e1a-8948-92deaf137f9f",
   "metadata": {},
   "outputs": [
    {
     "data": {
      "text/plain": [
       "'Durgesh'"
      ]
     },
     "execution_count": 18,
     "metadata": {},
     "output_type": "execute_result"
    }
   ],
   "source": [
    "student1.name"
   ]
  },
  {
   "cell_type": "code",
   "execution_count": 19,
   "id": "eae20c2a-b7dc-4cf9-b3fb-df29244187d2",
   "metadata": {},
   "outputs": [
    {
     "data": {
      "text/plain": [
       "('Durgesh', 'Data Science', False)"
      ]
     },
     "execution_count": 19,
     "metadata": {},
     "output_type": "execute_result"
    }
   ],
   "source": [
    "student1.getStudentDetails()"
   ]
  },
  {
   "cell_type": "markdown",
   "id": "56a1811b-4e2d-43eb-8cdd-7d99252c652c",
   "metadata": {},
   "source": [
    "## Q4. Why self is used in OOPs?"
   ]
  },
  {
   "cell_type": "markdown",
   "id": "32a76869-9798-456d-86eb-a3403cdaa75a",
   "metadata": {},
   "source": [
    "### The identifier self is used in Python OOPs to refer the variables and methods inside the class itself. It is a reference variable of the class. Using self we can access any class variable and methods inside the same clas. We can use any name instead of self but it is the python convention to use self to refer class itself. "
   ]
  },
  {
   "cell_type": "markdown",
   "id": "f8587ef3-2fa6-45f4-a1c6-72eeee9332f7",
   "metadata": {},
   "source": [
    "## Q5. What is inheritance? Give an example for each type of inheritance"
   ]
  },
  {
   "cell_type": "markdown",
   "id": "0d21f114-23e9-48ef-8d8b-c140d18a5d35",
   "metadata": {},
   "source": [
    "### Inheritance is the way of derived the property and methods of a class into another class. The derived class is called parent class and deriving class is callled child class.\n",
    "### The properties and method of parent class automattically available to its child class. e.g.\n"
   ]
  },
  {
   "cell_type": "code",
   "execution_count": 17,
   "id": "499cfcd6-eab0-4bd6-8fb2-a661e9a044ed",
   "metadata": {},
   "outputs": [],
   "source": [
    "class X:\n",
    "    def __init__(self,name):\n",
    "        self.name = name\n",
    "    \n",
    "    def sayHello(self) :\n",
    "        print(\"Hello \",self.name)\n",
    "\n",
    "class Y(X) :\n",
    "    pass\n"
   ]
  },
  {
   "cell_type": "code",
   "execution_count": 23,
   "id": "cabc400c-77e3-47b3-ae2d-b9150575d946",
   "metadata": {},
   "outputs": [],
   "source": [
    "obj = Y('Durgesh')"
   ]
  },
  {
   "cell_type": "code",
   "execution_count": 24,
   "id": "35fc7d4d-fb91-468d-b32c-d2882addf7e0",
   "metadata": {},
   "outputs": [
    {
     "data": {
      "text/plain": [
       "'Durgesh'"
      ]
     },
     "execution_count": 24,
     "metadata": {},
     "output_type": "execute_result"
    }
   ],
   "source": [
    "obj.name"
   ]
  },
  {
   "cell_type": "code",
   "execution_count": 25,
   "id": "6d74db99-bd25-403c-942c-e35c9b62eed1",
   "metadata": {},
   "outputs": [
    {
     "name": "stdout",
     "output_type": "stream",
     "text": [
      "Hello  Durgesh\n"
     ]
    }
   ],
   "source": [
    "obj.sayHello()"
   ]
  },
  {
   "cell_type": "markdown",
   "id": "945e19e3-e328-4694-8bbe-03b52abee61a",
   "metadata": {},
   "source": [
    "### Types of inheritance in Python\n",
    "### There are 5 types of inheritance in Python"
   ]
  },
  {
   "cell_type": "markdown",
   "id": "e87cb9e7-6887-4a7b-8aa6-1cc04b00d73f",
   "metadata": {},
   "source": [
    "* Single Inheritance\n",
    "* Multilevel Inheritance\n",
    "* Multiple Inheritance\n",
    "* Hierarchical Inheritance and\n",
    "* Hybrid Inheritance"
   ]
  },
  {
   "cell_type": "markdown",
   "id": "1450e623-0197-4ebb-9329-5db104c17662",
   "metadata": {},
   "source": [
    "### 1. Single Inheritance\n",
    "When there is one parent and one child class It is called single inheritence\n"
   ]
  },
  {
   "cell_type": "code",
   "execution_count": 28,
   "id": "032e3759-a939-4ea2-9d64-7a5a91c6f5a6",
   "metadata": {},
   "outputs": [
    {
     "name": "stdout",
     "output_type": "stream",
     "text": [
      "Hey there, you are in the parent class\n",
      "Hey there, you are in the sub class\n",
      "Hey there, you are in the parent class\n",
      "10\n",
      "5\n"
     ]
    }
   ],
   "source": [
    "# parent class\n",
    "class Above:\n",
    "    i = 5\n",
    "    def fun1(self):\n",
    "        print(\"Hey there, you are in the parent class\")\n",
    "\n",
    "#subclass\n",
    "class Below(Above):\n",
    "    i=10\n",
    "    def fun2(self):\n",
    "        print(\"Hey there, you are in the sub class\")\n",
    "\n",
    "temp1=Below()\n",
    "temp2=Above()\n",
    "temp1.fun1()\n",
    "temp1.fun2()\n",
    "temp2.fun1()\n",
    "print(temp1.i)\n",
    "print(temp2.i)"
   ]
  },
  {
   "cell_type": "markdown",
   "id": "974b3b49-e8aa-48be-8f81-57931a814776",
   "metadata": {},
   "source": [
    "### 2. Multilevel Inheritance\n",
    "When one class is derived into other class and other class is derived into another class and so on then it is call multilevel inheritance"
   ]
  },
  {
   "cell_type": "code",
   "execution_count": 30,
   "id": "609f8c04-ae06-4169-b71c-3e9263bbfd1c",
   "metadata": {},
   "outputs": [
    {
     "name": "stdout",
     "output_type": "stream",
     "text": [
      "electric car runs on electricity\n",
      "a car has 4 wheels\n",
      "vehicles are used for transportation\n"
     ]
    }
   ],
   "source": [
    "#parent class 1\n",
    "class vehicle:\n",
    "    def functioning(self):\n",
    "        print(\"vehicles are used for transportation\")\n",
    "\n",
    "#child class 1\n",
    "class car(vehicle):\n",
    "    def wheels(self):\n",
    "        print(\"a car has 4 wheels\")\n",
    "\n",
    "class electric_car(car):\n",
    "    def speciality(self):\n",
    "        print(\"electric car runs on electricity\")\n",
    "\n",
    "electric=electric_car()\n",
    "electric.speciality()\n",
    "electric.wheels()\n",
    "electric.functioning()"
   ]
  },
  {
   "cell_type": "markdown",
   "id": "d6df4be4-bc2a-4c2f-84f6-537bd25badfc",
   "metadata": {},
   "source": [
    "### 3. Multiple Inheritance\n",
    "When a child class inherits more than one class it is called Multiple inheritance"
   ]
  },
  {
   "cell_type": "code",
   "execution_count": 32,
   "id": "de1618b6-b510-4bdc-9ebc-95cb609a95f5",
   "metadata": {},
   "outputs": [
    {
     "name": "stdout",
     "output_type": "stream",
     "text": [
      "Hey there, you are in the child class\n",
      "first number is :  10\n",
      "second number is :  5\n"
     ]
    }
   ],
   "source": [
    "#parent class 1\n",
    "class A:\n",
    "    demo1=0\n",
    "    def fun1(self):\n",
    "        print(self.demo1)\n",
    "\n",
    "#parent class 2\n",
    "class B:\n",
    "    demo2=0\n",
    "    def fun2(self):\n",
    "        print(self.demo2)\n",
    "\n",
    "#child class\n",
    "class C(A, B):\n",
    "    def fun3(self):\n",
    "        print(\"Hey there, you are in the child class\")\n",
    "\n",
    "# Main code\n",
    "c = C()\n",
    "c.demo1 = 10\n",
    "c.demo2 = 5\n",
    "c.fun3()\n",
    "print(\"first number is : \",c.demo1)\n",
    "print(\"second number is : \",c.demo2)"
   ]
  },
  {
   "cell_type": "markdown",
   "id": "8311bae7-f480-4c46-8aac-9b4a2442b17e",
   "metadata": {},
   "source": [
    "### 4. Hierarchical Inheritance\n",
    "When one class is derived into more than one sub class or child class it is called hierarchical inheritance"
   ]
  },
  {
   "cell_type": "code",
   "execution_count": null,
   "id": "34472558-b360-4128-ab93-77f551927544",
   "metadata": {},
   "outputs": [
    {
     "name": "stdout",
     "output_type": "stream",
     "text": [
      "Hey there, you are in the parent class\n",
      "Hey there, you are in the child class 3\n",
      "Hey there, you are in the parent class\n",
      "Hey there, you are in the child class 2\n",
      "Hey there, you are in the parent class\n",
      "Hey there, you are in the child class 1\n"
     ]
    }
   ],
   "source": [
    "#parent class\n",
    "class Parent:\n",
    "    def fun1(self):\n",
    "        print(\"Hey there, you are in the parent class\")\n",
    " \n",
    "    #child class 1\n",
    "class child1(Parent):\n",
    "    def fun2(self):\n",
    "        print(\"Hey there, you are in the child class 1\")\n",
    "\n",
    "    #child class 2 \n",
    "class child2(Parent):\n",
    "    def fun3(self):\n",
    "        print(\"Hey there, you are in the child class 2\")\n",
    " \n",
    "    #child class 3\n",
    "class child3(Parent):\n",
    "    def fun4(self):\n",
    "        print(\"Hey there, you are in the child class 3\")\n",
    " # main program\n",
    "child_obj1 = child3()\n",
    "child_obj2 = child2()\n",
    "child_obj3 = child1()\n",
    "child_obj1.fun1()\n",
    "child_obj1.fun4()\n",
    "child_obj2.fun1()\n",
    "child_obj2.fun3()\n",
    "child_obj3.fun1()\n",
    "child_obj3.fun2()"
   ]
  },
  {
   "cell_type": "markdown",
   "id": "3cb5b157-d286-485a-be36-6dae76349343",
   "metadata": {},
   "source": [
    "### 5. Hybrid Inheritance\n",
    "If more than one type of inheritance is implemented in the same code, then it is called Hybrid inheritance"
   ]
  },
  {
   "cell_type": "code",
   "execution_count": null,
   "id": "6763c750-2336-4c82-9df1-e996abac08e2",
   "metadata": {},
   "outputs": [],
   "source": [
    "class A:\n",
    "    def fun1(self):\n",
    "        print(“Hey there, you are in class A”)\n",
    "        \n",
    "class B(A):\n",
    "    def fun2(self):\n",
    "        print(“Hey there, you are in class B”)\n",
    "        \n",
    "class C(A):\n",
    "    def fun3(self):\n",
    "        print(“Hey there, you are in class C”)\n",
    "        \n",
    "class D(C,A): \n",
    "def fun4(self):\n",
    "print(“Hey there, you are in the class D”)#main program\n",
    "ref = D()\n",
    "ref.fun4()\n",
    "ref.fun3()\n",
    "ref.fun1()"
   ]
  }
 ],
 "metadata": {
  "kernelspec": {
   "display_name": "Python 3 (ipykernel)",
   "language": "python",
   "name": "python3"
  },
  "language_info": {
   "codemirror_mode": {
    "name": "ipython",
    "version": 3
   },
   "file_extension": ".py",
   "mimetype": "text/x-python",
   "name": "python",
   "nbconvert_exporter": "python",
   "pygments_lexer": "ipython3",
   "version": "3.10.8"
  }
 },
 "nbformat": 4,
 "nbformat_minor": 5
}
