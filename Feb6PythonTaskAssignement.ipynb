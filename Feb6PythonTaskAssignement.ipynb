{
 "cells": [
  {
   "cell_type": "markdown",
   "id": "c4238011-6e49-4bcd-8f22-78f6fe273861",
   "metadata": {},
   "source": [
    "# Feb 6 Python Task Assignement"
   ]
  },
  {
   "cell_type": "markdown",
   "id": "a11609b4-dfc4-4746-8999-6ade765f6b86",
   "metadata": {},
   "source": [
    "## Q1. Create a function which will take a list as an argument and return the product of all the numbers after creating a flat list.\n",
    "\n",
    "## Use the below-given list as an argument for your function.\n",
    "\n",
    "\n",
    "## list1 = [1,2,3,4, [44,55,66, True], False, (34,56,78,89,34), {1,2,3,3,2,1}, {1:34, \"key2\": [55, 67, 78, 89], 4: (45,22, 61, 34)}, [56, 'data science'], 'Machine Learning']\n",
    "\n",
    "## Note: you must extract numeric keys and values of the dictionary also."
   ]
  },
  {
   "cell_type": "code",
   "execution_count": 1,
   "id": "8b6f6f3d-302f-4cf8-878a-d25b15c46b70",
   "metadata": {},
   "outputs": [],
   "source": [
    "list1 = [1,2,3,4, [44,55,66, True], False, (34,56,78,89,34), {1,2,3,3,2,1}, {1:34, \"key2\": [55, 67, 78, 89], 4: (45,22, 61, 34)}, [56, 'data science'], 'Machine Learning']"
   ]
  },
  {
   "cell_type": "code",
   "execution_count": 5,
   "id": "461b31fe-2c38-4464-b190-502c75a01264",
   "metadata": {},
   "outputs": [
    {
     "data": {
      "text/plain": [
       "[1, 2, 3, 4]"
      ]
     },
     "execution_count": 5,
     "metadata": {},
     "output_type": "execute_result"
    }
   ],
   "source": [
    "list(filter(lambda item : type(item) == int,list1))"
   ]
  },
  {
   "cell_type": "code",
   "execution_count": 31,
   "id": "6afdbbe8-b4d1-43cb-a69c-843061b50e7d",
   "metadata": {},
   "outputs": [],
   "source": [
    "def getFlattenList(ls):\n",
    "    \n",
    "    flattenList = []\n",
    "    for item in ls:\n",
    "        if type(item) == int:\n",
    "            flattenList.append(item)\n",
    "        elif  type(item)== dict :\n",
    "            keys = item.keys();\n",
    "            for k in keys:\n",
    "                if type(k) == int :\n",
    "                    flattenList.append(k)\n",
    "                elif type(k) == list or type(k) == tuple or  type(k) == set:\n",
    "                    flattenList.extend(getFlattenList(k))\n",
    "            values = item.values();\n",
    "            for v in values:\n",
    "                if type(v) == int :\n",
    "                    flattenList.append(v)\n",
    "                elif type(v) == list or type(v) == tuple or  type(v) == set:\n",
    "                    flattenList.extend(getFlattenList(v))\n",
    "                \n",
    "        elif type(item) == list or type(item) == tuple or  type(item) == set:\n",
    "            flattenList.extend(getFlattenList(item))\n",
    "    return flattenList\n",
    "\n",
    "\n",
    "            "
   ]
  },
  {
   "cell_type": "code",
   "execution_count": 38,
   "id": "106a79c8-98e1-4048-8ea9-11bc0c2901f2",
   "metadata": {},
   "outputs": [],
   "source": [
    "def getProductOfList(lst):\n",
    "    from functools import reduce\n",
    "    flattenList = getFlattenList(lst)\n",
    "    print(flattenList)\n",
    "    return reduce(lambda x,y : x*y,flattenList)"
   ]
  },
  {
   "cell_type": "code",
   "execution_count": 39,
   "id": "38521454-d7d1-402e-bd78-309b5aa298f9",
   "metadata": {},
   "outputs": [
    {
     "name": "stdout",
     "output_type": "stream",
     "text": [
      "[1, 2, 3, 4, 44, 55, 66, 34, 56, 78, 89, 34, 1, 2, 3, 1, 4, 34, 55, 67, 78, 89, 45, 22, 61, 34, 56]\n"
     ]
    },
    {
     "data": {
      "text/plain": [
       "4134711838987085478833841242112000"
      ]
     },
     "execution_count": 39,
     "metadata": {},
     "output_type": "execute_result"
    }
   ],
   "source": [
    "getProductOfList(list1)"
   ]
  },
  {
   "cell_type": "markdown",
   "id": "7406a524-d002-47c5-a87b-22508f432883",
   "metadata": {},
   "source": [
    "## Q2. Write a python program for encrypting a message sent to you by your friend. The logic of encryption should be such that, for a the output should be z. For b, the output should be y. For c, the output should be x respectively. Also, the whitespace should be replaced with a dollar sign. Keep the punctuation marks unchanged.\n",
    "## Input Sentence: I want to become a Data Scientist.\n",
    "## Encrypt the above input sentence using the program you just created.\n",
    "## Note: Convert the given input sentence into lowercase before encrypting. The final output should be lowercase."
   ]
  },
  {
   "cell_type": "code",
   "execution_count": 11,
   "id": "b0ec517a-a71f-4847-bd2b-511c81580b50",
   "metadata": {},
   "outputs": [],
   "source": [
    "def encryptMessage():\n",
    "    message = str(input(\"Input Sentence:\"))\n",
    "    dictionary = {97: 122,\n",
    "                 98: 121,\n",
    "                 99: 120,\n",
    "                 100: 119,\n",
    "                 101: 118,\n",
    "                 102: 117,\n",
    "                 103: 116,\n",
    "                 104: 115,\n",
    "                 105: 114,\n",
    "                 106: 113,\n",
    "                 107: 112,\n",
    "                 108: 111,\n",
    "                 109: 110,\n",
    "                 110: 109,\n",
    "                 111: 108,\n",
    "                 112: 107,\n",
    "                 113: 106,\n",
    "                 114: 105,\n",
    "                 115: 104,\n",
    "                 116: 103,\n",
    "                 117: 102,\n",
    "                 118: 101,\n",
    "                 119: 100,\n",
    "                 120: 99,\n",
    "                 121: 98,\n",
    "                 122: 97,\n",
    "                 32: 36}\n",
    "   \n",
    "    \n",
    "    return message.lower().translate(dictionary)\n",
    "    "
   ]
  },
  {
   "cell_type": "code",
   "execution_count": 12,
   "id": "f73535bf-e08a-452d-bf83-e50ad5a2734d",
   "metadata": {},
   "outputs": [
    {
     "name": "stdin",
     "output_type": "stream",
     "text": [
      "Input Sentence: I want to become Data Science\n"
     ]
    },
    {
     "data": {
      "text/plain": [
       "'r$dzmg$gl$yvxlnv$wzgz$hxrvmxv'"
      ]
     },
     "execution_count": 12,
     "metadata": {},
     "output_type": "execute_result"
    }
   ],
   "source": [
    "encryptMessage()"
   ]
  },
  {
   "cell_type": "code",
   "execution_count": null,
   "id": "c1e8fcf9-66d4-4071-8dd5-6f12230efc37",
   "metadata": {},
   "outputs": [],
   "source": []
  }
 ],
 "metadata": {
  "kernelspec": {
   "display_name": "Python 3 (ipykernel)",
   "language": "python",
   "name": "python3"
  },
  "language_info": {
   "codemirror_mode": {
    "name": "ipython",
    "version": 3
   },
   "file_extension": ".py",
   "mimetype": "text/x-python",
   "name": "python",
   "nbconvert_exporter": "python",
   "pygments_lexer": "ipython3",
   "version": "3.10.8"
  }
 },
 "nbformat": 4,
 "nbformat_minor": 5
}
