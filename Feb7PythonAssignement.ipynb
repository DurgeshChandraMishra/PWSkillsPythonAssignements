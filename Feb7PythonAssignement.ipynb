{
 "cells": [
  {
   "cell_type": "markdown",
   "id": "629f71a0-c2ce-4942-9be8-9e9eeff14e44",
   "metadata": {},
   "source": [
    "# Feb 7 Python assignement Task2"
   ]
  },
  {
   "cell_type": "markdown",
   "id": "dd2ee6d2-d455-47ec-ba7b-3659a0fb5105",
   "metadata": {},
   "source": [
    "## Q1. You are writing code for a company. The requirement of the company is that you create a python function that will check whether the password entered by the user is correct or not. The function should take the password as input and return the string “Valid Password” if the entered password follows the below-given password guidelines else it should return “Invalid Password”.\n",
    "## Note: 1. The Password should contain at least two uppercase letters and at least two lowercase letters.\n",
    "## 2. The Password should contain at least a number and three special characters.\n",
    "## 3. The length of the password should be 10 characters long."
   ]
  },
  {
   "cell_type": "code",
   "execution_count": 15,
   "id": "f8017b0d-1013-4b96-bfdf-5ffd7808709e",
   "metadata": {},
   "outputs": [],
   "source": [
    "def checkPassword(password) :\n",
    "    numbers = 0\n",
    "    alphaCaps = 0\n",
    "    alphaSmalls = 0\n",
    "    specialChars = 0\n",
    "    message = 'Invalid Password'\n",
    "    if len(password) > 10 :\n",
    "        for ch in password :\n",
    "            if ch.isdigit() :\n",
    "                numbers +=1\n",
    "            elif ch.isupper() :\n",
    "                alphaCaps += 1\n",
    "            elif ch.islower() :\n",
    "                alphaSmalls += 1\n",
    "            elif not (ch.isalnum() and ch.isspace() )  :\n",
    "                specialChars += 1\n",
    "        \n",
    "        if numbers >= 1 \\\n",
    "        and alphaCaps >= 2 \\\n",
    "        and alphaSmalls >=2 \\\n",
    "        and specialChars >=3 :\n",
    "            message = \"Valid Password\"\n",
    "    \n",
    "    return message\n",
    "            \n",
    "                \n",
    "    "
   ]
  },
  {
   "cell_type": "code",
   "execution_count": 16,
   "id": "7c2c2bbc-f735-4a24-bba8-13a1c0e89adf",
   "metadata": {},
   "outputs": [
    {
     "data": {
      "text/plain": [
       "'Valid Password'"
      ]
     },
     "execution_count": 16,
     "metadata": {},
     "output_type": "execute_result"
    }
   ],
   "source": [
    "checkPassword(\"DUrg1#$%abcd\")"
   ]
  },
  {
   "cell_type": "code",
   "execution_count": 17,
   "id": "e3d54ef9-1c11-48c4-a55c-61244136cfa9",
   "metadata": {},
   "outputs": [
    {
     "data": {
      "text/plain": [
       "'Invalid Password'"
      ]
     },
     "execution_count": 17,
     "metadata": {},
     "output_type": "execute_result"
    }
   ],
   "source": [
    "checkPassword(\"DUrg1#$abcd\")"
   ]
  },
  {
   "cell_type": "code",
   "execution_count": 18,
   "id": "95e02310-bc7b-4365-8e75-2b7c3c17c171",
   "metadata": {},
   "outputs": [
    {
     "data": {
      "text/plain": [
       "'Invalid Password'"
      ]
     },
     "execution_count": 18,
     "metadata": {},
     "output_type": "execute_result"
    }
   ],
   "source": [
    "checkPassword(\"DUrg1\")"
   ]
  },
  {
   "cell_type": "markdown",
   "id": "3d6252e6-177b-4ad5-912d-29648c38d061",
   "metadata": {},
   "source": [
    "## Q2. Solve the below-given questions using at least one of the following:\n",
    "### 1. Lambda function\n",
    "### 2. Filter function\n",
    "### 3. map function\n",
    "### 4. List Comprehension\n",
    "### * Check if the string starts with a particular letter\n",
    "### * Check if the string is numeric\n",
    "### * Sort a list of tuples having fruit names and their quantity. [(\"mango\",99),(\"orange\",80), (\"grapes\", 1000)-\n",
    "### * Find the squares of numbers from 1 to 10\n",
    "### * Find the cube root of numbers from 1 to 10\n",
    "### * Check if a given number is even\n",
    "### * Filter odd numbers from the given list.\n",
    "### [1,2,3,4,5,6,7,8,9,10-\n",
    "### * Sort a list of integers into positive and negative integers lists.\n",
    "### [1,2,3,4,5,6,-1,-2,-3,-4,-5,0]"
   ]
  },
  {
   "cell_type": "markdown",
   "id": "b7bff8e2-0628-4fb0-9a07-e3b023a85565",
   "metadata": {},
   "source": [
    "## Ans\n",
    "### Check if the string starts with a particular letter"
   ]
  },
  {
   "cell_type": "code",
   "execution_count": 19,
   "id": "4704f6e3-d94f-4f31-862d-7066f8225513",
   "metadata": {},
   "outputs": [],
   "source": [
    "x=\"abcd\""
   ]
  },
  {
   "cell_type": "code",
   "execution_count": 20,
   "id": "6474c7c7-bb65-440d-9da5-6ea37054d94e",
   "metadata": {},
   "outputs": [
    {
     "data": {
      "text/plain": [
       "True"
      ]
     },
     "execution_count": 20,
     "metadata": {},
     "output_type": "execute_result"
    }
   ],
   "source": [
    "x.startswith('ab')"
   ]
  },
  {
   "cell_type": "markdown",
   "id": "7babf7f0-5882-44ed-b7fc-dbc9dca82e44",
   "metadata": {},
   "source": [
    "### Check if the string is numeric"
   ]
  },
  {
   "cell_type": "code",
   "execution_count": 24,
   "id": "d2745316-2aa1-4e51-b038-575897ba64eb",
   "metadata": {},
   "outputs": [
    {
     "data": {
      "text/plain": [
       "True"
      ]
     },
     "execution_count": 24,
     "metadata": {},
     "output_type": "execute_result"
    }
   ],
   "source": [
    "string = \"123\"\n",
    "string.isnumeric()"
   ]
  },
  {
   "cell_type": "markdown",
   "id": "eba23910-b36c-4d48-8ba2-9afaccb9e56b",
   "metadata": {},
   "source": [
    "### Sort a list of tuples having fruit names and their quantity. [(\"mango\",99),(\"orange\",80), (\"grapes\", 1000)]"
   ]
  },
  {
   "cell_type": "code",
   "execution_count": 25,
   "id": "642c9c17-52c4-4d1c-9d7a-08d837e1217b",
   "metadata": {},
   "outputs": [],
   "source": [
    "ls =  [(\"mango\",99),(\"orange\",80), (\"grapes\", 1000)]"
   ]
  },
  {
   "cell_type": "code",
   "execution_count": 26,
   "id": "f891adc7-9e0e-465f-a8d2-48d02a735c62",
   "metadata": {},
   "outputs": [],
   "source": [
    "ls.sort()"
   ]
  },
  {
   "cell_type": "code",
   "execution_count": 27,
   "id": "24e28400-a45e-4b46-ba91-86c14d484032",
   "metadata": {},
   "outputs": [
    {
     "data": {
      "text/plain": [
       "[('grapes', 1000), ('mango', 99), ('orange', 80)]"
      ]
     },
     "execution_count": 27,
     "metadata": {},
     "output_type": "execute_result"
    }
   ],
   "source": [
    "ls"
   ]
  },
  {
   "cell_type": "markdown",
   "id": "74a89b33-5f57-4bfb-b034-26f0e6518e99",
   "metadata": {},
   "source": [
    "### Find the squares of numbers from 1 to 10"
   ]
  },
  {
   "cell_type": "code",
   "execution_count": 32,
   "id": "ee256edc-8532-4cae-bcd6-fe578d186162",
   "metadata": {},
   "outputs": [],
   "source": [
    "ls2 = list(range(1,11))"
   ]
  },
  {
   "cell_type": "code",
   "execution_count": 33,
   "id": "6743e8f1-c235-4f15-8aca-9e2eb34eb01d",
   "metadata": {},
   "outputs": [
    {
     "data": {
      "text/plain": [
       "[1, 2, 3, 4, 5, 6, 7, 8, 9, 10]"
      ]
     },
     "execution_count": 33,
     "metadata": {},
     "output_type": "execute_result"
    }
   ],
   "source": [
    "ls2"
   ]
  },
  {
   "cell_type": "code",
   "execution_count": 35,
   "id": "ba775d04-3364-4af7-bddb-88a660b3135d",
   "metadata": {},
   "outputs": [
    {
     "data": {
      "text/plain": [
       "[1, 4, 9, 16, 25, 36, 49, 64, 81, 100]"
      ]
     },
     "execution_count": 35,
     "metadata": {},
     "output_type": "execute_result"
    }
   ],
   "source": [
    "list(map(lambda x : x*x,ls2))"
   ]
  },
  {
   "cell_type": "markdown",
   "id": "cf26f9ff-e703-4422-a75f-4b36084dd983",
   "metadata": {},
   "source": [
    "### Find the cube root of numbers from 1 to 10"
   ]
  },
  {
   "cell_type": "code",
   "execution_count": 46,
   "id": "93677d19-4b48-48a1-a3ec-71687a4dea9b",
   "metadata": {},
   "outputs": [
    {
     "ename": "NameError",
     "evalue": "name 'cbrt' is not defined",
     "output_type": "error",
     "traceback": [
      "\u001b[0;31m---------------------------------------------------------------------------\u001b[0m",
      "\u001b[0;31mNameError\u001b[0m                                 Traceback (most recent call last)",
      "Cell \u001b[0;32mIn[46], line 2\u001b[0m\n\u001b[1;32m      1\u001b[0m \u001b[38;5;28;01mfrom\u001b[39;00m \u001b[38;5;21;01mmath\u001b[39;00m \u001b[38;5;28;01mimport\u001b[39;00m \u001b[38;5;241m*\u001b[39m\n\u001b[0;32m----> 2\u001b[0m \u001b[38;5;28;43mlist\u001b[39;49m\u001b[43m(\u001b[49m\u001b[38;5;28;43mmap\u001b[39;49m\u001b[43m(\u001b[49m\u001b[38;5;28;43;01mlambda\u001b[39;49;00m\u001b[43m \u001b[49m\u001b[43mx\u001b[49m\u001b[43m \u001b[49m\u001b[43m:\u001b[49m\u001b[43m \u001b[49m\u001b[43mcbrt\u001b[49m\u001b[43m(\u001b[49m\u001b[43mx\u001b[49m\u001b[43m)\u001b[49m\u001b[43m,\u001b[49m\u001b[43mls2\u001b[49m\u001b[43m)\u001b[49m\u001b[43m)\u001b[49m\n",
      "Cell \u001b[0;32mIn[46], line 2\u001b[0m, in \u001b[0;36m<lambda>\u001b[0;34m(x)\u001b[0m\n\u001b[1;32m      1\u001b[0m \u001b[38;5;28;01mfrom\u001b[39;00m \u001b[38;5;21;01mmath\u001b[39;00m \u001b[38;5;28;01mimport\u001b[39;00m \u001b[38;5;241m*\u001b[39m\n\u001b[0;32m----> 2\u001b[0m \u001b[38;5;28mlist\u001b[39m(\u001b[38;5;28mmap\u001b[39m(\u001b[38;5;28;01mlambda\u001b[39;00m x : \u001b[43mcbrt\u001b[49m(x),ls2))\n",
      "\u001b[0;31mNameError\u001b[0m: name 'cbrt' is not defined"
     ]
    }
   ],
   "source": [
    "from math import *\n",
    "list(map(lambda x : cbrt(x),ls2))"
   ]
  },
  {
   "cell_type": "markdown",
   "id": "d3bed46e-90b6-4377-b6db-35b113855e45",
   "metadata": {},
   "source": [
    "#### Please note that above error is because cbrt funtion is available from python 3  version 3.11 and above and here verson is different . This will run fine if it is compatible version"
   ]
  },
  {
   "cell_type": "markdown",
   "id": "7b45094d-ce60-4f50-a5e9-2246ce9f4469",
   "metadata": {},
   "source": [
    "### Check if a given number is even\n"
   ]
  },
  {
   "cell_type": "code",
   "execution_count": 47,
   "id": "262ffda9-d9ce-4d07-b15d-0fc6115db214",
   "metadata": {},
   "outputs": [
    {
     "name": "stdin",
     "output_type": "stream",
     "text": [
      "Enter an integer number 13\n"
     ]
    },
    {
     "name": "stdout",
     "output_type": "stream",
     "text": [
      "this number is Odd\n"
     ]
    }
   ],
   "source": [
    "number = int(input(\"Enter an integer number\"))\n",
    "if number % 2 == 0 :\n",
    "    print(\"This number is Even\")\n",
    "else :\n",
    "    print(\"this number is Odd\")"
   ]
  },
  {
   "cell_type": "markdown",
   "id": "f9fdc660-15cf-42e8-b196-9fcc6c9d8e57",
   "metadata": {},
   "source": [
    "### Filter odd numbers from the given list.\n",
    "### [1,2,3,4,5,6,7,8,9,10]"
   ]
  },
  {
   "cell_type": "code",
   "execution_count": 49,
   "id": "bd49b67f-9d0e-402d-9547-ffc4dba202ab",
   "metadata": {},
   "outputs": [
    {
     "data": {
      "text/plain": [
       "[1, 3, 5, 7, 9]"
      ]
     },
     "execution_count": 49,
     "metadata": {},
     "output_type": "execute_result"
    }
   ],
   "source": [
    "ls3 = [1,2,3,4,5,6,7,8,9,10]\n",
    "list(filter(lambda x : x%2 != 0,ls3))"
   ]
  },
  {
   "cell_type": "markdown",
   "id": "f4476ea8-b16f-4a2e-a729-844a9113c605",
   "metadata": {},
   "source": [
    "### Sort a list of integers into positive and negative integers lists.\n",
    "### [1,2,3,4,5,6,-1,-2,-3,-4,-5,0]"
   ]
  },
  {
   "cell_type": "code",
   "execution_count": 50,
   "id": "a91419e9-a035-4b1b-8ff2-4631ae7cefcd",
   "metadata": {},
   "outputs": [],
   "source": [
    "ls4  = [1,2,3,4,5,6,-1,-2,-3,-4,-5,0]"
   ]
  },
  {
   "cell_type": "code",
   "execution_count": 51,
   "id": "a01071b5-0ac1-4e69-843f-4d986d5069af",
   "metadata": {},
   "outputs": [],
   "source": [
    "ls4.sort()"
   ]
  },
  {
   "cell_type": "code",
   "execution_count": 52,
   "id": "68170c6f-f8eb-4293-84f3-facf3d18b8c3",
   "metadata": {},
   "outputs": [
    {
     "data": {
      "text/plain": [
       "[-5, -4, -3, -2, -1, 0, 1, 2, 3, 4, 5, 6]"
      ]
     },
     "execution_count": 52,
     "metadata": {},
     "output_type": "execute_result"
    }
   ],
   "source": [
    "ls4"
   ]
  },
  {
   "cell_type": "code",
   "execution_count": null,
   "id": "ca374ecd-5dcd-4c48-9537-64b70e34c088",
   "metadata": {},
   "outputs": [],
   "source": []
  }
 ],
 "metadata": {
  "kernelspec": {
   "display_name": "Python 3 (ipykernel)",
   "language": "python",
   "name": "python3"
  },
  "language_info": {
   "codemirror_mode": {
    "name": "ipython",
    "version": 3
   },
   "file_extension": ".py",
   "mimetype": "text/x-python",
   "name": "python",
   "nbconvert_exporter": "python",
   "pygments_lexer": "ipython3",
   "version": "3.10.8"
  }
 },
 "nbformat": 4,
 "nbformat_minor": 5
}
