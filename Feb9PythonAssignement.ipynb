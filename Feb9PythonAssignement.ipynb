{
 "cells": [
  {
   "cell_type": "markdown",
   "id": "314f8b78-7335-476f-9db3-d282f2fdaba7",
   "metadata": {},
   "source": [
    "# Feb 9 Python Assignement OOPS "
   ]
  },
  {
   "cell_type": "markdown",
   "id": "d8fbc319-95d4-46cc-89a8-0a1913888ca3",
   "metadata": {},
   "source": [
    "## Q1, Create a vehicle class with an init method having instance variables as name_of_vehicle, max_speed and average_of_vehicle."
   ]
  },
  {
   "cell_type": "code",
   "execution_count": 1,
   "id": "a7c9ca8c-1eb4-4e7f-a98d-151356440279",
   "metadata": {},
   "outputs": [],
   "source": [
    "class vehicle :\n",
    "    def __init__(self,name_of_vehicle, max_speed, average_of_vehicle) :\n",
    "        self.name_of_vehicle = name_of_vehicle\n",
    "        self.max_speed = max_speed\n",
    "        self.average_of_vehicle = average_of_vehicle"
   ]
  },
  {
   "cell_type": "markdown",
   "id": "f3d334aa-f960-4370-a42c-e1f22cf152bc",
   "metadata": {},
   "source": [
    "## Q2. Create a child class car from the vehicle class created in Que 1, which will inherit the vehicle class. Create a method named seating_capacity which takes capacity as an argument and returns the name of the vehicle and its seating capacity."
   ]
  },
  {
   "cell_type": "code",
   "execution_count": 12,
   "id": "270a42cb-e668-48e9-9584-9e4c2d3290a5",
   "metadata": {},
   "outputs": [],
   "source": [
    "class car(vehicle) :\n",
    "         \n",
    "    def seating_capacity(self, capacity) :\n",
    "        return self.name_of_vehicle,capacity\n",
    "    "
   ]
  },
  {
   "cell_type": "code",
   "execution_count": 15,
   "id": "6105c142-3123-4d06-bcf9-4fa5a239dce3",
   "metadata": {},
   "outputs": [],
   "source": [
    "obj = car(\"Swift\",240,23)"
   ]
  },
  {
   "cell_type": "code",
   "execution_count": 16,
   "id": "3321e4e0-8dbf-46df-aecd-8a112337a8da",
   "metadata": {},
   "outputs": [
    {
     "data": {
      "text/plain": [
       "('Swift', 5)"
      ]
     },
     "execution_count": 16,
     "metadata": {},
     "output_type": "execute_result"
    }
   ],
   "source": [
    "obj.seating_capacity(5)"
   ]
  },
  {
   "cell_type": "markdown",
   "id": "551eeb91-5aa0-4b61-a5a5-48653b977de1",
   "metadata": {},
   "source": [
    "## Q3. What is multiple inheritance? Write a python code to demonstrate multiple inheritance."
   ]
  },
  {
   "cell_type": "markdown",
   "id": "d08e875b-4597-4fb2-a7cc-be8a9ecade65",
   "metadata": {},
   "source": [
    "### Multiple inheritance is a type of inheritance where a child class can derive properties and methods of more than one parent class\n",
    "### In below example there are two classes base1 and base2 having different methods ssayHello1 and ayHello2 respectively\n",
    "### when we inherit these two classes into another dervied class then we got the all functionality of base1 and base2 togather with of derived class it self"
   ]
  },
  {
   "cell_type": "code",
   "execution_count": 58,
   "id": "a71c0845-d651-4460-ac16-0330802f1935",
   "metadata": {},
   "outputs": [],
   "source": [
    "class base1:\n",
    "    def __init__(self,base1Var):\n",
    "        self.base1Var = base1Var\n",
    "    def sayHello1(self):\n",
    "        print(\"Hello from base1\")\n",
    "        \n",
    "class base2:\n",
    "    def __init__(self,base2Var):\n",
    "        self.base2Var = base2Var\n",
    "    def sayHello2(self):\n",
    "        print(\"Hello from base2\")\n",
    "\n",
    "class derived(base1,base2):\n",
    "    def __init__(self,base1Var,base2Var,derivedVar):\n",
    "        base1.__init__(self,base1Var)\n",
    "        base2.__init__(self,base2Var)\n",
    "        self.derivedVar = derivedVar\n",
    "    def getAllVars(self):\n",
    "        return self.base1Var,self.base2Var,self.derivedVar,\n",
    "        \n",
    "    def sayHello3(self):\n",
    "        print(\"Hello from derived\")"
   ]
  },
  {
   "cell_type": "code",
   "execution_count": 59,
   "id": "a900cefd-2f28-4eb4-9c1e-12cdc615efaa",
   "metadata": {},
   "outputs": [],
   "source": [
    "obj2 = derived(\"base1\",\"base2\",\"derived\")"
   ]
  },
  {
   "cell_type": "code",
   "execution_count": 60,
   "id": "60748acd-dfbe-41dd-98f4-b7df32b99872",
   "metadata": {},
   "outputs": [
    {
     "name": "stdout",
     "output_type": "stream",
     "text": [
      "Hello from base1\n"
     ]
    }
   ],
   "source": [
    "obj2.sayHello1()"
   ]
  },
  {
   "cell_type": "code",
   "execution_count": 61,
   "id": "088768ce-4f58-44f0-a75a-d35232b60ed6",
   "metadata": {},
   "outputs": [
    {
     "name": "stdout",
     "output_type": "stream",
     "text": [
      "Hello from base2\n"
     ]
    }
   ],
   "source": [
    "obj2.sayHello2()"
   ]
  },
  {
   "cell_type": "code",
   "execution_count": 62,
   "id": "e1bfda83-e20e-4a4d-99d4-01b35a08d848",
   "metadata": {},
   "outputs": [
    {
     "name": "stdout",
     "output_type": "stream",
     "text": [
      "Hello from derived\n"
     ]
    }
   ],
   "source": [
    "obj2.sayHello3()"
   ]
  },
  {
   "cell_type": "code",
   "execution_count": 78,
   "id": "9b185f2e-dd11-4de2-8183-b4cd9c347254",
   "metadata": {},
   "outputs": [
    {
     "data": {
      "text/plain": [
       "('base1', 'base2', 'derived')"
      ]
     },
     "execution_count": 78,
     "metadata": {},
     "output_type": "execute_result"
    }
   ],
   "source": [
    "obj2.getAllVars()"
   ]
  },
  {
   "cell_type": "markdown",
   "id": "5641aed2-14fa-42bd-867e-77934e3b5d40",
   "metadata": {},
   "source": [
    "## Q4. What are getter and setter in python? Create a class and create a getter and a setter method in this class."
   ]
  },
  {
   "cell_type": "markdown",
   "id": "a6ac14c0-dcd7-4a61-8d2e-8be35345c48f",
   "metadata": {},
   "source": [
    "#### Getters and setters are methods which are used to get and set the properties aof a class.\n",
    "#### Mainly they are used to get and set the private data members.\n"
   ]
  },
  {
   "cell_type": "code",
   "execution_count": 71,
   "id": "7a4858d3-83cf-4ffd-9276-b3a472e23513",
   "metadata": {},
   "outputs": [],
   "source": [
    "class expenseManager :\n",
    "    def __init__(self,amount):\n",
    "        self.__amount = amount\n",
    "        self.__purchaseList = []\n",
    "        \n",
    "    def purchaseItem(self,item,price):\n",
    "        if price > self.__amount :\n",
    "            print(\"Insufficient amount\")\n",
    "            return False\n",
    "        else :\n",
    "            self.__amount -= price\n",
    "            self.__purchaseList.append((item,price))\n",
    "            return True\n",
    "        \n",
    "    def addMoreAmount(self, amount):\n",
    "        self.__amount += amount\n",
    "    \n",
    "    def getPurchaseList(self):\n",
    "        return self.__purchaseList"
   ]
  },
  {
   "cell_type": "code",
   "execution_count": 72,
   "id": "2008d5d9-d06e-45b6-ad5b-a6803771e063",
   "metadata": {},
   "outputs": [],
   "source": [
    "myExpense = expenseManager(2000)"
   ]
  },
  {
   "cell_type": "code",
   "execution_count": 73,
   "id": "364cb333-39ef-4e3f-ab6d-d6358dffed70",
   "metadata": {},
   "outputs": [
    {
     "data": {
      "text/plain": [
       "True"
      ]
     },
     "execution_count": 73,
     "metadata": {},
     "output_type": "execute_result"
    }
   ],
   "source": [
    "myExpense.purchaseItem('books',1000)"
   ]
  },
  {
   "cell_type": "code",
   "execution_count": 74,
   "id": "7eb9050b-8f79-4d50-a180-103332d0fc4b",
   "metadata": {},
   "outputs": [
    {
     "data": {
      "text/plain": [
       "True"
      ]
     },
     "execution_count": 74,
     "metadata": {},
     "output_type": "execute_result"
    }
   ],
   "source": [
    "myExpense.purchaseItem(\"Copy\",200)"
   ]
  },
  {
   "cell_type": "code",
   "execution_count": 75,
   "id": "73dd87e9-886c-422d-ad42-c562f0006051",
   "metadata": {},
   "outputs": [
    {
     "ename": "AttributeError",
     "evalue": "'expenseManager' object has no attribute '__amount'",
     "output_type": "error",
     "traceback": [
      "\u001b[0;31m---------------------------------------------------------------------------\u001b[0m",
      "\u001b[0;31mAttributeError\u001b[0m                            Traceback (most recent call last)",
      "Cell \u001b[0;32mIn[75], line 1\u001b[0m\n\u001b[0;32m----> 1\u001b[0m \u001b[43mmyExpense\u001b[49m\u001b[38;5;241;43m.\u001b[39;49m\u001b[43m__amount\u001b[49m\n",
      "\u001b[0;31mAttributeError\u001b[0m: 'expenseManager' object has no attribute '__amount'"
     ]
    }
   ],
   "source": [
    "myExpense.__amount"
   ]
  },
  {
   "cell_type": "code",
   "execution_count": 76,
   "id": "5fb89e6b-0dca-4d5c-a884-7444633cb4b6",
   "metadata": {},
   "outputs": [
    {
     "ename": "AttributeError",
     "evalue": "'expenseManager' object has no attribute '__purchaseList'",
     "output_type": "error",
     "traceback": [
      "\u001b[0;31m---------------------------------------------------------------------------\u001b[0m",
      "\u001b[0;31mAttributeError\u001b[0m                            Traceback (most recent call last)",
      "Cell \u001b[0;32mIn[76], line 1\u001b[0m\n\u001b[0;32m----> 1\u001b[0m \u001b[43mmyExpense\u001b[49m\u001b[38;5;241;43m.\u001b[39;49m\u001b[43m__purchaseList\u001b[49m\n",
      "\u001b[0;31mAttributeError\u001b[0m: 'expenseManager' object has no attribute '__purchaseList'"
     ]
    }
   ],
   "source": [
    "myExpense.__purchaseList"
   ]
  },
  {
   "cell_type": "code",
   "execution_count": 77,
   "id": "ed0e5863-1983-409d-8f78-146ebb3a37de",
   "metadata": {},
   "outputs": [
    {
     "data": {
      "text/plain": [
       "[('books', 1000), ('Copy', 200)]"
      ]
     },
     "execution_count": 77,
     "metadata": {},
     "output_type": "execute_result"
    }
   ],
   "source": [
    "myExpense.getPurchaseList()"
   ]
  },
  {
   "cell_type": "markdown",
   "id": "5832987c-6efe-4b32-bd0b-58dc496e3f57",
   "metadata": {},
   "source": [
    "#### In the above example __amount and __purchaseList are two instance variables of class expenseManager\n",
    "#### They can not be accessed from out side the class . Here they can be accessd from out side of the class using method getPurchaseList() and getBalance() methods these methods are getters method.\n",
    "#### and they can be set via method purchaseItem() so this method is setter method"
   ]
  },
  {
   "cell_type": "markdown",
   "id": "45f3522b-71ad-42b8-b773-577158a8ab31",
   "metadata": {},
   "source": [
    "## Q5.What is method overriding in python? Write a python code to demonstrate method overriding."
   ]
  },
  {
   "cell_type": "markdown",
   "id": "3fecf1d5-ded4-4853-aba1-ddcb727d2eb4",
   "metadata": {},
   "source": [
    "### Method over riding is the situation when there are methods of same name in parent and child class\n",
    "### then method in child class will over ride the method of parent class. i.e. if we create an object of child class and call it using object of the child class then method of child class will be invoked.If a class inherites more than one parent class then it will invoked as per method resolution order"
   ]
  },
  {
   "cell_type": "code",
   "execution_count": 94,
   "id": "c43b67a0-5d75-400c-ac6b-823009015415",
   "metadata": {},
   "outputs": [],
   "source": [
    "class x:\n",
    "    def sayHello(self) :\n",
    "        print(\"Hello from x\")\n",
    "    def sayHi(self) :\n",
    "        print(\"Hi from x\")\n",
    "    def sayBye(self):\n",
    "        print(\"Bye from x\")\n",
    "\n",
    "class y(x) :\n",
    "    def sayHello(self,name):\n",
    "        print(f\"Hello {name} from y\")\n",
    "\n",
    "        "
   ]
  },
  {
   "cell_type": "code",
   "execution_count": 95,
   "id": "c81a0318-8a37-4aa6-9254-528cea6e1b14",
   "metadata": {},
   "outputs": [],
   "source": [
    "\n",
    "class z(y):\n",
    "    def sayHi(self) :\n",
    "        print(\"Hi from z\")"
   ]
  },
  {
   "cell_type": "code",
   "execution_count": 96,
   "id": "f7cb0c2f-2f6d-4a7a-b95e-18f35c1bbbec",
   "metadata": {},
   "outputs": [],
   "source": [
    "object_z = z()"
   ]
  },
  {
   "cell_type": "code",
   "execution_count": 97,
   "id": "d9378511-201b-4576-942f-17d71ce08dd0",
   "metadata": {},
   "outputs": [
    {
     "data": {
      "text/plain": [
       "[__main__.z, __main__.y, __main__.x, object]"
      ]
     },
     "execution_count": 97,
     "metadata": {},
     "output_type": "execute_result"
    }
   ],
   "source": [
    "z.mro()"
   ]
  },
  {
   "cell_type": "code",
   "execution_count": 98,
   "id": "aa9f44b8-3f09-4e75-b409-daa47719ae3d",
   "metadata": {},
   "outputs": [
    {
     "ename": "TypeError",
     "evalue": "y.sayHello() missing 1 required positional argument: 'name'",
     "output_type": "error",
     "traceback": [
      "\u001b[0;31m---------------------------------------------------------------------------\u001b[0m",
      "\u001b[0;31mTypeError\u001b[0m                                 Traceback (most recent call last)",
      "Cell \u001b[0;32mIn[98], line 1\u001b[0m\n\u001b[0;32m----> 1\u001b[0m \u001b[43mobject_z\u001b[49m\u001b[38;5;241;43m.\u001b[39;49m\u001b[43msayHello\u001b[49m\u001b[43m(\u001b[49m\u001b[43m)\u001b[49m\n",
      "\u001b[0;31mTypeError\u001b[0m: y.sayHello() missing 1 required positional argument: 'name'"
     ]
    }
   ],
   "source": [
    "object_z.sayHello()"
   ]
  },
  {
   "cell_type": "code",
   "execution_count": 99,
   "id": "7f69b5fc-e000-4a18-8ebd-96efa4f9e206",
   "metadata": {},
   "outputs": [
    {
     "name": "stdout",
     "output_type": "stream",
     "text": [
      "Hello Durgesh from y\n"
     ]
    }
   ],
   "source": [
    "object_z.sayHello(\"Durgesh\")"
   ]
  },
  {
   "cell_type": "code",
   "execution_count": 100,
   "id": "1f8ebb86-b3cd-4045-b587-2f7c016c8954",
   "metadata": {},
   "outputs": [
    {
     "name": "stdout",
     "output_type": "stream",
     "text": [
      "Hi from z\n"
     ]
    }
   ],
   "source": [
    "object_z.sayHi()"
   ]
  },
  {
   "cell_type": "code",
   "execution_count": 101,
   "id": "e1205ddf-718d-4d7e-9172-6befea8222b3",
   "metadata": {},
   "outputs": [
    {
     "name": "stdout",
     "output_type": "stream",
     "text": [
      "Bye from x\n"
     ]
    }
   ],
   "source": [
    "object_z.sayBye()"
   ]
  },
  {
   "cell_type": "markdown",
   "id": "7c529812-2526-4580-899e-3a0a5c972344",
   "metadata": {},
   "source": [
    "### In the above example method sayHello of class x is overridden by sayHello method of class y.\n",
    "### Simmillarly method sayHi of class x is overridden by sayHi method of class z\n"
   ]
  },
  {
   "cell_type": "markdown",
   "id": "ed609d04-b513-4cc7-8ceb-7453b59b7568",
   "metadata": {},
   "source": [
    "### As per the method resolution order of class z\n"
   ]
  },
  {
   "cell_type": "code",
   "execution_count": 102,
   "id": "5f30eebb-7fe8-4777-aa18-37bfab6f5d13",
   "metadata": {},
   "outputs": [
    {
     "data": {
      "text/plain": [
       "[__main__.z, __main__.y, __main__.x, object]"
      ]
     },
     "execution_count": 102,
     "metadata": {},
     "output_type": "execute_result"
    }
   ],
   "source": [
    "z.mro()"
   ]
  },
  {
   "cell_type": "markdown",
   "id": "8cafa55c-a92b-465c-a9e3-5fb2e05f50d3",
   "metadata": {},
   "source": [
    "### class z has higher priority , then has class y and then x"
   ]
  },
  {
   "cell_type": "code",
   "execution_count": null,
   "id": "658a6132-c0dd-4e53-ac3d-092b4a529f55",
   "metadata": {},
   "outputs": [],
   "source": []
  }
 ],
 "metadata": {
  "kernelspec": {
   "display_name": "Python 3 (ipykernel)",
   "language": "python",
   "name": "python3"
  },
  "language_info": {
   "codemirror_mode": {
    "name": "ipython",
    "version": 3
   },
   "file_extension": ".py",
   "mimetype": "text/x-python",
   "name": "python",
   "nbconvert_exporter": "python",
   "pygments_lexer": "ipython3",
   "version": "3.10.8"
  }
 },
 "nbformat": 4,
 "nbformat_minor": 5
}
