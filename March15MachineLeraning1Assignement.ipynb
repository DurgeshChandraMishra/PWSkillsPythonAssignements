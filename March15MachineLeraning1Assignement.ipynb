{
 "cells": [
  {
   "cell_type": "markdown",
   "id": "a7ca2ca6-0cdd-4c5b-a28a-5a84cc0bbf1f",
   "metadata": {},
   "source": [
    "# March 15 Machine learning assignement"
   ]
  },
  {
   "cell_type": "markdown",
   "id": "a234d4fd-958d-474f-b162-8fd770277581",
   "metadata": {},
   "source": [
    "## Q1- Explain the following with an example-\n",
    "a) Artificial Intelligence\\\n",
    "b) MachinK Learning,\\\n",
    "c) Deep Learning\n"
   ]
  },
  {
   "cell_type": "markdown",
   "id": "66e5e069-31f5-4900-a5f0-ac24b45db796",
   "metadata": {},
   "source": [
    "### Artificial intelligence is a field, which combines computer science and robust datasets, to enable problem-solving. It also encompasses sub-fields of machine learning and deep learning, which are frequently mentioned in conjunction with artificial intelligence. There are numerous, real-world applications of AI systems today. \n",
    "### Speech recognition,Customer service,Computer vision,Recommendation engines,Automated stock trading etc"
   ]
  },
  {
   "cell_type": "markdown",
   "id": "d9a9dab9-6a0f-40ec-b63b-a00a0f042a40",
   "metadata": {},
   "source": [
    "### Machine learning is a branch of artificial intelligence (AI) and computer science which focuses on the use of data and algorithms to imitate the way that humans learn, gradually improving its accuracy. Example product recommendation system."
   ]
  },
  {
   "cell_type": "markdown",
   "id": "8f359177-100c-4296-b81a-35c7a50a5473",
   "metadata": {},
   "source": [
    "### Deep learning is a subset of machine learning, which is essentially a neural network with three or more layers. These neural networks attempt to simulate the behavior of the human brain—albeit far from matching its ability—allowing it to “learn” from large amounts of data. While a neural network with a single layer can still make approximate predictions, additional hidden layers can help to optimize and refine for accuracy. Example is robotics and self driving car"
   ]
  },
  {
   "cell_type": "markdown",
   "id": "f943a400-e1ae-47b8-b3d0-1f789bc61358",
   "metadata": {},
   "source": [
    "## Q2- What is supervised learning? List some examples of supervised learning."
   ]
  },
  {
   "cell_type": "markdown",
   "id": "812197a4-2ec0-4787-96ef-3f728009f7e7",
   "metadata": {},
   "source": [
    "### Supervised learning, also known as supervised machine learning, is defined by its use of labeled datasets to train algorithms to classify data or predict outcomes accurately. As input data is fed into the model, the model adjusts its weights until it has been fitted appropriately. This occurs as part of the cross validation process to ensure that the model avoids overfitting or underfitting. Supervised learning helps organizations solve a variety of real-world problems at scale, such as classifying spam in a separate folder from your inbox"
   ]
  },
  {
   "cell_type": "markdown",
   "id": "c30fb555-895d-4057-b46a-bdbc47e1e13f",
   "metadata": {},
   "source": [
    "## Q3- What is unsupervised learning? List some exmples of unsupervised learning."
   ]
  },
  {
   "cell_type": "markdown",
   "id": "4fdc9eb2-1577-4453-9754-935be64def37",
   "metadata": {},
   "source": [
    "### Unsupervised learning, also known as unsupervised machine learning, uses machine learning algorithms to analyze and cluster unlabeled datasets. These algorithms discover hidden patterns or data groupings without the need for human intervention. This method’s ability to discover similarities and differences in information make it ideal for exploratory data analysis, cross-selling strategies, customer segmentation, and image and pattern recognition. It’s also used to reduce the number of features in a model through the process of dimensionality reduction"
   ]
  },
  {
   "cell_type": "markdown",
   "id": "bdf1c5c4-4193-4186-9040-2627c7cc9b3d",
   "metadata": {},
   "source": [
    "## Q4- What is the difference between AI, ML, DL, and DS?"
   ]
  },
  {
   "cell_type": "markdown",
   "id": "c7b9ba34-26b4-41d5-9159-70b6dc33ccb2",
   "metadata": {},
   "source": [
    "### Machine Learning is the sub set of AI and super set of Deep Learning. Data science combines math and statistics, specialized programming, advanced analytics, artificial intelligence (AI), and machine learning with specific subject matter expertise to uncover actionable insights hidden in an organization’s data. These insights can be used to guide decision making and strategic planning."
   ]
  },
  {
   "cell_type": "markdown",
   "id": "522aabd0-7ae4-48ce-9c2f-b59146cf8735",
   "metadata": {},
   "source": [
    "## Q5- What are the main difference between supervised, unsupervised, and semi-supervised learning?"
   ]
  },
  {
   "cell_type": "markdown",
   "id": "7f048692-a521-432e-95b4-3edeadd62462",
   "metadata": {},
   "source": [
    "### Supervised learning aims to learn a function that, given a sample of data and desired outputs, approximates a function that maps inputs to outputs.\n",
    "### Semi-supervised learning aims to label unlabeled data points using knowledge learned from a small number of labeled data points.\n",
    "### Unsupervised learning does not have (or need) any labeled outputs, so its goal is to infer the natural structure present within a set of data points.\n",
    "### A problem that sits in between supervised and unsupervised learning called semi-supervised learning"
   ]
  },
  {
   "cell_type": "markdown",
   "id": "5d0f8188-bde8-4f9b-9d4b-349e0883be9a",
   "metadata": {},
   "source": [
    "## Q6- What is train, test and validation split? Explain the importance of each term."
   ]
  },
  {
   "cell_type": "markdown",
   "id": "cdd959ed-67c4-4da9-88d5-15224e4a6138",
   "metadata": {},
   "source": [
    "### Train \n",
    "### We train our machine learning modal with some training data set with possible input and output.\n",
    "### Validation\n",
    "### After training the modal we validate our modal with difference data set . We tune our modal .\n",
    "### Test \n",
    "### In this phase we test our modal with unknown data set to find the accuracy."
   ]
  },
  {
   "cell_type": "markdown",
   "id": "921ec12a-1795-4573-b5d3-a622ff9ee380",
   "metadata": {},
   "source": [
    "## Q7- How can unsupervised learning be used in anomaly detection?"
   ]
  },
  {
   "cell_type": "markdown",
   "id": "70c9a479-d827-4bf7-94e7-715b2159f7bc",
   "metadata": {},
   "source": [
    "### This method requires a labeled dataset containing both normal and anomalous samples to construct a predictive model to classify future data points."
   ]
  },
  {
   "cell_type": "markdown",
   "id": "1a576ebe-a3f8-4ff2-bc70-b7efdad5f273",
   "metadata": {},
   "source": [
    "## Q8- List down some commonly used supervised learning algorithms and unsupervised learning algorithms."
   ]
  },
  {
   "cell_type": "markdown",
   "id": "4465303f-6d3a-4f32-8123-0bc8e6fb3860",
   "metadata": {},
   "source": [
    "### Some commonly used supervised learning algorithms are -\n",
    "1) Neural networks\n",
    "2) Naive Bayes\n",
    "3) Linear regression\n",
    "4) Logistic regression\n",
    "5) Support vector machine (SVM)\n",
    "6) K-nearest neighbor\n",
    "7) Random forest\n",
    "### unsupervised learning algorithm\n",
    "1) K-means clustering.\n",
    "2) KNN (k-nearest neighbors)\n",
    "3) Hierarchal clustering.\n",
    "4) Anomaly detection.\n",
    "5) Neural Networks.\n",
    "6) Principle Component Analysis.\n",
    "7) Independent Component Analysis."
   ]
  },
  {
   "cell_type": "code",
   "execution_count": null,
   "id": "171598cc-6c44-40a3-b058-c66e5a85e911",
   "metadata": {},
   "outputs": [],
   "source": []
  }
 ],
 "metadata": {
  "kernelspec": {
   "display_name": "Python 3 (ipykernel)",
   "language": "python",
   "name": "python3"
  },
  "language_info": {
   "codemirror_mode": {
    "name": "ipython",
    "version": 3
   },
   "file_extension": ".py",
   "mimetype": "text/x-python",
   "name": "python",
   "nbconvert_exporter": "python",
   "pygments_lexer": "ipython3",
   "version": "3.10.8"
  }
 },
 "nbformat": 4,
 "nbformat_minor": 5
}
