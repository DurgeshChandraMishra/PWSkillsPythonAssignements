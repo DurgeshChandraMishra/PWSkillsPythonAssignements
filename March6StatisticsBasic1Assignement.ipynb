{
 "cells": [
  {
   "cell_type": "markdown",
   "id": "adc65286-6b0d-4492-b121-75b2cbe4b21d",
   "metadata": {},
   "source": [
    "# March 6 Statistics Basic 1 Assignement"
   ]
  },
  {
   "cell_type": "markdown",
   "id": "d9e5f7c8-5b6b-4df7-945a-7e1233daf60e",
   "metadata": {},
   "source": [
    "## Q1. What is Statistics?"
   ]
  },
  {
   "cell_type": "markdown",
   "id": "c11495a0-9bba-41e4-85f4-703dc04eaf7a",
   "metadata": {},
   "source": [
    "### Statics is the science of collecting, organizing and analyzing data."
   ]
  },
  {
   "cell_type": "markdown",
   "id": "e662cb4f-2927-4402-95fc-382ab02e3a32",
   "metadata": {},
   "source": [
    "## Q2. Define the different types of statistics and give an example of when each type might be used.\n"
   ]
  },
  {
   "cell_type": "markdown",
   "id": "7f330231-9dbd-4906-b229-46cb3b91835c",
   "metadata": {},
   "source": [
    "### There are two types of stattistics\n",
    "1) Descriptive stattistics\n",
    "2) Inferential Stattistics"
   ]
  },
  {
   "cell_type": "markdown",
   "id": "bcab852d-7650-492a-a2bb-775c771ac8df",
   "metadata": {},
   "source": [
    "### Descriptive Statistics inveolves in organizing and summerising data. It is used to measure \n",
    "##### i) Central Tendency of data like maen , median and mode\n",
    "##### ii) Measure of dispersion like standard deviation and varience"
   ]
  },
  {
   "cell_type": "markdown",
   "id": "67ee201c-e6ce-4cf0-82c9-545ff65ab5bd",
   "metadata": {},
   "source": [
    "### Inferential Statistics involves to form the conclusion of the smaple of data for population. It is used to form conclusion based on sample of measured data.\n",
    "### It is widely used where we want to draw a conclusion . like exit poll, weather forcasting etc"
   ]
  },
  {
   "cell_type": "markdown",
   "id": "d8dedb2f-1330-4e29-9133-fb72af2e608c",
   "metadata": {},
   "source": [
    "## Q3. What are the different types of data and how do they differ from each other? Provide an example of each type of data."
   ]
  },
  {
   "cell_type": "markdown",
   "id": "c47b0604-f3cc-49c7-ad37-328cdde1d107",
   "metadata": {},
   "source": [
    "### There are two types of data -\n",
    "#### 1) Quantitative\n",
    "#### 2) Qualitative"
   ]
  },
  {
   "cell_type": "markdown",
   "id": "fcf45ae6-ccf2-4e5d-abbc-91a8fd7e27af",
   "metadata": {},
   "source": [
    "### 1) Quantitative Data\n",
    "#### Quantitative data are numerical data which can be further divided into two parts\n",
    "#### i) Descrete Quantitative Data\n",
    "#### ii) Continuous Quantitative Data"
   ]
  },
  {
   "cell_type": "markdown",
   "id": "202ec240-ec07-49ad-affb-c46a499c809b",
   "metadata": {},
   "source": [
    "#### i) Descrete Quantitative Data\n",
    "##### It is the numerical data which can be connt and can be represent via integers \n",
    "##### Like no of students , age, no of members in a family etc"
   ]
  },
  {
   "cell_type": "markdown",
   "id": "b1012efa-014c-4de6-850c-0ad42fa94901",
   "metadata": {},
   "source": [
    "#### ii) Continuous Quantitative Data\n",
    "##### It is numerical data which can not be count and are represented in the form of floating point numbers\n",
    "##### like temparature, height of a person, voltage etc"
   ]
  },
  {
   "cell_type": "markdown",
   "id": "186bc215-e7ce-4653-b489-0a5b82fb2a81",
   "metadata": {},
   "source": [
    "### 2) Qualitative"
   ]
  },
  {
   "cell_type": "markdown",
   "id": "4fd726fc-c328-41c4-bf41-ad467a7de14a",
   "metadata": {},
   "source": [
    "### The qualitative data are categorical data . They represents catogory of the data.They are further categorized in two parts\n",
    "### 1) Nominal\n",
    "### 2) Ordinal\n",
    "### i) Nominal\n",
    "#### Nomnal data are data which can not be ordered and ranked like Sex of person, color,blood group etc\n",
    "### ii) Ordinal Data\n",
    "#### Ordinal data are data which can be ordered and ranked like grade of the student, reviews of an product etc"
   ]
  },
  {
   "cell_type": "markdown",
   "id": "840c205e-3c65-4700-9ac2-095ce3df5b06",
   "metadata": {},
   "source": [
    "## Q4. Categorise the following datasets with respect to quantitative and qualitative data types:\n",
    "(i) Grading in exam: A+, A, B+, B, C+, C, D, E\\\n",
    "(ii) Colour of mangoes: yellow, green, orange, red\\\n",
    "(iii) Height data of a class: [178.9, 179, 179.5, 176, 177.2, 178.3, 175.8,...]\\\n",
    "(iv) Number of mangoes exported by a farm: [500, 600, 478, 672, ...]\\"
   ]
  },
  {
   "cell_type": "markdown",
   "id": "a150c00e-99ce-4b38-b352-c4d9e387a6a5",
   "metadata": {},
   "source": [
    "### (i) Ordinal Qualitative Data\n",
    "### (ii) Nominal Qualitative Data\n",
    "### (iii) Continuous Quantitative data\n",
    "### (iv) Descrete Quantitative data"
   ]
  },
  {
   "cell_type": "markdown",
   "id": "24dd095b-7d9d-478a-a253-507f15084268",
   "metadata": {},
   "source": [
    "## Q5. Explain the concept of levels of measurement and give an example of a variable for each level."
   ]
  },
  {
   "cell_type": "markdown",
   "id": "ab2be4ed-f94d-45f4-b7d8-7e5927df408d",
   "metadata": {},
   "source": [
    "### The levels of measurement shows how precisely variables are recorded"
   ]
  },
  {
   "cell_type": "markdown",
   "id": "ed33b215-6b7d-4622-a206-e8a94a1564ea",
   "metadata": {},
   "source": [
    "### 1) Nominal scale data\n",
    "### These are data which can be categorized but there is no order between the catogories and they have fixed set odf categories like Gender,City of birth,Marital stattus etc"
   ]
  },
  {
   "cell_type": "markdown",
   "id": "13b0f934-95e1-46d5-823d-0c54d85f2a58",
   "metadata": {},
   "source": [
    "### 2) Ordinal Scale Data\n",
    "### We can categorize and rank our data in an order, but we cannot say anything about the intervals between the rankings.i.e. Differences between categories can not be measured.\n",
    "#### Like we can rank the top 5 Olympic medallists, this scale does not tell how close or far apart they are in number of wins.\n",
    "#### another example is review of a product can be ranked from 1 to 5 "
   ]
  },
  {
   "cell_type": "markdown",
   "id": "a399a6aa-729f-4544-9109-8c46eea19315",
   "metadata": {},
   "source": [
    "### 3) Interval scale data\n",
    "### In this type of data . Data can be categorized, ordered and differences between categories can be measured.We can infer equal interval between neighboring data points.In such type there is no true zero point.\n",
    "### For example exam scores,Temperature in Fahrenheit or Celsius etc"
   ]
  },
  {
   "cell_type": "markdown",
   "id": "f3e82f50-2b84-4321-9af4-a18710ff67a0",
   "metadata": {},
   "source": [
    "### 4) Ratio scale data\n",
    "### We can categorize, rank, and infer equal intervals between neighboring data points, and there is a true zero point\n",
    "### A true zero means there is an absence of the variable of interest. In ratio scales, zero does mean an absolute lack of the variable.\n",
    "### For example, in the Kelvin temperature scale, there are no negative degrees of temperature – zero means an absolute lack of thermal energy.\n",
    "### Other examples are Height, weight, Age etc"
   ]
  },
  {
   "cell_type": "markdown",
   "id": "c1b628b4-2649-4fce-9f21-60e0a4e09ae8",
   "metadata": {},
   "source": [
    "## Q6. Why is it important to understand the level of measurement when analyzing data? Provide an example to illustrate our answer."
   ]
  },
  {
   "cell_type": "markdown",
   "id": "3a002ff8-2bf7-4618-8175-23aefefba890",
   "metadata": {},
   "source": [
    "### The level at which we measure a variable determines how we can analyze our data.\n",
    "\n",
    "### The different levels limit which descriptive statistics we can use to get an overall summary of our data, and which type of inferential statistics we can perform on our data to support or refute our hypothesis.\n",
    "\n",
    "### In many cases, our variables can be measured at different levels, so we have to choose the level of measurement we will use before data collection begins\n",
    "## We can measure the variable of income at an ordinal or ratio level.\n",
    "\n",
    "    Ordinal level: You create brackets of income ranges: $0–$19,999, $20,000–$39,999, and $40,000–$59,999. You ask participants to select the bracket that represents their annual income. The brackets are coded with numbers from 1–3.\n",
    "    Ratio level: You collect data on the exact annual incomes of your participants.\n"
   ]
  },
  {
   "cell_type": "markdown",
   "id": "e911ba80-c544-4c4a-a8a2-7e478a40709e",
   "metadata": {},
   "source": [
    "### Participant \tIncome (ordinal level) \tIncome (ratio level)\n",
    "    A \tBracket 1 \t$12,550\n",
    "    B \tBracket 2 \t$39,700\n",
    "    C \tBracket 3 \t$40,300"
   ]
  },
  {
   "cell_type": "markdown",
   "id": "7d2d4d26-01f5-4c9a-8c79-e2941b8aeac8",
   "metadata": {},
   "source": [
    "### At a ratio level, we can see that the difference between A and B’s incomes is far greater than the difference between B and C’s incomes.\n",
    "\n",
    "### At an ordinal level, however, we only know the income bracket for each participant, not their exact income. Since we cannot say exactly how much each income differs from the others in our data set, we can only order the income levels and group the participants."
   ]
  },
  {
   "cell_type": "markdown",
   "id": "eb1d10c2-1734-4445-b5ac-687589dff5ab",
   "metadata": {},
   "source": [
    "## Q7. How nominal data type is different from ordinal data type.\n",
    "### Nominal data are categorical data which can not be ordered, ranked.\n",
    "### For example gender,color,blood group etc\n",
    "### Where as Ordinal data type can be ordered and ranked like review of product, grade of exam etc"
   ]
  },
  {
   "cell_type": "markdown",
   "id": "0e53088a-3424-4411-aa40-94be290ef16a",
   "metadata": {},
   "source": [
    "## Q8. Which type of plot can be used to display data in terms of range?"
   ]
  },
  {
   "cell_type": "markdown",
   "id": "18b0d310-b17e-4dc3-97ed-b4fc002e1006",
   "metadata": {},
   "source": [
    "### We can plot Histogram to display data in terms of range"
   ]
  },
  {
   "cell_type": "markdown",
   "id": "94aaa2ca-0d40-4d3a-b4b9-bdcbca363877",
   "metadata": {},
   "source": [
    "## Q9. Describe the difference between descriptive and inferential statistics. Give an example of each type of statistics and explain how they are used."
   ]
  },
  {
   "cell_type": "markdown",
   "id": "06c8bcfc-4404-4728-9447-6c36604753b0",
   "metadata": {},
   "source": [
    "### Descriptive stattistics involves in organizing and summerizing data sets where as inferential stattisticsinvolve in forming conclusion based on measured data."
   ]
  },
  {
   "cell_type": "markdown",
   "id": "b13e6686-aff8-4c8c-bef6-fad739a7ea07",
   "metadata": {},
   "source": [
    "### We can measure mean,median,mode,variance and standard deviation where as inferential statistics involes in z test , t test etc\n",
    "### Examples of descriptive statics are . Get the average of age of students of a class, Example of inferential statistics are exit poll, weather forcasting etc"
   ]
  },
  {
   "cell_type": "markdown",
   "id": "befdcd02-85ac-4fa8-817f-bbd014419af3",
   "metadata": {},
   "source": [
    "## Q10. What are some common measures of central tendency and variability used in statistics? Explain how each measure can be used to describe a dataset."
   ]
  },
  {
   "cell_type": "markdown",
   "id": "c730c0ec-7532-4e5d-a8dd-f8b50ad8de2c",
   "metadata": {},
   "source": [
    "### Measures of central tendency help us find the middle, or the average, of a dataset. The 3 most common measures of central tendency are the mode, median, and mean.\n",
    "\n",
    "    Mode: the most frequent value.\n",
    "    Median: the middle number in an ordered dataset.\n",
    "    Mean: the sum of all values divided by the total number of values.\n",
    "\n",
    "### In addition to central tendency, the variability and distribution of our dataset is important to understand when performing descriptive statistics.\n",
    "\n",
    "### The measures of central tendency we can use depends on the level of measurement of our data.\n",
    "\n",
    "        For a nominal level, we can only use the mode to find the most frequent value.\n",
    "        For an ordinal level or ranked data, we can also use the median to find the value in the middle of our data set.\n",
    "        For interval or ratio levels, in addition to the mode and median, we can use the mean to find the average value.\n",
    "\n"
   ]
  },
  {
   "cell_type": "code",
   "execution_count": null,
   "id": "dac34339-f209-4b79-ae5c-004e9e136371",
   "metadata": {},
   "outputs": [],
   "source": []
  }
 ],
 "metadata": {
  "kernelspec": {
   "display_name": "Python 3 (ipykernel)",
   "language": "python",
   "name": "python3"
  },
  "language_info": {
   "codemirror_mode": {
    "name": "ipython",
    "version": 3
   },
   "file_extension": ".py",
   "mimetype": "text/x-python",
   "name": "python",
   "nbconvert_exporter": "python",
   "pygments_lexer": "ipython3",
   "version": "3.10.8"
  }
 },
 "nbformat": 4,
 "nbformat_minor": 5
}
