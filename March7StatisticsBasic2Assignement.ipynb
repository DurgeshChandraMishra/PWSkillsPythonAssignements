{
 "cells": [
  {
   "cell_type": "markdown",
   "id": "042c55c0-31d1-4742-8b16-567f9a8b162b",
   "metadata": {},
   "source": [
    "# March 7 Stattistics basic 2 assignement"
   ]
  },
  {
   "cell_type": "markdown",
   "id": "84034e49-b460-41d2-87b4-179a544f7f53",
   "metadata": {},
   "source": [
    "## Q1. What are the three measures of central tendency?"
   ]
  },
  {
   "cell_type": "markdown",
   "id": "022765f3-89ec-4d5a-b322-e3e346641f30",
   "metadata": {},
   "source": [
    "### Thre measures of central tendency are\n",
    "1) mean - calculates average of data set\n",
    "2) median - finds the meddle value in a data set\n",
    "3) mode - finds the most frequent element of data set"
   ]
  },
  {
   "cell_type": "markdown",
   "id": "250042cd-72a5-4a6b-8951-714a64cfdc1d",
   "metadata": {},
   "source": [
    "## Q2. What is the difference between the mean, median, and mode? How are they used to measure the central tendency of a dataset?"
   ]
  },
  {
   "cell_type": "markdown",
   "id": "1100f360-a0a9-4859-9f49-cde50ab97e47",
   "metadata": {},
   "source": [
    "### Mean is the verage of a data set where as median is the middle value in a data set where as mode is the most frequent element.\n",
    "### lets say there is a data set as\n"
   ]
  },
  {
   "cell_type": "code",
   "execution_count": 5,
   "id": "9d6740f5-bbbf-4cd9-85a9-bd0f81ffb9f4",
   "metadata": {},
   "outputs": [
    {
     "data": {
      "text/plain": [
       "6.083333333333333"
      ]
     },
     "execution_count": 5,
     "metadata": {},
     "output_type": "execute_result"
    }
   ],
   "source": [
    "from functools import reduce\n",
    "ds = [1,2,3,4,5,3,6,7,10,20,5,7]\n",
    "mean = reduce(lambda x,y : x+y,ds)/len(ds)\n",
    "mean"
   ]
  },
  {
   "cell_type": "markdown",
   "id": "5fc80814-7501-45af-b425-e44c49793057",
   "metadata": {},
   "source": [
    "### Meadian is calculated by ordering the data set and then find the value at the middle position by following rule\n",
    "1) if there are odd numbers of element then the number at position (n/2 + 1)th is the median\n",
    "2) if there are even numbers then (number at position n/2 + number at position(n/2 +1)) / 2"
   ]
  },
  {
   "cell_type": "code",
   "execution_count": 6,
   "id": "f2fd0b7b-dcb2-4577-ad5c-ba0819a2706b",
   "metadata": {},
   "outputs": [
    {
     "data": {
      "text/plain": [
       "12"
      ]
     },
     "execution_count": 6,
     "metadata": {},
     "output_type": "execute_result"
    }
   ],
   "source": [
    "len(ds)"
   ]
  },
  {
   "cell_type": "code",
   "execution_count": 9,
   "id": "146c6f19-013c-4949-81b3-01753ba9eff1",
   "metadata": {},
   "outputs": [
    {
     "data": {
      "text/plain": [
       "[1, 2, 3, 3, 4, 5, 5, 6, 7, 7, 10, 20]"
      ]
     },
     "execution_count": 9,
     "metadata": {},
     "output_type": "execute_result"
    }
   ],
   "source": [
    "ds.sort()\n",
    "ds"
   ]
  },
  {
   "cell_type": "markdown",
   "id": "1914a58c-acd2-4bd1-8d44-6230ce98b92e",
   "metadata": {},
   "source": [
    "### here as per calculation it should be 5\n",
    "### we can also use numpy to demonstrate this"
   ]
  },
  {
   "cell_type": "code",
   "execution_count": 7,
   "id": "987d43c5-9d62-4cb3-b267-20a166b914d7",
   "metadata": {},
   "outputs": [
    {
     "data": {
      "text/plain": [
       "5.0"
      ]
     },
     "execution_count": 7,
     "metadata": {},
     "output_type": "execute_result"
    }
   ],
   "source": [
    "\n",
    "import numpy as np\n",
    "np.median(ds)"
   ]
  },
  {
   "cell_type": "markdown",
   "id": "3aa1cb54-869e-4278-95cd-4283603eb73a",
   "metadata": {},
   "source": [
    "### Now mode "
   ]
  },
  {
   "cell_type": "code",
   "execution_count": 16,
   "id": "5e8a41a9-05aa-43c7-8292-2c15d2bdfb6b",
   "metadata": {},
   "outputs": [],
   "source": [
    "import pandas as pd"
   ]
  },
  {
   "cell_type": "code",
   "execution_count": 18,
   "id": "68027e95-0a90-4fe6-b5b5-437b35aa06c6",
   "metadata": {},
   "outputs": [
    {
     "data": {
      "text/plain": [
       "0      1\n",
       "1      2\n",
       "2      3\n",
       "3      3\n",
       "4      4\n",
       "5      5\n",
       "6      5\n",
       "7      6\n",
       "8      7\n",
       "9      7\n",
       "10    10\n",
       "11    20\n",
       "dtype: int64"
      ]
     },
     "execution_count": 18,
     "metadata": {},
     "output_type": "execute_result"
    }
   ],
   "source": [
    "df = pd.Series(ds)\n",
    "df"
   ]
  },
  {
   "cell_type": "code",
   "execution_count": 19,
   "id": "84083e76-23b6-4ffd-821f-416a8b49df92",
   "metadata": {},
   "outputs": [
    {
     "data": {
      "text/plain": [
       "0    3\n",
       "1    5\n",
       "2    7\n",
       "dtype: int64"
      ]
     },
     "execution_count": 19,
     "metadata": {},
     "output_type": "execute_result"
    }
   ],
   "source": [
    "df.mode()"
   ]
  },
  {
   "cell_type": "markdown",
   "id": "ff1dd6a1-20c3-4fce-b272-c9d68fa0610f",
   "metadata": {},
   "source": [
    "### Q3. Measure the three measures of central tendency for the given height data:\n",
    "[178,177,176,177,178.2,178,175,179,180,175,178.9,176.2,177,172.5,178,176.5]"
   ]
  },
  {
   "cell_type": "code",
   "execution_count": 20,
   "id": "e3cd8a10-3d3a-46f4-9666-6453a0317018",
   "metadata": {},
   "outputs": [],
   "source": [
    "ls = [178,177,176,177,178.2,178,175,179,180,175,178.9,176.2,177,172.5,178,176.5]"
   ]
  },
  {
   "cell_type": "code",
   "execution_count": 21,
   "id": "11f05228-8414-4390-b3de-a7f455f64603",
   "metadata": {},
   "outputs": [],
   "source": [
    "ds = pd.Series(ls)"
   ]
  },
  {
   "cell_type": "code",
   "execution_count": 22,
   "id": "0a63b540-d017-49ea-95b9-5ad2f23510ec",
   "metadata": {},
   "outputs": [
    {
     "data": {
      "text/plain": [
       "177.01875"
      ]
     },
     "execution_count": 22,
     "metadata": {},
     "output_type": "execute_result"
    }
   ],
   "source": [
    "ds.mean()"
   ]
  },
  {
   "cell_type": "code",
   "execution_count": 23,
   "id": "635cd72b-996c-43ed-b438-bc69ac938ade",
   "metadata": {},
   "outputs": [
    {
     "data": {
      "text/plain": [
       "177.0"
      ]
     },
     "execution_count": 23,
     "metadata": {},
     "output_type": "execute_result"
    }
   ],
   "source": [
    "ds.median()"
   ]
  },
  {
   "cell_type": "code",
   "execution_count": 24,
   "id": "d18c049e-bbc7-4864-8473-16f298445670",
   "metadata": {},
   "outputs": [
    {
     "data": {
      "text/plain": [
       "0    177.0\n",
       "1    178.0\n",
       "dtype: float64"
      ]
     },
     "execution_count": 24,
     "metadata": {},
     "output_type": "execute_result"
    }
   ],
   "source": [
    "ds.mode()"
   ]
  },
  {
   "cell_type": "markdown",
   "id": "319ebf5a-2e48-4823-a4a9-7daac243ec72",
   "metadata": {},
   "source": [
    "## Q4. Find the standard deviation for the given data:\n",
    "[178,177,176,177,178.2,178,175,179,180,175,178.9,176.2,177,172.5,178,176.5]"
   ]
  },
  {
   "cell_type": "code",
   "execution_count": 25,
   "id": "01800d7d-d45c-42fc-a293-2a25fd16e31a",
   "metadata": {},
   "outputs": [],
   "source": [
    "ls = [178,177,176,177,178.2,178,175,179,180,175,178.9,176.2,177,172.5,178,176.5]"
   ]
  },
  {
   "cell_type": "code",
   "execution_count": 26,
   "id": "b67b9581-8745-4169-83f1-d577f51bd91d",
   "metadata": {},
   "outputs": [],
   "source": [
    "ds = pd.Series(ls)"
   ]
  },
  {
   "cell_type": "code",
   "execution_count": 27,
   "id": "a3f59562-856e-4616-b5bf-db36989ce9bd",
   "metadata": {},
   "outputs": [
    {
     "data": {
      "text/plain": [
       "1.847238930584419"
      ]
     },
     "execution_count": 27,
     "metadata": {},
     "output_type": "execute_result"
    }
   ],
   "source": [
    "ds.std()"
   ]
  },
  {
   "cell_type": "markdown",
   "id": "e73ac1af-989e-42ab-8184-df6d36128eaa",
   "metadata": {},
   "source": [
    "# Q5. How are measures of dispersion such as range, variance, and standard deviation used to describe the spread of a dataset? Provide an example."
   ]
  },
  {
   "cell_type": "markdown",
   "id": "314ba3f6-b31c-44db-bfb0-37fd274f6605",
   "metadata": {},
   "source": [
    "### Range: the difference between the highest and lowest values\n",
    "### Standard deviation: average distance from the mean\n",
    "### Variance: average of squared distances from the mean\n"
   ]
  },
  {
   "cell_type": "markdown",
   "id": "90baefbc-739c-41b8-b28b-3a31997d55c0",
   "metadata": {},
   "source": [
    "### For example"
   ]
  },
  {
   "cell_type": "code",
   "execution_count": 28,
   "id": "8b03a1c8-bda5-4745-8155-4dc52b040808",
   "metadata": {},
   "outputs": [],
   "source": [
    "speed = [72 ,\t110 ,\t134 ,\t190 ,\t238 ,\t287 ,\t305 ,\t324]"
   ]
  },
  {
   "cell_type": "code",
   "execution_count": 29,
   "id": "459c5729-eefe-42b0-9712-fea86af25a9c",
   "metadata": {},
   "outputs": [
    {
     "data": {
      "text/plain": [
       "[72, 110, 134, 190, 238, 287, 305, 324]"
      ]
     },
     "execution_count": 29,
     "metadata": {},
     "output_type": "execute_result"
    }
   ],
   "source": [
    "speed"
   ]
  },
  {
   "cell_type": "code",
   "execution_count": 31,
   "id": "0accd8db-bb3a-4221-b389-5193ed271dd2",
   "metadata": {},
   "outputs": [
    {
     "data": {
      "text/plain": [
       "252"
      ]
     },
     "execution_count": 31,
     "metadata": {},
     "output_type": "execute_result"
    }
   ],
   "source": [
    "r = np.max(speed) - np.min(speed)\n",
    "r"
   ]
  },
  {
   "cell_type": "markdown",
   "id": "3274cb76-6d95-40f8-b3ba-3b39a2474144",
   "metadata": {},
   "source": [
    "### range is 252"
   ]
  },
  {
   "cell_type": "code",
   "execution_count": 33,
   "id": "6a8d8c08-8fbb-4e75-b5f3-6af38be062db",
   "metadata": {},
   "outputs": [
    {
     "data": {
      "text/plain": [
       "207.5"
      ]
     },
     "execution_count": 33,
     "metadata": {},
     "output_type": "execute_result"
    }
   ],
   "source": [
    "np.mean(speed)"
   ]
  },
  {
   "cell_type": "code",
   "execution_count": 34,
   "id": "bb394885-a54d-4888-95bb-e0f8b645f00a",
   "metadata": {},
   "outputs": [
    {
     "data": {
      "text/plain": [
       "89.37561188601732"
      ]
     },
     "execution_count": 34,
     "metadata": {},
     "output_type": "execute_result"
    }
   ],
   "source": [
    "np.std(speed)"
   ]
  },
  {
   "cell_type": "markdown",
   "id": "55f209c5-fe0e-401f-a03a-9804450d17ca",
   "metadata": {},
   "source": [
    "### Standard deviation is 89.375"
   ]
  },
  {
   "cell_type": "markdown",
   "id": "d4606ad9-106c-4f25-aeca-89f00d1f414f",
   "metadata": {},
   "source": [
    "### Variance reflects the degree of spread in the data set. The more spread the data, the larger the variance is in relation to the mean."
   ]
  },
  {
   "cell_type": "code",
   "execution_count": 35,
   "id": "a31f1b2d-01df-440f-9f64-5d901b4b1e6f",
   "metadata": {},
   "outputs": [
    {
     "data": {
      "text/plain": [
       "7988.0"
      ]
     },
     "execution_count": 35,
     "metadata": {},
     "output_type": "execute_result"
    }
   ],
   "source": [
    "np.var(speed)"
   ]
  },
  {
   "cell_type": "markdown",
   "id": "60acaf51-4fba-4409-8eb8-09a954d6b6de",
   "metadata": {},
   "source": [
    "## Q6. What is a Venn diagram?"
   ]
  },
  {
   "cell_type": "markdown",
   "id": "5229a84a-28dc-43c8-846c-df04592d6be8",
   "metadata": {},
   "source": [
    "### A Venn diagram is an illustration that uses circles to show the relationships among things or finite groups of things. Circles that overlap have a commonality while circles that do not overlap do not share those traits. Venn diagrams help to visually represent the similarities and differences between two concepts."
   ]
  },
  {
   "cell_type": "markdown",
   "id": "58582f09-183f-44dd-b2d9-9af10860f8c7",
   "metadata": {},
   "source": [
    "## Q7. For the two given sets A = (2,3,4,5,6,7) & B = (0,2,6,8,10). Find:\n",
    "(i) A intersection B\n",
    "(ii) A ⋃ B"
   ]
  },
  {
   "cell_type": "markdown",
   "id": "1d607c5f-6490-4f40-91c2-4fa4f6f8b651",
   "metadata": {},
   "source": [
    "### i){2,6}\n",
    "### ii) {0,2,3,4,5,6,7,8,10}"
   ]
  },
  {
   "cell_type": "markdown",
   "id": "68917284-97f7-4f39-a77b-828e1c5e2d9c",
   "metadata": {},
   "source": [
    "## Q8. What do you understand about skewness in data?"
   ]
  },
  {
   "cell_type": "markdown",
   "id": "1cbcb246-eb4c-43e6-bc0d-11d66db9568e",
   "metadata": {},
   "source": [
    "### Skewness is a measure of the asymmetry of a distribution. A distribution is asymmetrical when its left and right side are not mirror images.\n",
    "\n",
    "### A distribution can have right (or positive), left (or negative), or zero skewness. A right-skewed distribution is longer on the right side of its peak, and a left-skewed distribution is longer on the left side of its peak:"
   ]
  },
  {
   "cell_type": "markdown",
   "id": "4b6f410a-fbfb-453d-a064-28d3b467d2a0",
   "metadata": {},
   "source": [
    "## Q9. If a data is right skewed then what will be the position of median with respect to mean?"
   ]
  },
  {
   "cell_type": "markdown",
   "id": "4ab3eeee-7f98-497b-a32f-35f1ee761502",
   "metadata": {},
   "source": [
    "### If a data set is right skewed then mean>meadian>mode"
   ]
  },
  {
   "cell_type": "markdown",
   "id": "9d919524-75b7-4080-b5c2-2f61cd0d2fcb",
   "metadata": {},
   "source": [
    "## Q10. Explain the difference between covariance and correlation. How are these measures used in statistical analysis?"
   ]
  },
  {
   "cell_type": "markdown",
   "id": "74a0990d-3841-45da-9efa-cfc72fdfa2a7",
   "metadata": {},
   "source": [
    "### Covariance used to find the relationship between two variables when one change. When one increases and other also increases this is positive covariance. When one increase and other decrease then it is negative covariance. It only indicates direction but not strength."
   ]
  },
  {
   "cell_type": "markdown",
   "id": "a963fa1a-43e9-4211-b157-bf1251f84cee",
   "metadata": {},
   "source": [
    "### Correlation is also used to find relationship between two variable but It also measures the strength and direction both"
   ]
  },
  {
   "cell_type": "markdown",
   "id": "a0c1e373-2d76-4194-9030-450725022ff9",
   "metadata": {},
   "source": [
    "#### These measures are used to analys the strength of relationship between variables"
   ]
  },
  {
   "cell_type": "markdown",
   "id": "fbef7702-fd70-40ee-84d4-f65287301093",
   "metadata": {},
   "source": [
    "## Q11. What is the formula for calculating the sample mean? Provide an example calculation for a dataset."
   ]
  },
  {
   "cell_type": "markdown",
   "id": "39e81707-3b2e-48e8-aac4-21dcf3d2e531",
   "metadata": {},
   "source": [
    "### Formula for sample mean is"
   ]
  },
  {
   "cell_type": "markdown",
   "id": "3c690393-10ac-42ed-b7bb-a4cbfb2c8586",
   "metadata": {},
   "source": [
    "$\\bar{x} = \\dfrac{\\sum x}{n}$"
   ]
  },
  {
   "cell_type": "markdown",
   "id": "0d2bf8de-9531-4bdb-bd2c-f42d088724b0",
   "metadata": {},
   "source": [
    "$\\bar{x}$= sample mean\\\n",
    "$\\sum x$ = sum of each value in the sample\\\n",
    "n = number of values in the population\n"
   ]
  },
  {
   "cell_type": "code",
   "execution_count": 6,
   "id": "20c96107-2133-47b9-adea-da71267b8195",
   "metadata": {},
   "outputs": [],
   "source": [
    "ls = [2,4,6,5,2,7,9,10,11,13,5,7,8]"
   ]
  },
  {
   "cell_type": "code",
   "execution_count": 3,
   "id": "39a3d46e-f15d-48fb-8a31-a48e36efb2ec",
   "metadata": {},
   "outputs": [
    {
     "data": {
      "text/plain": [
       "89"
      ]
     },
     "execution_count": 3,
     "metadata": {},
     "output_type": "execute_result"
    }
   ],
   "source": [
    "sum(ls)"
   ]
  },
  {
   "cell_type": "code",
   "execution_count": 4,
   "id": "13421a02-9ed8-43ec-b39b-70f0570e69bf",
   "metadata": {},
   "outputs": [
    {
     "data": {
      "text/plain": [
       "13"
      ]
     },
     "execution_count": 4,
     "metadata": {},
     "output_type": "execute_result"
    }
   ],
   "source": [
    "len(ls)\n"
   ]
  },
  {
   "cell_type": "code",
   "execution_count": 5,
   "id": "c0a244c4-f1ca-459f-a6dd-3fa091d0ca7a",
   "metadata": {},
   "outputs": [
    {
     "data": {
      "text/plain": [
       "6.846153846153846"
      ]
     },
     "execution_count": 5,
     "metadata": {},
     "output_type": "execute_result"
    }
   ],
   "source": [
    "sample_mean = sum(ls) / len(ls)\n",
    "sample_mean"
   ]
  },
  {
   "cell_type": "markdown",
   "id": "0650be6a-69ca-4482-9825-67282958442e",
   "metadata": {},
   "source": [
    "## Q12. For a normal distribution data what is the relationship between its measure of central tendency?"
   ]
  },
  {
   "cell_type": "markdown",
   "id": "e828d1c1-4511-49d7-aa35-98af3bf71383",
   "metadata": {},
   "source": [
    "### For normall distribution data mean is equivalanent to median and mode. They all lie at same point"
   ]
  },
  {
   "cell_type": "markdown",
   "id": "303f9134-425c-431d-9a06-cfb45ec8b6bc",
   "metadata": {},
   "source": [
    "## Q13. How is covariance different from correlation?"
   ]
  },
  {
   "cell_type": "markdown",
   "id": "0a305e52-923b-4edb-9020-62861ab02848",
   "metadata": {},
   "source": [
    "### Covariance is an indicator of the extent to which 2 random variables are dependent on each other. A higher number denotes higher dependency.\n",
    "### Correlation is a statistical measure that indicates how strongly two variables are related."
   ]
  },
  {
   "cell_type": "markdown",
   "id": "626d2d29-8898-4528-80a0-572c6b07107a",
   "metadata": {},
   "source": [
    "## Q14. How do outliers affect measures of central tendency and dispersion? Provide an example."
   ]
  },
  {
   "cell_type": "markdown",
   "id": "50469bc5-bca4-4ff2-819f-a1803a82dea7",
   "metadata": {},
   "source": [
    "### Outliiers affects mean but very less effect on median and no effect on mode. It also affects standard deviation and variance"
   ]
  },
  {
   "cell_type": "code",
   "execution_count": 13,
   "id": "24d0c678-385c-4622-8d2d-88b8397ed43d",
   "metadata": {},
   "outputs": [],
   "source": [
    "ls = [2,3,4,5,6,7,8,8,9,9,9,10]"
   ]
  },
  {
   "cell_type": "markdown",
   "id": "513384e3-9b6b-41d4-9b8d-f3f57c0c3184",
   "metadata": {},
   "source": [
    "Here ls has no outlier lets get measures of tendency and dispersion"
   ]
  },
  {
   "cell_type": "code",
   "execution_count": 10,
   "id": "38e1a174-8454-47e8-99f6-564097c49fbb",
   "metadata": {},
   "outputs": [],
   "source": [
    "import pandas as pd"
   ]
  },
  {
   "cell_type": "code",
   "execution_count": 14,
   "id": "f15c5820-70df-44d4-b5d0-a690ef905448",
   "metadata": {},
   "outputs": [],
   "source": [
    "ds = pd.Series(ls)"
   ]
  },
  {
   "cell_type": "code",
   "execution_count": 15,
   "id": "72f218f9-0e69-472f-b7d1-6c425e37e449",
   "metadata": {},
   "outputs": [
    {
     "data": {
      "text/plain": [
       "6.666666666666667"
      ]
     },
     "execution_count": 15,
     "metadata": {},
     "output_type": "execute_result"
    }
   ],
   "source": [
    "ds.mean()"
   ]
  },
  {
   "cell_type": "code",
   "execution_count": 16,
   "id": "5cf9823e-b941-44e7-b34c-2194db8dfda2",
   "metadata": {},
   "outputs": [
    {
     "data": {
      "text/plain": [
       "7.5"
      ]
     },
     "execution_count": 16,
     "metadata": {},
     "output_type": "execute_result"
    }
   ],
   "source": [
    "ds.median()"
   ]
  },
  {
   "cell_type": "code",
   "execution_count": 18,
   "id": "40634bcd-dcc8-484f-87cf-b197a7da3f6e",
   "metadata": {},
   "outputs": [
    {
     "data": {
      "text/plain": [
       "0    9\n",
       "dtype: int64"
      ]
     },
     "execution_count": 18,
     "metadata": {},
     "output_type": "execute_result"
    }
   ],
   "source": [
    "ds.mode()"
   ]
  },
  {
   "cell_type": "code",
   "execution_count": 19,
   "id": "a9e99d35-c92b-4633-b11c-bd36bcee5c9f",
   "metadata": {},
   "outputs": [
    {
     "data": {
      "text/plain": [
       "2.640018365409031"
      ]
     },
     "execution_count": 19,
     "metadata": {},
     "output_type": "execute_result"
    }
   ],
   "source": [
    "ds.std()"
   ]
  },
  {
   "cell_type": "code",
   "execution_count": 20,
   "id": "7f4ba5fa-649f-42b3-9662-366404e2ecdd",
   "metadata": {},
   "outputs": [
    {
     "data": {
      "text/plain": [
       "6.9696969696969715"
      ]
     },
     "execution_count": 20,
     "metadata": {},
     "output_type": "execute_result"
    }
   ],
   "source": [
    "ds.var()"
   ]
  },
  {
   "cell_type": "markdown",
   "id": "08a59905-3ff4-4d63-a008-5e060ea1d4ac",
   "metadata": {},
   "source": [
    "Now let say add one outlier"
   ]
  },
  {
   "cell_type": "code",
   "execution_count": 21,
   "id": "43f93ddc-e004-477e-9db9-db7b136d698e",
   "metadata": {},
   "outputs": [],
   "source": [
    "ls = [2,3,4,5,6,7,8,8,9,9,9,10,100]"
   ]
  },
  {
   "cell_type": "code",
   "execution_count": 22,
   "id": "ee84365a-90b8-4946-9faa-d6a049fa72bb",
   "metadata": {},
   "outputs": [],
   "source": [
    "ds = pd.Series(ls)"
   ]
  },
  {
   "cell_type": "code",
   "execution_count": 23,
   "id": "108daae6-768a-46fe-a7fc-495c2a87ea3d",
   "metadata": {},
   "outputs": [
    {
     "data": {
      "text/plain": [
       "13.846153846153847"
      ]
     },
     "execution_count": 23,
     "metadata": {},
     "output_type": "execute_result"
    }
   ],
   "source": [
    "ds.mean()"
   ]
  },
  {
   "cell_type": "code",
   "execution_count": 24,
   "id": "10368f62-0a7c-457e-8948-ee43c35dca17",
   "metadata": {},
   "outputs": [
    {
     "data": {
      "text/plain": [
       "8.0"
      ]
     },
     "execution_count": 24,
     "metadata": {},
     "output_type": "execute_result"
    }
   ],
   "source": [
    "ds.median()"
   ]
  },
  {
   "cell_type": "code",
   "execution_count": 25,
   "id": "a25d571f-461e-40de-8d40-483c043d398c",
   "metadata": {},
   "outputs": [
    {
     "data": {
      "text/plain": [
       "0    9\n",
       "dtype: int64"
      ]
     },
     "execution_count": 25,
     "metadata": {},
     "output_type": "execute_result"
    }
   ],
   "source": [
    "ds.mode()"
   ]
  },
  {
   "cell_type": "code",
   "execution_count": 26,
   "id": "5016215d-a708-4e28-be0a-4a43407fe42d",
   "metadata": {},
   "outputs": [
    {
     "data": {
      "text/plain": [
       "26.009120688219333"
      ]
     },
     "execution_count": 26,
     "metadata": {},
     "output_type": "execute_result"
    }
   ],
   "source": [
    "ds.std()"
   ]
  },
  {
   "cell_type": "code",
   "execution_count": 27,
   "id": "4e2ac8b5-79a4-47bf-9cbb-8a9cf3b412be",
   "metadata": {},
   "outputs": [
    {
     "data": {
      "text/plain": [
       "676.474358974359"
      ]
     },
     "execution_count": 27,
     "metadata": {},
     "output_type": "execute_result"
    }
   ],
   "source": [
    "ds.var()"
   ]
  },
  {
   "cell_type": "code",
   "execution_count": null,
   "id": "c2ada650-3ce3-4932-b921-05d8821d5035",
   "metadata": {},
   "outputs": [],
   "source": []
  }
 ],
 "metadata": {
  "kernelspec": {
   "display_name": "Python 3 (ipykernel)",
   "language": "python",
   "name": "python3"
  },
  "language_info": {
   "codemirror_mode": {
    "name": "ipython",
    "version": 3
   },
   "file_extension": ".py",
   "mimetype": "text/x-python",
   "name": "python",
   "nbconvert_exporter": "python",
   "pygments_lexer": "ipython3",
   "version": "3.10.8"
  }
 },
 "nbformat": 4,
 "nbformat_minor": 5
}
